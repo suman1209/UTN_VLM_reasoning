{
 "cells": [
  {
   "cell_type": "code",
   "execution_count": null,
   "metadata": {},
   "outputs": [],
   "source": [
    "# Configs\n",
    "%load_ext autoreload\n",
    "%autoreload 3\n",
    "## other standard packages\n",
    "import sys\n",
    "## Env variables and preparation stuffs\n",
    "sys.path.insert(0, \"../\")\n",
    "from src_code.data_utils.dataset import GridDataset\n",
    "from src_code.data_utils.dataset_utils import CellType\n",
    "from src_code.eval_utils.eval import calculate_score, eval_results"
   ]
  },
  {
   "cell_type": "code",
   "execution_count": null,
   "metadata": {},
   "outputs": [],
   "source": [
    "grid_size = 7\n",
    "num_obstacles = int(0.25 * (grid_size ** 2))\n",
    "dataset = GridDataset(grid_size=grid_size, seed = 42, wall_symbol=\"#\", free_symbol=\".\", \n",
    "                      obstacle_count=num_obstacles, all_solvable_grids=True,\n",
    "                      add_surrounding_wall=False)\n",
    "img_rgb1, grid_world = dataset[99]"
   ]
  },
  {
   "cell_type": "code",
   "execution_count": null,
   "metadata": {},
   "outputs": [],
   "source": [
    "img_rgb1"
   ]
  },
  {
   "cell_type": "code",
   "execution_count": null,
   "metadata": {},
   "outputs": [],
   "source": [
    "grid_world.a_star()"
   ]
  },
  {
   "cell_type": "markdown",
   "metadata": {},
   "source": [
    "# For single"
   ]
  },
  {
   "cell_type": "code",
   "execution_count": null,
   "metadata": {},
   "outputs": [],
   "source": [
    "path_result = ('go up', 'go up', 'go up', 'go left')\n",
    "calculate_score(path_result, grid_world)"
   ]
  },
  {
   "cell_type": "markdown",
   "metadata": {},
   "source": [
    "# For mutiple\n",
    "\n",
    "The `path_results` need to start from `dataset[0]`"
   ]
  },
  {
   "cell_type": "code",
   "execution_count": null,
   "metadata": {},
   "outputs": [],
   "source": [
    "path_results = [\n",
    "    (\"not solvable\",),  # 0\n",
    "    ('go left', 'go left', 'go up'),  # 1\n",
    "    ('go right', 'go right'),  # 2\n",
    "    ('go left', 'go up', 'go left', 'go left', 'go left', 'go down', 'go down', 'go down', 'go right', 'go right'),  # 3\n",
    "    ('go right', 'go up', 'go right', 'go right'),  # 4\n",
    "    ('go down',),  # 5\n",
    "    ('go up', 'go right', 'go right'),  # 6\n",
    "    ('go right', 'go right', 'go down', 'go right', 'go right'),  # 7\n",
    "    ('go down', 'go down', 'go left'),  # 8\n",
    "    ('go left', 'go up', 'go left'),  # 9\n",
    "    ('go right', 'go right', 'go right', 'go up'),  # 10\n",
    "    ('go up', 'go left', 'go down'),  # 11\n",
    "    ('go right', 'go down', 'go right', 'go down'),  # 12\n",
    "    ('go down', 'go right', 'go down', 'go right', 'go right', 'go down'),  # 13\n",
    "    ('go down', 'go down'),  # 14\n",
    "    (\"not solvable\",),  # 15\n",
    "    ('go down', 'go left'),  # 16\n",
    "    (\"not solvable\",),  # 17\n",
    "    ('go up', 'go up', 'go left'),  # 18\n",
    "    ('go up',),  # 19\n",
    "    (\"not solvable\",),  # 20\n",
    "    ('go down', 'go down', 'go down', 'go down'),  # 21\n",
    "    ('go down', 'go right', 'go down', 'go right', 'go up', 'go up', 'go up', 'go right'),  # 22\n",
    "    ('go up', 'go right', 'go up', 'go right', 'go right'),  # 23\n",
    "    ('go up', 'go up', 'go up', 'go left', 'go down', 'go down', 'go left'),  # 24\n",
    "    ('go up', 'go up', 'go right', 'go right'),  # 25\n",
    "    ('go right', 'go up', 'go up', 'go left', 'go up', 'go down', 'go up', 'go up', 'go right', 'go right', 'go down', 'go down', 'go right', 'go down', 'go right'),  # 26\n",
    "    ('go left',),  # 27\n",
    "    ('go left', 'go down'),  # 28\n",
    "    (\"not solvable\",),  # 29\n",
    "    (\"not solvable\",),  # 30\n",
    "    ('go down', 'go right', 'go right'),  # 31\n",
    "    ('go down', 'go right'),  # 32\n",
    "    ('go down',),  # 33\n",
    "    ('go down', 'go left', 'go left', 'go up'),  # 34\n",
    "    ('go up', 'go up', 'go up', 'go right', 'go right', 'go right'),  # 35\n",
    "    ('go right', 'go right', 'go up', 'go up'),  # 36\n",
    "    ('go up', 'go up', 'go up', 'go up', 'go up'),  # 37\n",
    "    ('go up', 'go right', 'go up', 'go right'),  # 38\n",
    "    ('go down', 'go down', 'go left', 'go left'),  # 39\n",
    "    ('go up', 'go left', 'go left', 'go down', 'go left', 'go down', 'go left'),  # 40\n",
    "    ('go up', 'go left', 'go up'),  # 41\n",
    "    ('go right', 'go right', 'go up', 'go up', 'go up', 'go up', 'go up', 'go right', 'go right', 'go right'),  # 42\n",
    "    ('go down', 'go down', 'go left', 'go down', 'go down', 'go down', 'go left'),  # 43\n",
    "    ('go down', 'go right'),  # 44\n",
    "    ('go down', 'go left'),  # 45\n",
    "    ('go right',),  # 46\n",
    "    ('go down', 'go right', 'go right', 'go right', 'go right'),  # 47\n",
    "    (\"not solvable\",),  # 48\n",
    "    ('go down', 'go left', 'go down', 'go down', 'go left'),  # 49\n",
    "    ('go right', 'go right', 'go up', 'go right'),  # 50\n",
    "    ('go up', 'go left', 'go down', 'go left', 'go down', 'go left', 'go down', 'go down'),  # 51\n",
    "    (\"not solvable\",),  # 52\n",
    "    ('go up', 'go right', 'go right', 'go right'),  # 53\n",
    "    ('go down', 'go right', 'go down', 'go down', 'go down', 'go left', 'go left', 'go up'),  # 54\n",
    "    ('go down', 'go right', 'go down', 'go right', 'go up', 'go down', 'go right'),  # 55\n",
    "    ('go up', 'go right', 'go right', 'go right', 'go right', 'go right'), # 56\n",
    "    ('go right', 'go right', 'go down', 'go down', 'go down', 'go down'),  # 57\n",
    "    (\"not solvable\",),  # 58\n",
    "    ('go down', 'go right', 'go right', 'go down', 'go down', 'go right', 'go right'),  # 59\n",
    "    ('go down', 'go down', 'go left'),  # 60\n",
    "    ('go down',),  # 61\n",
    "    ('go up', 'go left', 'go left', 'go left'),  # 62\n",
    "    ('go up', 'go left'),  # 63\n",
    "    ('go down', 'go right', 'go right', 'go right', 'go down', 'go right'),  # 64\n",
    "    ('go right', 'go up', 'go right'),  # 65\n",
    "    ('go down', 'go down', 'go left', 'go down'),  # 66\n",
    "    ('go down', 'go up', 'go up', 'go up', 'go up', 'go left', 'go left', 'go left', 'go left', 'go left'),  # 67\n",
    "    ('go right', 'go right'),  # 68\n",
    "    (\"not solvable\",),  # 69\n",
    "    ('go right', 'go down', 'go down', 'go down', 'go down', 'go right', 'go left', 'go down', 'go down', 'go down', 'go down'),  # 70\n",
    "    (\"not solvable\",),  # 71\n",
    "    ('go up', 'go up', 'go right', 'go right', 'go right', 'go right'),  # 72\n",
    "    ('go left', 'go down', 'go left', 'go down', 'go left', 'go up', 'go left', 'go up', 'go left', 'go down', 'go down', 'go down'),  # 73\n",
    "    ('go up', 'go right', 'go up', 'go right', 'go down', 'go right', 'go down', 'go down', 'go left'),  # 74\n",
    "    ('go left',),  # 75\n",
    "    (\"not solvable\",),  # 76\n",
    "    ('go left', 'go up'),  # 77\n",
    "    ('go down', 'go right', 'go right', 'go right', 'go right', 'go right'),  # 78\n",
    "    ('go down', 'go right'),  # 79\n",
    "    ('go down', 'go right', 'go right', 'go down'),  # 80\n",
    "    ('go up', 'go up', 'go right'),  # 81\n",
    "    ('go down', 'go left', 'go down', 'go down'),  # 82\n",
    "    ('go up', 'go up', 'go up', 'go left', 'go left'),  # 83\n",
    "    ('go up', 'go up', 'go left', 'go up', 'go up', 'go up', 'go right'),  # 84\n",
    "    ('go left', 'go up', 'go left', 'go down', 'go down', 'go down', 'go down', 'go down', 'go down', 'go left', 'go left', 'go up'),  # 85\n",
    "    ('go down', 'go down', 'go right'),  # 86\n",
    "    ('go left',),  # 87\n",
    "    ('go up',),  # 88\n",
    "    ('go left', 'go down', 'go down', 'go down', 'go down', 'go left'),  # 89\n",
    "    ('go up', 'go left', 'go left'),  # 90\n",
    "    ('go left', 'go down', 'go left', 'go down', 'go down', 'go down', 'go right', 'go right', 'go right', 'go up', 'go left', 'go up', 'go right'),  # 91\n",
    "    ('go down',),  # 92\n",
    "    ('go left', 'go down', 'go down', 'go down'),  # 93\n",
    "    ('go down',),  # 94\n",
    "    ('go down',),  # 95\n",
    "    ('go right', 'go down', 'go right', 'go down', 'go down', 'go left'),  # 96\n",
    "    ('go down', 'go down', 'go down', 'go left', 'go up', 'go left', 'go up', 'go left'),  # 97\n",
    "    ('go left', 'go up', 'go left', 'go up'),  # 98\n",
    "    ('go right', 'go up', 'go up')  # 99\n",
    "]\n",
    "\n",
    "\n",
    "\n",
    "eval_results(path_results, dataset, debug=True)"
   ]
  },
  {
   "cell_type": "markdown",
   "metadata": {},
   "source": [
    "# Random Walk"
   ]
  },
  {
   "cell_type": "code",
   "execution_count": null,
   "metadata": {},
   "outputs": [],
   "source": [
    "path_results_ = [(dataset[i][1].random_walk()) for i in range(100)]\n",
    "# print(path_results_)\n",
    "eval_results(path_results_, dataset)"
   ]
  },
  {
   "cell_type": "markdown",
   "metadata": {},
   "source": [
    "# Failure Case Analysis"
   ]
  },
  {
   "cell_type": "code",
   "execution_count": null,
   "metadata": {},
   "outputs": [],
   "source": [
    "# dataset = GridDataset(grid_size=5, seed = 42, wall_symbol=\"#\", free_symbol=\".\", cell_size=20)\n",
    "datapoint = 5\n",
    "img_rgb, grid_world = dataset[datapoint]"
   ]
  },
  {
   "cell_type": "code",
   "execution_count": null,
   "metadata": {},
   "outputs": [],
   "source": [
    "img_rgb"
   ]
  },
  {
   "cell_type": "code",
   "execution_count": null,
   "metadata": {},
   "outputs": [],
   "source": [
    "grid_world.a_star()"
   ]
  },
  {
   "cell_type": "code",
   "execution_count": null,
   "metadata": {},
   "outputs": [],
   "source": [
    "path_results[datapoint]"
   ]
  }
 ],
 "metadata": {
  "kernelspec": {
   "display_name": "Python 3 (ipykernel)",
   "language": "python",
   "name": "python3"
  },
  "language_info": {
   "codemirror_mode": {
    "name": "ipython",
    "version": 3
   },
   "file_extension": ".py",
   "mimetype": "text/x-python",
   "name": "python",
   "nbconvert_exporter": "python",
   "pygments_lexer": "ipython3",
   "version": "3.10.12"
  }
 },
 "nbformat": 4,
 "nbformat_minor": 4
}
