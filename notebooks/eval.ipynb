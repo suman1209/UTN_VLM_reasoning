{
 "cells": [
  {
   "cell_type": "code",
   "execution_count": null,
   "metadata": {},
   "outputs": [],
   "source": [
    "# Configs\n",
    "%load_ext autoreload\n",
    "%autoreload 3\n",
    "## other standard packages\n",
    "import sys\n",
    "## Env variables and preparation stuffs\n",
    "sys.path.insert(0, \"../\")\n",
    "from src_code.data_utils.dataset import GridDataset\n",
    "from src_code.data_utils.dataset_utils import CellType\n",
    "from src_code.eval_utils.eval import calculate_score, eval_results"
   ]
  },
  {
   "cell_type": "code",
   "execution_count": null,
   "metadata": {},
   "outputs": [],
   "source": [
    "dataset = GridDataset(grid_size=5, seed = 42, wall_symbol=\"#\", free_symbol=\".\", cell_size=20)\n",
    "img_rgb1, grid_world = dataset[0]"
   ]
  },
  {
   "cell_type": "code",
   "execution_count": null,
   "metadata": {},
   "outputs": [],
   "source": [
    "img_rgb1"
   ]
  },
  {
   "cell_type": "code",
   "execution_count": null,
   "metadata": {},
   "outputs": [],
   "source": [
    "grid_world.a_star()"
   ]
  },
  {
   "cell_type": "markdown",
   "metadata": {},
   "source": [
    "# For single"
   ]
  },
  {
   "cell_type": "code",
   "execution_count": null,
   "metadata": {},
   "outputs": [],
   "source": [
    "path_result = ('go up', 'go up', 'go up', 'go left')\n",
    "calculate_score(path_result, grid_world)"
   ]
  },
  {
   "cell_type": "markdown",
   "metadata": {},
   "source": [
    "# For mutiple\n",
    "\n",
    "The `path_results` need to start from `dataset[0]`"
   ]
  },
  {
   "cell_type": "code",
   "execution_count": null,
   "metadata": {},
   "outputs": [],
   "source": [
    "path_results = [\n",
    "    ('go up', 'go up', 'go up', 'go left'),\n",
    "    ('go up', 'go left', 'go left'),\n",
    "    ('not solvable'),\n",
    "    ('go left', 'go down', 'go down', 'go down', 'go left', 'go left'),\n",
    "    ('go down', 'go right', 'go right', 'go up', 'go up', 'go left'),\n",
    "    ('go right', 'go right', 'go up', 'go up'),\n",
    "    ('go right', 'go right', 'go up'),\n",
    "    ('go down', 'go left'),\n",
    "    ('go down', 'go down', 'go left'),\n",
    "    ('go left', 'go up', 'go left'),\n",
    "    ('go up', 'go right', 'go right', 'go right'),\n",
    "    ('go left',),\n",
    "    ('go down',),\n",
    "    ('go up', 'go left'),\n",
    "    ('not solvable'),\n",
    "    ('go down', 'go down', 'go down'),\n",
    "    ('go down', 'go left'),\n",
    "    ('go up', 'go up', 'go left'),\n",
    "    ('go right', 'go down', 'go down', 'go right'),\n",
    "    ('go left', 'go down'),\n",
    "    ('go up',),\n",
    "    ('go down', 'go left', 'go down'),\n",
    "    ('go right', 'go right', 'go up', 'go right'),\n",
    "    ('go right', 'go right', 'go up', 'go right', 'go up', 'go right'),\n",
    "    ('not solvable'),\n",
    "    ('go up', 'go up', 'go right', 'go right'),\n",
    "    ('go down', 'go right', 'go right', 'go down', 'go right'),\n",
    "    ('go up', 'go left'),\n",
    "    \"not solvable\",\n",
    "    ('go up', 'go up', 'go right', 'go right', 'go right', 'go right'),\n",
    "    ('go left', 'go left'),\n",
    "    ('go down', 'go down', 'go left', 'go left', 'go left', 'go up'),\n",
    "    ('go right', 'go down'),\n",
    "    ('go up', 'go up', 'go up', 'go right'),\n",
    "    ('go down', 'go down', 'go left', 'go down', 'go down', 'go up'),\n",
    "    ('go up', 'go up', 'go up'),\n",
    "    ('go right', 'go right', 'go up', 'go up'),\n",
    "    ('go right', 'go right', 'go right', 'go right'),\n",
    "    ('go up', 'go up', 'go left', 'go up', 'go left', 'go left'),\n",
    "    ('go right', 'go down', 'go down', 'go down', 'go left', 'go up', 'go left', 'go up'),\n",
    "    ('go down', 'go left', 'go left', 'go left'),\n",
    "    ('go up', 'go up', 'go left'),\n",
    "    ('go right', 'go down', 'go down'),\n",
    "    ('go down', 'go right'),\n",
    "    ('go up', 'go up', 'go left', 'go left', 'go down', 'go left', 'go left', 'go down', 'go down'),\n",
    "    ('go left', 'go down'),\n",
    "    ('go right',),\n",
    "    ('go right', 'go down', 'go right', 'go right', 'go right'),\n",
    "    ('not solvable'),\n",
    "    ('go down', 'go down', 'go left', 'go left', 'go down'),\n",
    "    ('go left', 'go up'),\n",
    "    ('go down', 'go down', 'go down', 'go left', 'go left', 'go up', 'go up', 'go up', 'go right', 'go right'),\n",
    "    ('go right', 'go right', 'go down', 'go right', 'go down'),\n",
    "    ('go right', 'go up', 'go right', 'go right'),\n",
    "    ('go down', 'go right', 'go down', 'go down', 'go left', 'go left'),\n",
    "    ('go down', 'go right'),\n",
    "    ('not solvable'),\n",
    "    ('go right', 'go right', 'go down', 'go down', 'go down', 'go down'),\n",
    "    ('go up', 'go up', 'go up'),\n",
    "    ('go right', 'go down', 'go right', 'go down'),\n",
    "    ('go down', 'go left', 'go down'),\n",
    "    ('go down',),\n",
    "    ('go right', 'go up', 'go right', 'go up', 'go up', 'go up', 'go left', 'go left'),\n",
    "    ('go up', 'go left'),\n",
    "    ('go down', 'go right', 'go right', 'go right'),\n",
    "    ('go right', 'go right', 'go up'),\n",
    "    ('go down', 'go down', 'go down', 'go left'),\n",
    "    ('not solvable'),\n",
    "    ('go up', 'go up', 'go up'),\n",
    "    ('go down',),\n",
    "    ('go down', 'go down', 'go down', 'go right'),\n",
    "    ('go down', 'go left', 'go down', 'go left', 'go left', 'go left'),\n",
    "    ('go down', 'go left', 'go left'),\n",
    "    ('go right', 'go right', 'go down', 'go right', 'go down'),\n",
    "    ('go up', 'go left', 'go up', 'go up', 'go up', 'go left'),\n",
    "    ('go left',),\n",
    "    ('go down', 'go left', 'go left'),\n",
    "    ('go up', 'go left'),\n",
    "    ('go right', 'go down', 'go right'),\n",
    "    ('go right', 'go down'),\n",
    "    ('not solvable'),\n",
    "    ('go up', 'go up', 'go right'),\n",
    "    ('not solvable'),\n",
    "    ('go up', 'go left', 'go left', 'go up', 'go up'),\n",
    "    ('go right',),\n",
    "    ('go up', 'go left', 'go left'),\n",
    "    ('not solvable'),\n",
    "    ('go down', 'go left', 'go down', 'go down'),\n",
    "    ('go up',),\n",
    "    ('go up', 'go up', 'go right', 'go down', 'go up'),\n",
    "    ('go right', 'go right', 'go right', 'go down', 'go down', 'go right'),\n",
    "    ('go left', 'go left', 'go down', 'go left'),\n",
    "    ('go down',),\n",
    "    ('go left', 'go left', 'go down', 'go left', 'go left', 'go up', 'go up'),\n",
    "    ('go right', 'go left', 'go right', 'go left', 'go right'),\n",
    "    ('go up', 'go left', 'go up', 'go left', 'go left', 'go down', 'go down'),\n",
    "    ('go down', 'go left'),\n",
    "    ('not solvable'),\n",
    "    ('go down', 'go left', 'go left', 'go left', 'go up', 'go up', 'go up', 'go right'),\n",
    "    ('go right', 'go up', 'go up')\n",
    "]\n",
    "eval_results(path_results, dataset, debug=True)"
   ]
  },
  {
   "cell_type": "markdown",
   "metadata": {},
   "source": [
    "# Random Walk"
   ]
  },
  {
   "cell_type": "code",
   "execution_count": null,
   "metadata": {},
   "outputs": [],
   "source": [
    "path_results = [(dataset[i][1].random_walk()) for i in range(100)]\n",
    "print(path_result)\n",
    "eval_results(path_results, dataset)"
   ]
  },
  {
   "cell_type": "markdown",
   "metadata": {},
   "source": [
    "# Failure Case Analysis"
   ]
  },
  {
   "cell_type": "code",
   "execution_count": null,
   "metadata": {},
   "outputs": [],
   "source": [
    "dataset = GridDataset(grid_size=5, seed = 42, wall_symbol=\"#\", free_symbol=\".\", cell_size=20)\n",
    "datapoint = 14\n",
    "img_rgb, grid_world = dataset[datapoint]"
   ]
  },
  {
   "cell_type": "code",
   "execution_count": null,
   "metadata": {},
   "outputs": [],
   "source": [
    "img_rgb"
   ]
  },
  {
   "cell_type": "code",
   "execution_count": null,
   "metadata": {},
   "outputs": [],
   "source": [
    "grid_world.a_star()"
   ]
  },
  {
   "cell_type": "code",
   "execution_count": null,
   "metadata": {},
   "outputs": [],
   "source": [
    "path_results[datapoint]"
   ]
  },
  {
   "cell_type": "code",
   "execution_count": null,
   "metadata": {},
   "outputs": [],
   "source": []
  }
 ],
 "metadata": {
  "kernelspec": {
   "display_name": "Python 3 (ipykernel)",
   "language": "python",
   "name": "python3"
  },
  "language_info": {
   "codemirror_mode": {
    "name": "ipython",
    "version": 3
   },
   "file_extension": ".py",
   "mimetype": "text/x-python",
   "name": "python",
   "nbconvert_exporter": "python",
   "pygments_lexer": "ipython3",
   "version": "3.10.12"
  }
 },
 "nbformat": 4,
 "nbformat_minor": 4
}
