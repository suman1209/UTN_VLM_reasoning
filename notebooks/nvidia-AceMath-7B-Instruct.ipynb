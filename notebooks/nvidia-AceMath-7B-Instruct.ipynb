{
 "cells": [
  {
   "cell_type": "code",
   "execution_count": null,
   "id": "0a72674b-0ec7-4f89-8b3f-2ec6967f0638",
   "metadata": {},
   "outputs": [],
   "source": [
    "# Configs\n",
    "%load_ext autoreload\n",
    "%autoreload 3\n",
    "## other standard packages\n",
    "import sys\n",
    "## Env variables and preparation stuffs\n",
    "sys.path.insert(0, \"../\")\n",
    "from src_code.data_utils.dataset import GridDataset\n",
    "from src_code.data_utils.dataset_utils import CellType, draw_image_grid, dataset_generator\n",
    "from src_code.data_utils.prompt_utils import prompt_generator"
   ]
  },
  {
   "cell_type": "code",
   "execution_count": null,
   "id": "f3cff101-447f-4e47-a51f-6768f3adb3a1",
   "metadata": {},
   "outputs": [],
   "source": [
    "# cell size in the size of the grid measured in pixels\n",
    "dataset = GridDataset(grid_size=5, seed = 42, wall_symbol=\"#\", free_symbol=\".\", cell_size=10)\n",
    "img_rgb1, grid_world1 = dataset[0]\n",
    "img_rgb2, grid_world2 = dataset[1]"
   ]
  },
  {
   "cell_type": "code",
   "execution_count": null,
   "id": "ec9dfc07-e09e-4d6a-a03e-2ab034aa0f40",
   "metadata": {},
   "outputs": [],
   "source": [
    "print(prompt_generator(grid_world1, pure_language=True, img=None, img_symbol=\"<image>\"))"
   ]
  },
  {
   "cell_type": "code",
   "execution_count": null,
   "id": "6e3cee2f-761c-49cc-9449-f423622b9cd3",
   "metadata": {},
   "outputs": [],
   "source": [
    "img_rgb1"
   ]
  },
  {
   "cell_type": "code",
   "execution_count": null,
   "id": "1ec38b1d-e8a6-4eb3-b89f-f3ed20d2e02a",
   "metadata": {},
   "outputs": [],
   "source": [
    "from src_code.model_utils.aceMath import AceMath\n",
    "\n",
    "aceMath_model = AceMath()\n",
    "prompt = \"\"\"\n",
    "Actions:\n",
    "Only give me the steps, like 'go up', 'go down', 'go left', 'go right' or 'not solvable'\n",
    "not solvable: it is not possible to go the the goal cell from the start cell\n",
    "\n",
    "Coordinate system:\n",
    "The starting cell is at (3, 3).\n",
    "The goal cell is at (2, 0).\n",
    "There are some obstacles at [(4, 1), (0, 2), (1, 2), (2, 3), (4, 3), (0, 4)].\n",
    "\n",
    "\n",
    "Can you find the path from the starting cell to the goal cell?\n",
    "\n",
    "\"\"\"\n",
    "response = aceMath_model.inference(prompt)\n",
    "print(f\"{response = }\")"
   ]
  },
  {
   "cell_type": "code",
   "execution_count": null,
   "id": "a20b8142-e0a7-4743-81a2-1ae64c6e10c9",
   "metadata": {},
   "outputs": [],
   "source": []
  }
 ],
 "metadata": {
  "kernelspec": {
   "display_name": "Python 3 (ipykernel)",
   "language": "python",
   "name": "python3"
  },
  "language_info": {
   "codemirror_mode": {
    "name": "ipython",
    "version": 3
   },
   "file_extension": ".py",
   "mimetype": "text/x-python",
   "name": "python",
   "nbconvert_exporter": "python",
   "pygments_lexer": "ipython3",
   "version": "3.10.12"
  }
 },
 "nbformat": 4,
 "nbformat_minor": 5
}
