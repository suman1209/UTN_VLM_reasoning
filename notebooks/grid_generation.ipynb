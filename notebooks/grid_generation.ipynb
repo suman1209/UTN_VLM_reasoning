{
 "cells": [
  {
   "cell_type": "markdown",
   "id": "0833d1e6-e58c-4d66-bce9-1ad02b7ef476",
   "metadata": {},
   "source": [
    "# Imports"
   ]
  },
  {
   "cell_type": "code",
   "execution_count": null,
   "id": "initial_id",
   "metadata": {},
   "outputs": [],
   "source": [
    "# Configs\n",
    "%load_ext autoreload\n",
    "%autoreload 3\n",
    "## other standard packages\n",
    "import sys\n",
    "## Env variables and preparation stuffs\n",
    "sys.path.insert(0, \"../\")\n",
    "from src_code.data_utils.dataset import GridDataset\n",
    "from src_code.data_utils.dataset_utils import CellType, draw_image_grid, dataset_generator\n",
    "from src_code.data_utils.prompt_utils import prompt_generator"
   ]
  },
  {
   "cell_type": "markdown",
   "id": "8137977c-ca7b-46a2-8e14-6dcab4274c35",
   "metadata": {},
   "source": [
    "# Dataset\n",
    "class CellType(Enum):\n",
    "\n",
    "    FREE_CELL = 1  # Represents free space\n",
    "    WALL = 2       # Represens a wall\n",
    "    START = 3      # Represents the start position\n",
    "    GOAL = 4       # Represents the goal position"
   ]
  },
  {
   "cell_type": "code",
   "execution_count": null,
   "id": "8aa20a2b-d8b0-40d1-a90a-bf42b52e1f39",
   "metadata": {},
   "outputs": [],
   "source": [
    "# cell size in the size of the grid measured in pixels\n",
    "dataset = GridDataset(grid_size=5, seed = 42, wall_symbol=\"#\", free_symbol=\".\", cell_size=10, obstacle_count=5, all_solvable_grids=True)\n",
    "img_rgb1, grid_world1 = dataset[0]\n",
    "img_rgb2, grid_world2 = dataset[1]"
   ]
  },
  {
   "cell_type": "code",
   "execution_count": null,
   "id": "103f0681-79f7-4fe5-9783-874239fc539f",
   "metadata": {},
   "outputs": [],
   "source": [
    "num_images = 6\n",
    "img_title_pairs = [(dataset[i][0], f\"{dataset[i][1].a_star()}\") for i in range(num_images)]\n",
    "draw_image_grid(img_title_pairs)"
   ]
  },
  {
   "cell_type": "markdown",
   "id": "68ff9f03-1db8-4a12-bd4b-7f6f3db7cfee",
   "metadata": {},
   "source": [
    "### Without Surrounding Wall"
   ]
  },
  {
   "cell_type": "code",
   "execution_count": null,
   "id": "68a47816-0f0e-44e4-95d8-f7f5ca1a2726",
   "metadata": {},
   "outputs": [],
   "source": [
    "dataset_with_wall = GridDataset(grid_size=5, seed = 42, wall_symbol=\"#\", free_symbol=\".\", cell_size=10, add_surrounding_wall=False)\n",
    "img_rgb3, grid_world3 = dataset_with_wall[0]\n",
    "print(grid_world3)"
   ]
  },
  {
   "cell_type": "markdown",
   "id": "096bd5c9-26ad-4883-a60b-5819ed470e63",
   "metadata": {},
   "source": [
    "### With Surrounding Wall"
   ]
  },
  {
   "cell_type": "code",
   "execution_count": null,
   "id": "d34aaabc-9c92-4e21-b591-c8d0daa8bca9",
   "metadata": {},
   "outputs": [],
   "source": [
    "# cell size in the size of the grid measured in pixels\n",
    "dataset_with_wall = GridDataset(grid_size=5, seed = 42, wall_symbol=\"#\", free_symbol=\".\", cell_size=10, add_surrounding_wall=True)\n",
    "img_rgb3, grid_world3 = dataset_with_wall[0]\n",
    "print(grid_world3)"
   ]
  },
  {
   "cell_type": "markdown",
   "id": "6824e8a0",
   "metadata": {},
   "source": [
    "# Prompt"
   ]
  },
  {
   "cell_type": "code",
   "execution_count": null,
   "id": "c5236802",
   "metadata": {},
   "outputs": [],
   "source": [
    "print(prompt_generator(grid_world1, pure_language=False, img=None, img_symbol=\"<image>\"))"
   ]
  },
  {
   "cell_type": "code",
   "execution_count": null,
   "id": "1db1c66b",
   "metadata": {},
   "outputs": [],
   "source": [
    "print(prompt_generator(grid_world2))"
   ]
  },
  {
   "cell_type": "markdown",
   "id": "b5ca8471-8073-4aa4-ab99-b1f9cd3243ed",
   "metadata": {},
   "source": [
    "# Images for the paper"
   ]
  },
  {
   "cell_type": "code",
   "execution_count": null,
   "id": "7f1ed9e6-2030-42c1-80ad-48b4c4005e77",
   "metadata": {},
   "outputs": [],
   "source": [
    "dataset = GridDataset(grid_size=5, seed = 42, wall_symbol=\"#\", free_symbol=\".\", cell_size=50)\n",
    "img_rgb5, grid_world5 = dataset[5]"
   ]
  },
  {
   "cell_type": "code",
   "execution_count": null,
   "id": "9ee6f95d-0bc2-45e4-b5c5-0b45dac019dc",
   "metadata": {},
   "outputs": [],
   "source": [
    "img_rgb5"
   ]
  },
  {
   "cell_type": "code",
   "execution_count": null,
   "id": "b6436f6b-bff6-417f-9e02-f9b259cfc8d4",
   "metadata": {},
   "outputs": [],
   "source": [
    "print(str(grid_world5))"
   ]
  },
  {
   "cell_type": "code",
   "execution_count": null,
   "id": "06c02f6c-def2-4150-aa44-1734cfcb6332",
   "metadata": {},
   "outputs": [],
   "source": [
    "grid_world5.a_star()"
   ]
  },
  {
   "cell_type": "code",
   "execution_count": null,
   "id": "0d01651d-4eb5-4d44-b6bb-6028c38ecbed",
   "metadata": {},
   "outputs": [],
   "source": [
    "print(prompt_generator(grid_world5, pure_language=True, img=img_rgb5))"
   ]
  },
  {
   "cell_type": "markdown",
   "id": "cc22e0fa-bbb3-431c-8816-c23c06576859",
   "metadata": {},
   "source": [
    "# Dataset for finetuning"
   ]
  },
  {
   "cell_type": "code",
   "execution_count": null,
   "id": "aa0724d5-4264-42fa-8120-087c2b0ba798",
   "metadata": {},
   "outputs": [],
   "source": [
    "sys_role = \"You are a helpful assistant working in path planning in a 2D grid.\"\n",
    "dataset = GridDataset(grid_size=5, seed = 42, wall_symbol=\"#\", free_symbol=\".\", cell_size=10)\n",
    "ft_dataset = dataset_generator(dataset, sys_role, train_num=2, val_num=2, test_num=2)"
   ]
  },
  {
   "cell_type": "code",
   "execution_count": null,
   "id": "3fff99b5-1081-4c37-865f-ca5ba9162d54",
   "metadata": {},
   "outputs": [],
   "source": [
    "ft_dataset['train'][0]"
   ]
  }
 ],
 "metadata": {
  "kernelspec": {
   "display_name": "Python 3 (ipykernel)",
   "language": "python",
   "name": "python3"
  },
  "language_info": {
   "codemirror_mode": {
    "name": "ipython",
    "version": 3
   },
   "file_extension": ".py",
   "mimetype": "text/x-python",
   "name": "python",
   "nbconvert_exporter": "python",
   "pygments_lexer": "ipython3",
   "version": "3.10.12"
  }
 },
 "nbformat": 4,
 "nbformat_minor": 5
}
