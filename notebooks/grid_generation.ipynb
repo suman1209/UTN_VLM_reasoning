{
 "cells": [
  {
   "cell_type": "markdown",
   "id": "0833d1e6-e58c-4d66-bce9-1ad02b7ef476",
   "metadata": {},
   "source": [
    "# Imports"
   ]
  },
  {
   "cell_type": "code",
   "execution_count": null,
   "id": "initial_id",
   "metadata": {},
   "outputs": [],
   "source": [
    "# Configs\n",
    "%load_ext autoreload\n",
    "%autoreload 3\n",
    "## other standard packages\n",
    "import sys\n",
    "## Env variables and preparation stuffs\n",
    "sys.path.insert(0, \"../\")\n",
    "from src_code.data_utils.dataset import GridDataset\n",
    "from src_code.data_utils.dataset_utils import CellType"
   ]
  },
  {
   "cell_type": "markdown",
   "id": "8137977c-ca7b-46a2-8e14-6dcab4274c35",
   "metadata": {},
   "source": [
    "# Dataset"
   ]
  },
  {
   "cell_type": "code",
   "execution_count": null,
   "id": "8aa20a2b-d8b0-40d1-a90a-bf42b52e1f39",
   "metadata": {},
   "outputs": [],
   "source": [
    "dataset = GridDataset(grid_size=5, seed = 42, wall_symbol=\"#\", free_symbol=\".\")\n",
    "\n",
    "img_rgb, ascii_inp, path = dataset[0]"
   ]
  },
  {
   "cell_type": "code",
   "execution_count": null,
   "id": "c0b796b9-dce1-47a0-aa81-ad02f6633911",
   "metadata": {},
   "outputs": [],
   "source": [
    "img_rgb"
   ]
  },
  {
   "cell_type": "code",
   "execution_count": null,
   "id": "c48695ed",
   "metadata": {},
   "outputs": [],
   "source": [
    "print(ascii_inp)"
   ]
  },
  {
   "cell_type": "code",
   "execution_count": null,
   "id": "baf9f9f1-1e1e-43ba-b9e9-f1995971804f",
   "metadata": {},
   "outputs": [],
   "source": [
    "print(f\"{path = }\")"
   ]
  },
  {
   "cell_type": "markdown",
   "id": "ae78140c-6f13-4edf-a307-f472c854e485",
   "metadata": {},
   "source": [
    "# 3. VLM Inference"
   ]
  },
  {
   "cell_type": "markdown",
   "id": "ceac2375-697b-44ea-8600-f22a8e981947",
   "metadata": {},
   "source": [
    "## 3.1 Open Flamingo\n",
    "Source: https://github.com/mlfoundations/open_flamingo|"
   ]
  },
  {
   "cell_type": "code",
   "execution_count": null,
   "id": "9f9d9b7d-3cbf-4cd3-8019-03f1039ea778",
   "metadata": {},
   "outputs": [],
   "source": [
    "from open_flamingo import create_model_and_transforms\n",
    "model, image_processor, tokenizer = create_model_and_transforms(\n",
    "    clip_vision_encoder_path=\"ViT-L-14\",\n",
    "    clip_vision_encoder_pretrained=\"openai\",\n",
    "    lang_encoder_path=\"anas-awadalla/mpt-1b-redpajama-200b\",\n",
    "    tokenizer_path=\"anas-awadalla/mpt-1b-redpajama-200b\",\n",
    "    cross_attn_every_n_layers=1\n",
    ")"
   ]
  },
  {
   "cell_type": "code",
   "execution_count": null,
   "id": "b67d40f1-f958-415d-9019-3989b90b1544",
   "metadata": {},
   "outputs": [],
   "source": [
    "# grab model checkpoint from huggingface hub\n",
    "from huggingface_hub import hf_hub_download\n",
    "import torch\n",
    "\n",
    "checkpoint_path = hf_hub_download(\"openflamingo/OpenFlamingo-3B-vitl-mpt1b\", \"checkpoint.pt\")\n",
    "model.load_state_dict(torch.load(checkpoint_path), strict=False)"
   ]
  },
  {
   "cell_type": "code",
   "execution_count": null,
   "id": "2507ce1b-3283-4be6-9941-4553ccb50e1a",
   "metadata": {},
   "outputs": [],
   "source": [
    "from PIL import Image\n",
    "import requests\n",
    "import torch\n",
    "import numpy as np\n",
    "\"\"\"\n",
    "Step 1: Load images\n",
    "\"\"\"\n",
    "dataset = GridDataset(grid_size=5, seed = 42, wall_symbol=\"#\", free_symbol=\".\")\n",
    "\n",
    "img_rgb, ascii_inp, path = dataset[0]\n",
    "img_rgb.show()\n",
    "\"\"\"\n",
    "Step 2: Preprocessing images\n",
    "Details: For OpenFlamingo, we expect the image to be a torch tensor of shape \n",
    " batch_size x num_media x num_frames x channels x height x width. \n",
    " In this case batch_size = 1, num_media = 3, num_frames = 1,\n",
    " channels = 3, height = 224, width = 224.\n",
    "\"\"\"\n",
    "vision_x = [image_processor(img_rgb).unsqueeze(0)]\n",
    "vision_x = torch.cat(vision_x, dim=0)\n",
    "vision_x = vision_x.unsqueeze(1).unsqueeze(0)\n",
    "print(vision_x.shape)\n",
    "\"\"\"\n",
    "Step 3: Preprocessing text\n",
    "Details: In the text we expect an <image> special token to indicate where an image is.\n",
    " We also expect an <|endofchunk|> special token to indicate the end of the text \n",
    " portion associated with an image.\n",
    "\"\"\"\n",
    "tokenizer.padding_side = \"left\" # For generation padding tokens should be on the left\n",
    "instruction = \"Find the shortest path from the start to the goal and give the sequence of actions using the symbols l, r, u, d\"\n",
    "lang_x = tokenizer(\n",
    "    [f\"<image>{instruction}<|endofchunk|>\"],\n",
    "    return_tensors=\"pt\",\n",
    ")\n",
    "\n",
    "\n",
    "\"\"\"\n",
    "Step 4: Generate text\n",
    "\"\"\"\n",
    "generated_text = model.generate(\n",
    "    vision_x=vision_x,\n",
    "    lang_x=lang_x[\"input_ids\"],\n",
    "    attention_mask=lang_x[\"attention_mask\"],\n",
    "    max_new_tokens=20,\n",
    "    num_beams=3,\n",
    ")\n",
    "\n",
    "print(\"Generated text: \", tokenizer.decode(generated_text[0]))"
   ]
  }
 ],
 "metadata": {
  "kernelspec": {
   "display_name": "Python 3 (ipykernel)",
   "language": "python",
   "name": "python3"
  },
  "language_info": {
   "codemirror_mode": {
    "name": "ipython",
    "version": 3
   },
   "file_extension": ".py",
   "mimetype": "text/x-python",
   "name": "python",
   "nbconvert_exporter": "python",
   "pygments_lexer": "ipython3",
   "version": "3.10.12"
  }
 },
 "nbformat": 4,
 "nbformat_minor": 5
}
