{
 "cells": [
  {
   "cell_type": "markdown",
   "id": "0833d1e6-e58c-4d66-bce9-1ad02b7ef476",
   "metadata": {},
   "source": [
    "# Imports"
   ]
  },
  {
   "cell_type": "code",
   "execution_count": 1,
   "id": "initial_id",
   "metadata": {},
   "outputs": [],
   "source": [
    "# Configs\n",
    "%load_ext autoreload\n",
    "%autoreload 3\n",
    "## other standard packages\n",
    "import sys\n",
    "## Env variables and preparation stuffs\n",
    "sys.path.insert(0, \"../\")\n",
    "from src_code.data_utils.dataset import GridDataset\n",
    "from src_code.data_utils.dataset_utils import CellType"
   ]
  },
  {
   "cell_type": "markdown",
   "id": "8137977c-ca7b-46a2-8e14-6dcab4274c35",
   "metadata": {},
   "source": [
    "# Dataset\n",
    "class CellType(Enum):\n",
    "\n",
    "    FREE_CELL = 1  # Represents free space\n",
    "    WALL = 2       # Represens a wall\n",
    "    START = 3      # Represents the start position\n",
    "    GOAL = 4       # Represents the goal position"
   ]
  },
  {
   "cell_type": "code",
   "execution_count": 2,
   "id": "8aa20a2b-d8b0-40d1-a90a-bf42b52e1f39",
   "metadata": {},
   "outputs": [],
   "source": [
    "# cell size in the size of the grid measured in pixels\n",
    "dataset = GridDataset(grid_size=5, seed = 42, wall_symbol=\"#\", free_symbol=\".\", cell_size=20)\n",
    "img_rgb1, ascii_inp1, path1 = dataset[0]\n"
   ]
  },
  {
   "cell_type": "code",
   "execution_count": 3,
   "id": "df7b3003-6edd-4b7b-9de1-ca16957c888d",
   "metadata": {},
   "outputs": [],
   "source": [
    "img_rgb2, ascii_inp2, path2 = dataset[1]"
   ]
  },
  {
   "cell_type": "code",
   "execution_count": 4,
   "id": "c0b796b9-dce1-47a0-aa81-ad02f6633911",
   "metadata": {},
   "outputs": [
    {
     "data": {
      "image/jpeg": "[encoded data removed]",
      "image/png": "[encoded data removed]",
      "text/plain": [
       "<PIL.Image.Image image mode=RGB size=101x101>"
      ]
     },
     "execution_count": 4,
     "metadata": {},
     "output_type": "execute_result"
    }
   ],
   "source": [
    "img_rgb2"
   ]
  },
  {
   "cell_type": "code",
   "execution_count": 5,
   "id": "c48695ed",
   "metadata": {},
   "outputs": [
    {
     "name": "stdout",
     "output_type": "stream",
     "text": [
      ". . G . . \n",
      ". . . . # \n",
      "# # . . . \n",
      ". . # S # \n",
      "# . . . . \n",
      "\n"
     ]
    }
   ],
   "source": [
    "print(ascii_inp1)"
   ]
  },
  {
   "cell_type": "code",
   "execution_count": 12,
   "id": "baf9f9f1-1e1e-43ba-b9e9-f1995971804f",
   "metadata": {},
   "outputs": [
    {
     "data": {
      "image/jpeg": "[encoded data removed]",
      "image/png": "[encoded data removed]",
      "text/plain": [
       "<PIL.Image.Image image mode=RGB size=101x101>"
      ]
     },
     "execution_count": 12,
     "metadata": {},
     "output_type": "execute_result"
    }
   ],
   "source": [
    "dataset[20][0]"
   ]
  },
  {
   "cell_type": "code",
   "execution_count": 9,
   "id": "09a14f64-654f-440c-b7b2-a312578a7012",
   "metadata": {},
   "outputs": [],
   "source": [
    "for i in range(1000):\n",
    "    dataset[i][0]"
   ]
  }
 ],
 "metadata": {
  "kernelspec": {
   "display_name": "Python 3 (ipykernel)",
   "language": "python",
   "name": "python3"
  },
  "language_info": {
   "codemirror_mode": {
    "name": "ipython",
    "version": 3
   },
   "file_extension": ".py",
   "mimetype": "text/x-python",
   "name": "python",
   "nbconvert_exporter": "python",
   "pygments_lexer": "ipython3",
   "version": "3.10.12"
  }
 },
 "nbformat": 4,
 "nbformat_minor": 5
}
