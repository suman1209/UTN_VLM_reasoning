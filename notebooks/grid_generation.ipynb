{
 "cells": [
  {
   "cell_type": "markdown",
   "id": "0833d1e6-e58c-4d66-bce9-1ad02b7ef476",
   "metadata": {},
   "source": [
    "# Imports"
   ]
  },
  {
   "cell_type": "code",
   "execution_count": 1,
   "id": "initial_id",
   "metadata": {},
   "outputs": [],
   "source": [
    "# Configs\n",
    "%load_ext autoreload\n",
    "%autoreload 3\n",
    "## other standard packages\n",
    "import sys\n",
    "## Env variables and preparation stuffs\n",
    "sys.path.insert(0, \"../\")\n",
    "from src_code.data_utils.dataset import GridDataset\n",
    "from src_code.data_utils.dataset_utils import CellType\n",
    "from src_code.data_utils.prompt_utils import prompt_generator"
   ]
  },
  {
   "cell_type": "markdown",
   "id": "8137977c-ca7b-46a2-8e14-6dcab4274c35",
   "metadata": {},
   "source": [
    "# Dataset\n",
    "class CellType(Enum):\n",
    "\n",
    "    FREE_CELL = 1  # Represents free space\n",
    "    WALL = 2       # Represens a wall\n",
    "    START = 3      # Represents the start position\n",
    "    GOAL = 4       # Represents the goal position"
   ]
  },
  {
   "cell_type": "code",
   "execution_count": 2,
   "id": "8aa20a2b-d8b0-40d1-a90a-bf42b52e1f39",
   "metadata": {},
   "outputs": [],
   "source": [
    "# cell size in the size of the grid measured in pixels\n",
    "dataset = GridDataset(grid_size=5, seed = 42, wall_symbol=\"#\", free_symbol=\".\", cell_size=20)\n",
    "img_rgb1, grid_world1 = dataset[0]\n"
   ]
  },
  {
   "cell_type": "code",
   "execution_count": 3,
   "id": "3115fc4c",
   "metadata": {},
   "outputs": [
    {
     "data": {
      "image/jpeg": "[encoded data removed]",
      "image/png": "[encoded data removed]",
      "text/plain": [
       "<PIL.Image.Image image mode=RGB size=101x101>"
      ]
     },
     "execution_count": 3,
     "metadata": {},
     "output_type": "execute_result"
    }
   ],
   "source": [
    "img_rgb1"
   ]
  },
  {
   "cell_type": "code",
   "execution_count": 4,
   "id": "d6fe2b12",
   "metadata": {},
   "outputs": [
    {
     "data": {
      "text/plain": [
       "('go up', 'go up', 'go up', 'go left')"
      ]
     },
     "execution_count": 4,
     "metadata": {},
     "output_type": "execute_result"
    }
   ],
   "source": [
    "grid_world1.a_star()"
   ]
  },
  {
   "cell_type": "code",
   "execution_count": 5,
   "id": "df7b3003-6edd-4b7b-9de1-ca16957c888d",
   "metadata": {},
   "outputs": [],
   "source": [
    "img_rgb2, grid_world2 = dataset[1]"
   ]
  },
  {
   "cell_type": "code",
   "execution_count": 6,
   "id": "c0b796b9-dce1-47a0-aa81-ad02f6633911",
   "metadata": {},
   "outputs": [
    {
     "data": {
      "image/jpeg": "[encoded data removed]",
      "image/png": "[encoded data removed]",
      "text/plain": [
       "<PIL.Image.Image image mode=RGB size=101x101>"
      ]
     },
     "execution_count": 6,
     "metadata": {},
     "output_type": "execute_result"
    }
   ],
   "source": [
    "img_rgb2"
   ]
  },
  {
   "cell_type": "code",
   "execution_count": 7,
   "id": "c48695ed",
   "metadata": {},
   "outputs": [
    {
     "name": "stdout",
     "output_type": "stream",
     "text": [
      ". . G . . \n",
      ". . . . S \n",
      ". . . . . \n",
      ". . . # . \n",
      "# . . . . \n",
      "\n"
     ]
    }
   ],
   "source": [
    "print(str(grid_world2))"
   ]
  },
  {
   "cell_type": "code",
   "execution_count": 8,
   "id": "baf9f9f1-1e1e-43ba-b9e9-f1995971804f",
   "metadata": {},
   "outputs": [
    {
     "data": {
      "image/jpeg": "[encoded data removed]",
      "image/png": "[encoded data removed]",
      "text/plain": [
       "<PIL.Image.Image image mode=RGB size=101x101>"
      ]
     },
     "execution_count": 8,
     "metadata": {},
     "output_type": "execute_result"
    }
   ],
   "source": [
    "dataset[20][0]"
   ]
  },
  {
   "cell_type": "markdown",
   "id": "6824e8a0",
   "metadata": {},
   "source": [
    "# Prompt"
   ]
  },
  {
   "cell_type": "code",
   "execution_count": 22,
   "id": "c5236802",
   "metadata": {},
   "outputs": [
    {
     "name": "stdout",
     "output_type": "stream",
     "text": [
      "Can you find the path from the starting cell to the goal cell?\n",
      "Here is an image of the grid world:\n",
      "  \n",
      " The red cell is the starting cell, \n",
      " the green cell is the goal cell, \n",
      " the gray cells are obstacles, \n",
      " and the white cells are free cell.\n",
      " \n",
      " Rules: \n",
      " The path must not pass through the obstacles. \n",
      " You can move up, down, left, or right from one cell to another. \n",
      " You cannot move diagonally. \n",
      " The path must be the shortest path from the starting cell to the goal cell. \n",
      " The output should be a sequence of steps to reach the goal cell. \n",
      " \n",
      " Actions: \n",
      " Only give me the steps, like 'go up', go down', 'go left' or 'go right'\n",
      " go up: move one cell up, in coordinate is y - 1 \n",
      " go down: move one cell down, in coordinate is y + 1 \n",
      " go left: move one cell left, , in coordinate is x - 1 \n",
      " go right: move one cell right, in coordinate is x + 1 \n",
      " \n",
      " Coordinate system:\n",
      " The top-left cell is (0, 0). \n",
      " The x-coordinate increases to the right. \n",
      " The y-coordinate increases downwards. \n",
      " The starting cell is at (1, 2). \n",
      " The goal cell is at (0, 2). \n",
      " There are some obstacles at [(3, 3), (4, 0), (4, 0)]. \n",
      " \n",
      " Output example:\n",
      " ('go up', 'go right', 'go right', 'go down', 'go right')\n"
     ]
    }
   ],
   "source": [
    "print(prompt_generator(grid_world2, img=img_rgb2))"
   ]
  },
  {
   "cell_type": "code",
   "execution_count": 23,
   "id": "1db1c66b",
   "metadata": {},
   "outputs": [
    {
     "name": "stdout",
     "output_type": "stream",
     "text": [
      "Can you find the path from the starting cell to the goal cell?\n",
      " Here is the grid world:\n",
      " . . G . . \n",
      ". . S . . \n",
      ". . . . . \n",
      ". . . . . \n",
      "# . . . . \n",
      " \n",
      " The S cell is the starting cell, \n",
      " the G cell is the goal cell, \n",
      " the # cells are obstacles, \n",
      " and the . cells are free cell. \n",
      " \n",
      " Rules: \n",
      " The path must not pass through the obstacles. \n",
      " You can move up, down, left, or right from one cell to another. \n",
      " You cannot move diagonally. \n",
      " The path must be the shortest path from the starting cell to the goal cell. \n",
      " The output should be a sequence of steps to reach the goal cell. \n",
      " \n",
      " Actions: \n",
      " Only give me the steps, like 'go up', go down', 'go left' or 'go right'\n",
      " go up: move one cell up, in coordinate is y - 1 \n",
      " go down: move one cell down, in coordinate is y + 1 \n",
      " go left: move one cell left, , in coordinate is x - 1 \n",
      " go right: move one cell right, in coordinate is x + 1 \n",
      " \n",
      " Coordinate system:\n",
      " The top-left cell is (0, 0). \n",
      " The x-coordinate increases to the right. \n",
      " The y-coordinate increases downwards. \n",
      " The starting cell is at (1, 2). \n",
      " The goal cell is at (0, 2). \n",
      " There are some obstacles at [(3, 3), (4, 0), (4, 0)]. \n",
      " \n",
      " Output example:\n",
      " ('go up', 'go right', 'go right', 'go down', 'go right')\n"
     ]
    }
   ],
   "source": [
    "print(prompt_generator(grid_world2))"
   ]
  },
  {
   "cell_type": "code",
   "execution_count": null,
   "id": "7df6b337",
   "metadata": {},
   "outputs": [],
   "source": []
  }
 ],
 "metadata": {
  "kernelspec": {
   "display_name": "py3126",
   "language": "python",
   "name": "python3"
  },
  "language_info": {
   "codemirror_mode": {
    "name": "ipython",
    "version": 3
   },
   "file_extension": ".py",
   "mimetype": "text/x-python",
   "name": "python",
   "nbconvert_exporter": "python",
   "pygments_lexer": "ipython3",
   "version": "3.12.2"
  }
 },
 "nbformat": 4,
 "nbformat_minor": 5
}
