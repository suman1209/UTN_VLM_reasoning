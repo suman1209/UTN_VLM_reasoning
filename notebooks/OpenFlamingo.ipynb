{
 "cells": [
  {
   "cell_type": "markdown",
   "id": "0833d1e6-e58c-4d66-bce9-1ad02b7ef476",
   "metadata": {},
   "source": [
    "# 1. Imports"
   ]
  },
  {
   "cell_type": "code",
   "execution_count": 1,
   "id": "initial_id",
   "metadata": {},
   "outputs": [],
   "source": [
    "# Configs\n",
    "%load_ext autoreload\n",
    "%autoreload 3\n",
    "## other standard packages\n",
    "import sys\n",
    "## Env variables and preparation stuffs\n",
    "sys.path.insert(0, \"../\")\n",
    "from src_code.data_utils.dataset import GridDataset\n",
    "from src_code.data_utils.dataset_utils import CellType"
   ]
  },
  {
   "cell_type": "markdown",
   "id": "8137977c-ca7b-46a2-8e14-6dcab4274c35",
   "metadata": {},
   "source": [
    "# 2. Dataset"
   ]
  },
  {
   "cell_type": "code",
   "execution_count": 2,
   "id": "8aa20a2b-d8b0-40d1-a90a-bf42b52e1f39",
   "metadata": {},
   "outputs": [],
   "source": [
    "dataset = GridDataset(grid_size=5, seed = 42, wall_symbol=\"#\", free_symbol=\".\")\n",
    "\n",
    "img_rgb1, grid_world1 = dataset[1]"
   ]
  },
  {
   "cell_type": "code",
   "execution_count": 3,
   "id": "c0b796b9-dce1-47a0-aa81-ad02f6633911",
   "metadata": {},
   "outputs": [
    {
     "data": {
      "image/jpeg": "[encoded data removed]",
      "image/png": "[encoded data removed]",
      "text/plain": [
       "<PIL.Image.Image image mode=RGB size=70x70>"
      ]
     },
     "execution_count": 3,
     "metadata": {},
     "output_type": "execute_result"
    }
   ],
   "source": [
    "img_rgb1"
   ]
  },
  {
   "cell_type": "code",
   "execution_count": 4,
   "id": "c48695ed",
   "metadata": {},
   "outputs": [
    {
     "name": "stdout",
     "output_type": "stream",
     "text": [
      "# . G . . \n",
      ". . . . S \n",
      ". . . . . \n",
      ". # . # . \n",
      "# . . . . \n",
      "\n"
     ]
    }
   ],
   "source": [
    "print(str(grid_world1))"
   ]
  },
  {
   "cell_type": "code",
   "execution_count": 5,
   "id": "baf9f9f1-1e1e-43ba-b9e9-f1995971804f",
   "metadata": {},
   "outputs": [
    {
     "name": "stdout",
     "output_type": "stream",
     "text": [
      "grid_world1.a_star() = ('go up', 'go left', 'go left')\n"
     ]
    }
   ],
   "source": [
    "print(f\"{grid_world1.a_star() = }\")"
   ]
  },
  {
   "cell_type": "markdown",
   "id": "ceac2375-697b-44ea-8600-f22a8e981947",
   "metadata": {},
   "source": [
    "## 3 Open Flamingo Inference\n",
    "Source: https://github.com/mlfoundations/open_flamingo"
   ]
  },
  {
   "cell_type": "markdown",
   "id": "f28380ad-1873-4b86-8b53-bd02c3558769",
   "metadata": {},
   "source": [
    "## 3.1  Reference"
   ]
  },
  {
   "cell_type": "code",
   "execution_count": 6,
   "id": "9f9d9b7d-3cbf-4cd3-8019-03f1039ea778",
   "metadata": {},
   "outputs": [
    {
     "name": "stderr",
     "output_type": "stream",
     "text": [
      "/var/lit2425/jenga/suman/UTN_VLM_reasoning/vlm/lib/python3.10/site-packages/open_clip/factory.py:388: UserWarning: These pretrained weights were trained with QuickGELU activation but the model config does not have that enabled. Consider using a model config with a \"-quickgelu\" suffix or enable with a flag.\n",
      "  warnings.warn(\n",
      "/var/lit2425/jenga/suman/UTN_VLM_reasoning/vlm/lib/python3.10/site-packages/huggingface_hub/file_download.py:797: FutureWarning: `resume_download` is deprecated and will be removed in version 1.0.0. Downloads always resume when possible. If you want to force a new download, use `force_download=True`.\n",
      "  warnings.warn(\n",
      "Using pad_token, but it is not set yet.\n",
      "/var/lit2425/jenga/suman/UTN_VLM_reasoning/vlm/lib/python3.10/site-packages/huggingface_hub/file_download.py:797: FutureWarning: `resume_download` is deprecated and will be removed in version 1.0.0. Downloads always resume when possible. If you want to force a new download, use `force_download=True`.\n",
      "  warnings.warn(\n",
      "You are resizing the embedding layer without providing a `pad_to_multiple_of` parameter. This means that the new embeding dimension will be 50280. This might induce some performance reduction as *Tensor Cores* will not be available. For more details  about this, or help on choosing the correct value for resizing, refer to this guide: https://docs.nvidia.com/deeplearning/performance/dl-performance-matrix-multiplication/index.html#requirements-tc\n"
     ]
    },
    {
     "name": "stdout",
     "output_type": "stream",
     "text": [
      "Flamingo model initialized with 1089480736 trainable parameters\n"
     ]
    },
    {
     "data": {
      "text/plain": [
       "_IncompatibleKeys(missing_keys=['vision_encoder.class_embedding', 'vision_encoder.positional_embedding', 'vision_encoder.proj', 'vision_encoder.conv1.weight', 'vision_encoder.ln_pre.weight', 'vision_encoder.ln_pre.bias', 'vision_encoder.transformer.resblocks.0.ln_1.weight', 'vision_encoder.transformer.resblocks.0.ln_1.bias', 'vision_encoder.transformer.resblocks.0.attn.in_proj_weight', 'vision_encoder.transformer.resblocks.0.attn.in_proj_bias', 'vision_encoder.transformer.resblocks.0.attn.out_proj.weight', 'vision_encoder.transformer.resblocks.0.attn.out_proj.bias', 'vision_encoder.transformer.resblocks.0.ln_2.weight', 'vision_encoder.transformer.resblocks.0.ln_2.bias', 'vision_encoder.transformer.resblocks.0.mlp.c_fc.weight', 'vision_encoder.transformer.resblocks.0.mlp.c_fc.bias', 'vision_encoder.transformer.resblocks.0.mlp.c_proj.weight', 'vision_encoder.transformer.resblocks.0.mlp.c_proj.bias', 'vision_encoder.transformer.resblocks.1.ln_1.weight', 'vision_encoder.transformer.resblocks.1.ln_1.bias', 'vision_encoder.transformer.resblocks.1.attn.in_proj_weight', 'vision_encoder.transformer.resblocks.1.attn.in_proj_bias', 'vision_encoder.transformer.resblocks.1.attn.out_proj.weight', 'vision_encoder.transformer.resblocks.1.attn.out_proj.bias', 'vision_encoder.transformer.resblocks.1.ln_2.weight', 'vision_encoder.transformer.resblocks.1.ln_2.bias', 'vision_encoder.transformer.resblocks.1.mlp.c_fc.weight', 'vision_encoder.transformer.resblocks.1.mlp.c_fc.bias', 'vision_encoder.transformer.resblocks.1.mlp.c_proj.weight', 'vision_encoder.transformer.resblocks.1.mlp.c_proj.bias', 'vision_encoder.transformer.resblocks.2.ln_1.weight', 'vision_encoder.transformer.resblocks.2.ln_1.bias', 'vision_encoder.transformer.resblocks.2.attn.in_proj_weight', 'vision_encoder.transformer.resblocks.2.attn.in_proj_bias', 'vision_encoder.transformer.resblocks.2.attn.out_proj.weight', 'vision_encoder.transformer.resblocks.2.attn.out_proj.bias', 'vision_encoder.transformer.resblocks.2.ln_2.weight', 'vision_encoder.transformer.resblocks.2.ln_2.bias', 'vision_encoder.transformer.resblocks.2.mlp.c_fc.weight', 'vision_encoder.transformer.resblocks.2.mlp.c_fc.bias', 'vision_encoder.transformer.resblocks.2.mlp.c_proj.weight', 'vision_encoder.transformer.resblocks.2.mlp.c_proj.bias', 'vision_encoder.transformer.resblocks.3.ln_1.weight', 'vision_encoder.transformer.resblocks.3.ln_1.bias', 'vision_encoder.transformer.resblocks.3.attn.in_proj_weight', 'vision_encoder.transformer.resblocks.3.attn.in_proj_bias', 'vision_encoder.transformer.resblocks.3.attn.out_proj.weight', 'vision_encoder.transformer.resblocks.3.attn.out_proj.bias', 'vision_encoder.transformer.resblocks.3.ln_2.weight', 'vision_encoder.transformer.resblocks.3.ln_2.bias', 'vision_encoder.transformer.resblocks.3.mlp.c_fc.weight', 'vision_encoder.transformer.resblocks.3.mlp.c_fc.bias', 'vision_encoder.transformer.resblocks.3.mlp.c_proj.weight', 'vision_encoder.transformer.resblocks.3.mlp.c_proj.bias', 'vision_encoder.transformer.resblocks.4.ln_1.weight', 'vision_encoder.transformer.resblocks.4.ln_1.bias', 'vision_encoder.transformer.resblocks.4.attn.in_proj_weight', 'vision_encoder.transformer.resblocks.4.attn.in_proj_bias', 'vision_encoder.transformer.resblocks.4.attn.out_proj.weight', 'vision_encoder.transformer.resblocks.4.attn.out_proj.bias', 'vision_encoder.transformer.resblocks.4.ln_2.weight', 'vision_encoder.transformer.resblocks.4.ln_2.bias', 'vision_encoder.transformer.resblocks.4.mlp.c_fc.weight', 'vision_encoder.transformer.resblocks.4.mlp.c_fc.bias', 'vision_encoder.transformer.resblocks.4.mlp.c_proj.weight', 'vision_encoder.transformer.resblocks.4.mlp.c_proj.bias', 'vision_encoder.transformer.resblocks.5.ln_1.weight', 'vision_encoder.transformer.resblocks.5.ln_1.bias', 'vision_encoder.transformer.resblocks.5.attn.in_proj_weight', 'vision_encoder.transformer.resblocks.5.attn.in_proj_bias', 'vision_encoder.transformer.resblocks.5.attn.out_proj.weight', 'vision_encoder.transformer.resblocks.5.attn.out_proj.bias', 'vision_encoder.transformer.resblocks.5.ln_2.weight', 'vision_encoder.transformer.resblocks.5.ln_2.bias', 'vision_encoder.transformer.resblocks.5.mlp.c_fc.weight', 'vision_encoder.transformer.resblocks.5.mlp.c_fc.bias', 'vision_encoder.transformer.resblocks.5.mlp.c_proj.weight', 'vision_encoder.transformer.resblocks.5.mlp.c_proj.bias', 'vision_encoder.transformer.resblocks.6.ln_1.weight', 'vision_encoder.transformer.resblocks.6.ln_1.bias', 'vision_encoder.transformer.resblocks.6.attn.in_proj_weight', 'vision_encoder.transformer.resblocks.6.attn.in_proj_bias', 'vision_encoder.transformer.resblocks.6.attn.out_proj.weight', 'vision_encoder.transformer.resblocks.6.attn.out_proj.bias', 'vision_encoder.transformer.resblocks.6.ln_2.weight', 'vision_encoder.transformer.resblocks.6.ln_2.bias', 'vision_encoder.transformer.resblocks.6.mlp.c_fc.weight', 'vision_encoder.transformer.resblocks.6.mlp.c_fc.bias', 'vision_encoder.transformer.resblocks.6.mlp.c_proj.weight', 'vision_encoder.transformer.resblocks.6.mlp.c_proj.bias', 'vision_encoder.transformer.resblocks.7.ln_1.weight', 'vision_encoder.transformer.resblocks.7.ln_1.bias', 'vision_encoder.transformer.resblocks.7.attn.in_proj_weight', 'vision_encoder.transformer.resblocks.7.attn.in_proj_bias', 'vision_encoder.transformer.resblocks.7.attn.out_proj.weight', 'vision_encoder.transformer.resblocks.7.attn.out_proj.bias', 'vision_encoder.transformer.resblocks.7.ln_2.weight', 'vision_encoder.transformer.resblocks.7.ln_2.bias', 'vision_encoder.transformer.resblocks.7.mlp.c_fc.weight', 'vision_encoder.transformer.resblocks.7.mlp.c_fc.bias', 'vision_encoder.transformer.resblocks.7.mlp.c_proj.weight', 'vision_encoder.transformer.resblocks.7.mlp.c_proj.bias', 'vision_encoder.transformer.resblocks.8.ln_1.weight', 'vision_encoder.transformer.resblocks.8.ln_1.bias', 'vision_encoder.transformer.resblocks.8.attn.in_proj_weight', 'vision_encoder.transformer.resblocks.8.attn.in_proj_bias', 'vision_encoder.transformer.resblocks.8.attn.out_proj.weight', 'vision_encoder.transformer.resblocks.8.attn.out_proj.bias', 'vision_encoder.transformer.resblocks.8.ln_2.weight', 'vision_encoder.transformer.resblocks.8.ln_2.bias', 'vision_encoder.transformer.resblocks.8.mlp.c_fc.weight', 'vision_encoder.transformer.resblocks.8.mlp.c_fc.bias', 'vision_encoder.transformer.resblocks.8.mlp.c_proj.weight', 'vision_encoder.transformer.resblocks.8.mlp.c_proj.bias', 'vision_encoder.transformer.resblocks.9.ln_1.weight', 'vision_encoder.transformer.resblocks.9.ln_1.bias', 'vision_encoder.transformer.resblocks.9.attn.in_proj_weight', 'vision_encoder.transformer.resblocks.9.attn.in_proj_bias', 'vision_encoder.transformer.resblocks.9.attn.out_proj.weight', 'vision_encoder.transformer.resblocks.9.attn.out_proj.bias', 'vision_encoder.transformer.resblocks.9.ln_2.weight', 'vision_encoder.transformer.resblocks.9.ln_2.bias', 'vision_encoder.transformer.resblocks.9.mlp.c_fc.weight', 'vision_encoder.transformer.resblocks.9.mlp.c_fc.bias', 'vision_encoder.transformer.resblocks.9.mlp.c_proj.weight', 'vision_encoder.transformer.resblocks.9.mlp.c_proj.bias', 'vision_encoder.transformer.resblocks.10.ln_1.weight', 'vision_encoder.transformer.resblocks.10.ln_1.bias', 'vision_encoder.transformer.resblocks.10.attn.in_proj_weight', 'vision_encoder.transformer.resblocks.10.attn.in_proj_bias', 'vision_encoder.transformer.resblocks.10.attn.out_proj.weight', 'vision_encoder.transformer.resblocks.10.attn.out_proj.bias', 'vision_encoder.transformer.resblocks.10.ln_2.weight', 'vision_encoder.transformer.resblocks.10.ln_2.bias', 'vision_encoder.transformer.resblocks.10.mlp.c_fc.weight', 'vision_encoder.transformer.resblocks.10.mlp.c_fc.bias', 'vision_encoder.transformer.resblocks.10.mlp.c_proj.weight', 'vision_encoder.transformer.resblocks.10.mlp.c_proj.bias', 'vision_encoder.transformer.resblocks.11.ln_1.weight', 'vision_encoder.transformer.resblocks.11.ln_1.bias', 'vision_encoder.transformer.resblocks.11.attn.in_proj_weight', 'vision_encoder.transformer.resblocks.11.attn.in_proj_bias', 'vision_encoder.transformer.resblocks.11.attn.out_proj.weight', 'vision_encoder.transformer.resblocks.11.attn.out_proj.bias', 'vision_encoder.transformer.resblocks.11.ln_2.weight', 'vision_encoder.transformer.resblocks.11.ln_2.bias', 'vision_encoder.transformer.resblocks.11.mlp.c_fc.weight', 'vision_encoder.transformer.resblocks.11.mlp.c_fc.bias', 'vision_encoder.transformer.resblocks.11.mlp.c_proj.weight', 'vision_encoder.transformer.resblocks.11.mlp.c_proj.bias', 'vision_encoder.transformer.resblocks.12.ln_1.weight', 'vision_encoder.transformer.resblocks.12.ln_1.bias', 'vision_encoder.transformer.resblocks.12.attn.in_proj_weight', 'vision_encoder.transformer.resblocks.12.attn.in_proj_bias', 'vision_encoder.transformer.resblocks.12.attn.out_proj.weight', 'vision_encoder.transformer.resblocks.12.attn.out_proj.bias', 'vision_encoder.transformer.resblocks.12.ln_2.weight', 'vision_encoder.transformer.resblocks.12.ln_2.bias', 'vision_encoder.transformer.resblocks.12.mlp.c_fc.weight', 'vision_encoder.transformer.resblocks.12.mlp.c_fc.bias', 'vision_encoder.transformer.resblocks.12.mlp.c_proj.weight', 'vision_encoder.transformer.resblocks.12.mlp.c_proj.bias', 'vision_encoder.transformer.resblocks.13.ln_1.weight', 'vision_encoder.transformer.resblocks.13.ln_1.bias', 'vision_encoder.transformer.resblocks.13.attn.in_proj_weight', 'vision_encoder.transformer.resblocks.13.attn.in_proj_bias', 'vision_encoder.transformer.resblocks.13.attn.out_proj.weight', 'vision_encoder.transformer.resblocks.13.attn.out_proj.bias', 'vision_encoder.transformer.resblocks.13.ln_2.weight', 'vision_encoder.transformer.resblocks.13.ln_2.bias', 'vision_encoder.transformer.resblocks.13.mlp.c_fc.weight', 'vision_encoder.transformer.resblocks.13.mlp.c_fc.bias', 'vision_encoder.transformer.resblocks.13.mlp.c_proj.weight', 'vision_encoder.transformer.resblocks.13.mlp.c_proj.bias', 'vision_encoder.transformer.resblocks.14.ln_1.weight', 'vision_encoder.transformer.resblocks.14.ln_1.bias', 'vision_encoder.transformer.resblocks.14.attn.in_proj_weight', 'vision_encoder.transformer.resblocks.14.attn.in_proj_bias', 'vision_encoder.transformer.resblocks.14.attn.out_proj.weight', 'vision_encoder.transformer.resblocks.14.attn.out_proj.bias', 'vision_encoder.transformer.resblocks.14.ln_2.weight', 'vision_encoder.transformer.resblocks.14.ln_2.bias', 'vision_encoder.transformer.resblocks.14.mlp.c_fc.weight', 'vision_encoder.transformer.resblocks.14.mlp.c_fc.bias', 'vision_encoder.transformer.resblocks.14.mlp.c_proj.weight', 'vision_encoder.transformer.resblocks.14.mlp.c_proj.bias', 'vision_encoder.transformer.resblocks.15.ln_1.weight', 'vision_encoder.transformer.resblocks.15.ln_1.bias', 'vision_encoder.transformer.resblocks.15.attn.in_proj_weight', 'vision_encoder.transformer.resblocks.15.attn.in_proj_bias', 'vision_encoder.transformer.resblocks.15.attn.out_proj.weight', 'vision_encoder.transformer.resblocks.15.attn.out_proj.bias', 'vision_encoder.transformer.resblocks.15.ln_2.weight', 'vision_encoder.transformer.resblocks.15.ln_2.bias', 'vision_encoder.transformer.resblocks.15.mlp.c_fc.weight', 'vision_encoder.transformer.resblocks.15.mlp.c_fc.bias', 'vision_encoder.transformer.resblocks.15.mlp.c_proj.weight', 'vision_encoder.transformer.resblocks.15.mlp.c_proj.bias', 'vision_encoder.transformer.resblocks.16.ln_1.weight', 'vision_encoder.transformer.resblocks.16.ln_1.bias', 'vision_encoder.transformer.resblocks.16.attn.in_proj_weight', 'vision_encoder.transformer.resblocks.16.attn.in_proj_bias', 'vision_encoder.transformer.resblocks.16.attn.out_proj.weight', 'vision_encoder.transformer.resblocks.16.attn.out_proj.bias', 'vision_encoder.transformer.resblocks.16.ln_2.weight', 'vision_encoder.transformer.resblocks.16.ln_2.bias', 'vision_encoder.transformer.resblocks.16.mlp.c_fc.weight', 'vision_encoder.transformer.resblocks.16.mlp.c_fc.bias', 'vision_encoder.transformer.resblocks.16.mlp.c_proj.weight', 'vision_encoder.transformer.resblocks.16.mlp.c_proj.bias', 'vision_encoder.transformer.resblocks.17.ln_1.weight', 'vision_encoder.transformer.resblocks.17.ln_1.bias', 'vision_encoder.transformer.resblocks.17.attn.in_proj_weight', 'vision_encoder.transformer.resblocks.17.attn.in_proj_bias', 'vision_encoder.transformer.resblocks.17.attn.out_proj.weight', 'vision_encoder.transformer.resblocks.17.attn.out_proj.bias', 'vision_encoder.transformer.resblocks.17.ln_2.weight', 'vision_encoder.transformer.resblocks.17.ln_2.bias', 'vision_encoder.transformer.resblocks.17.mlp.c_fc.weight', 'vision_encoder.transformer.resblocks.17.mlp.c_fc.bias', 'vision_encoder.transformer.resblocks.17.mlp.c_proj.weight', 'vision_encoder.transformer.resblocks.17.mlp.c_proj.bias', 'vision_encoder.transformer.resblocks.18.ln_1.weight', 'vision_encoder.transformer.resblocks.18.ln_1.bias', 'vision_encoder.transformer.resblocks.18.attn.in_proj_weight', 'vision_encoder.transformer.resblocks.18.attn.in_proj_bias', 'vision_encoder.transformer.resblocks.18.attn.out_proj.weight', 'vision_encoder.transformer.resblocks.18.attn.out_proj.bias', 'vision_encoder.transformer.resblocks.18.ln_2.weight', 'vision_encoder.transformer.resblocks.18.ln_2.bias', 'vision_encoder.transformer.resblocks.18.mlp.c_fc.weight', 'vision_encoder.transformer.resblocks.18.mlp.c_fc.bias', 'vision_encoder.transformer.resblocks.18.mlp.c_proj.weight', 'vision_encoder.transformer.resblocks.18.mlp.c_proj.bias', 'vision_encoder.transformer.resblocks.19.ln_1.weight', 'vision_encoder.transformer.resblocks.19.ln_1.bias', 'vision_encoder.transformer.resblocks.19.attn.in_proj_weight', 'vision_encoder.transformer.resblocks.19.attn.in_proj_bias', 'vision_encoder.transformer.resblocks.19.attn.out_proj.weight', 'vision_encoder.transformer.resblocks.19.attn.out_proj.bias', 'vision_encoder.transformer.resblocks.19.ln_2.weight', 'vision_encoder.transformer.resblocks.19.ln_2.bias', 'vision_encoder.transformer.resblocks.19.mlp.c_fc.weight', 'vision_encoder.transformer.resblocks.19.mlp.c_fc.bias', 'vision_encoder.transformer.resblocks.19.mlp.c_proj.weight', 'vision_encoder.transformer.resblocks.19.mlp.c_proj.bias', 'vision_encoder.transformer.resblocks.20.ln_1.weight', 'vision_encoder.transformer.resblocks.20.ln_1.bias', 'vision_encoder.transformer.resblocks.20.attn.in_proj_weight', 'vision_encoder.transformer.resblocks.20.attn.in_proj_bias', 'vision_encoder.transformer.resblocks.20.attn.out_proj.weight', 'vision_encoder.transformer.resblocks.20.attn.out_proj.bias', 'vision_encoder.transformer.resblocks.20.ln_2.weight', 'vision_encoder.transformer.resblocks.20.ln_2.bias', 'vision_encoder.transformer.resblocks.20.mlp.c_fc.weight', 'vision_encoder.transformer.resblocks.20.mlp.c_fc.bias', 'vision_encoder.transformer.resblocks.20.mlp.c_proj.weight', 'vision_encoder.transformer.resblocks.20.mlp.c_proj.bias', 'vision_encoder.transformer.resblocks.21.ln_1.weight', 'vision_encoder.transformer.resblocks.21.ln_1.bias', 'vision_encoder.transformer.resblocks.21.attn.in_proj_weight', 'vision_encoder.transformer.resblocks.21.attn.in_proj_bias', 'vision_encoder.transformer.resblocks.21.attn.out_proj.weight', 'vision_encoder.transformer.resblocks.21.attn.out_proj.bias', 'vision_encoder.transformer.resblocks.21.ln_2.weight', 'vision_encoder.transformer.resblocks.21.ln_2.bias', 'vision_encoder.transformer.resblocks.21.mlp.c_fc.weight', 'vision_encoder.transformer.resblocks.21.mlp.c_fc.bias', 'vision_encoder.transformer.resblocks.21.mlp.c_proj.weight', 'vision_encoder.transformer.resblocks.21.mlp.c_proj.bias', 'vision_encoder.transformer.resblocks.22.ln_1.weight', 'vision_encoder.transformer.resblocks.22.ln_1.bias', 'vision_encoder.transformer.resblocks.22.attn.in_proj_weight', 'vision_encoder.transformer.resblocks.22.attn.in_proj_bias', 'vision_encoder.transformer.resblocks.22.attn.out_proj.weight', 'vision_encoder.transformer.resblocks.22.attn.out_proj.bias', 'vision_encoder.transformer.resblocks.22.ln_2.weight', 'vision_encoder.transformer.resblocks.22.ln_2.bias', 'vision_encoder.transformer.resblocks.22.mlp.c_fc.weight', 'vision_encoder.transformer.resblocks.22.mlp.c_fc.bias', 'vision_encoder.transformer.resblocks.22.mlp.c_proj.weight', 'vision_encoder.transformer.resblocks.22.mlp.c_proj.bias', 'vision_encoder.transformer.resblocks.23.ln_1.weight', 'vision_encoder.transformer.resblocks.23.ln_1.bias', 'vision_encoder.transformer.resblocks.23.attn.in_proj_weight', 'vision_encoder.transformer.resblocks.23.attn.in_proj_bias', 'vision_encoder.transformer.resblocks.23.attn.out_proj.weight', 'vision_encoder.transformer.resblocks.23.attn.out_proj.bias', 'vision_encoder.transformer.resblocks.23.ln_2.weight', 'vision_encoder.transformer.resblocks.23.ln_2.bias', 'vision_encoder.transformer.resblocks.23.mlp.c_fc.weight', 'vision_encoder.transformer.resblocks.23.mlp.c_fc.bias', 'vision_encoder.transformer.resblocks.23.mlp.c_proj.weight', 'vision_encoder.transformer.resblocks.23.mlp.c_proj.bias', 'vision_encoder.ln_post.weight', 'vision_encoder.ln_post.bias', 'lang_encoder.gpt_neox.layers.0.decoder_layer.input_layernorm.weight', 'lang_encoder.gpt_neox.layers.0.decoder_layer.input_layernorm.bias', 'lang_encoder.gpt_neox.layers.0.decoder_layer.post_attention_layernorm.weight', 'lang_encoder.gpt_neox.layers.0.decoder_layer.post_attention_layernorm.bias', 'lang_encoder.gpt_neox.layers.0.decoder_layer.attention.rotary_emb.inv_freq', 'lang_encoder.gpt_neox.layers.0.decoder_layer.attention.query_key_value.weight', 'lang_encoder.gpt_neox.layers.0.decoder_layer.attention.query_key_value.bias', 'lang_encoder.gpt_neox.layers.0.decoder_layer.attention.dense.weight', 'lang_encoder.gpt_neox.layers.0.decoder_layer.attention.dense.bias', 'lang_encoder.gpt_neox.layers.0.decoder_layer.mlp.dense_h_to_4h.weight', 'lang_encoder.gpt_neox.layers.0.decoder_layer.mlp.dense_h_to_4h.bias', 'lang_encoder.gpt_neox.layers.0.decoder_layer.mlp.dense_4h_to_h.weight', 'lang_encoder.gpt_neox.layers.0.decoder_layer.mlp.dense_4h_to_h.bias', 'lang_encoder.gpt_neox.layers.1.decoder_layer.input_layernorm.weight', 'lang_encoder.gpt_neox.layers.1.decoder_layer.input_layernorm.bias', 'lang_encoder.gpt_neox.layers.1.decoder_layer.post_attention_layernorm.weight', 'lang_encoder.gpt_neox.layers.1.decoder_layer.post_attention_layernorm.bias', 'lang_encoder.gpt_neox.layers.1.decoder_layer.attention.rotary_emb.inv_freq', 'lang_encoder.gpt_neox.layers.1.decoder_layer.attention.query_key_value.weight', 'lang_encoder.gpt_neox.layers.1.decoder_layer.attention.query_key_value.bias', 'lang_encoder.gpt_neox.layers.1.decoder_layer.attention.dense.weight', 'lang_encoder.gpt_neox.layers.1.decoder_layer.attention.dense.bias', 'lang_encoder.gpt_neox.layers.1.decoder_layer.mlp.dense_h_to_4h.weight', 'lang_encoder.gpt_neox.layers.1.decoder_layer.mlp.dense_h_to_4h.bias', 'lang_encoder.gpt_neox.layers.1.decoder_layer.mlp.dense_4h_to_h.weight', 'lang_encoder.gpt_neox.layers.1.decoder_layer.mlp.dense_4h_to_h.bias', 'lang_encoder.gpt_neox.layers.2.decoder_layer.input_layernorm.weight', 'lang_encoder.gpt_neox.layers.2.decoder_layer.input_layernorm.bias', 'lang_encoder.gpt_neox.layers.2.decoder_layer.post_attention_layernorm.weight', 'lang_encoder.gpt_neox.layers.2.decoder_layer.post_attention_layernorm.bias', 'lang_encoder.gpt_neox.layers.2.decoder_layer.attention.rotary_emb.inv_freq', 'lang_encoder.gpt_neox.layers.2.decoder_layer.attention.query_key_value.weight', 'lang_encoder.gpt_neox.layers.2.decoder_layer.attention.query_key_value.bias', 'lang_encoder.gpt_neox.layers.2.decoder_layer.attention.dense.weight', 'lang_encoder.gpt_neox.layers.2.decoder_layer.attention.dense.bias', 'lang_encoder.gpt_neox.layers.2.decoder_layer.mlp.dense_h_to_4h.weight', 'lang_encoder.gpt_neox.layers.2.decoder_layer.mlp.dense_h_to_4h.bias', 'lang_encoder.gpt_neox.layers.2.decoder_layer.mlp.dense_4h_to_h.weight', 'lang_encoder.gpt_neox.layers.2.decoder_layer.mlp.dense_4h_to_h.bias', 'lang_encoder.gpt_neox.layers.3.decoder_layer.input_layernorm.weight', 'lang_encoder.gpt_neox.layers.3.decoder_layer.input_layernorm.bias', 'lang_encoder.gpt_neox.layers.3.decoder_layer.post_attention_layernorm.weight', 'lang_encoder.gpt_neox.layers.3.decoder_layer.post_attention_layernorm.bias', 'lang_encoder.gpt_neox.layers.3.decoder_layer.attention.rotary_emb.inv_freq', 'lang_encoder.gpt_neox.layers.3.decoder_layer.attention.query_key_value.weight', 'lang_encoder.gpt_neox.layers.3.decoder_layer.attention.query_key_value.bias', 'lang_encoder.gpt_neox.layers.3.decoder_layer.attention.dense.weight', 'lang_encoder.gpt_neox.layers.3.decoder_layer.attention.dense.bias', 'lang_encoder.gpt_neox.layers.3.decoder_layer.mlp.dense_h_to_4h.weight', 'lang_encoder.gpt_neox.layers.3.decoder_layer.mlp.dense_h_to_4h.bias', 'lang_encoder.gpt_neox.layers.3.decoder_layer.mlp.dense_4h_to_h.weight', 'lang_encoder.gpt_neox.layers.3.decoder_layer.mlp.dense_4h_to_h.bias', 'lang_encoder.gpt_neox.layers.4.decoder_layer.input_layernorm.weight', 'lang_encoder.gpt_neox.layers.4.decoder_layer.input_layernorm.bias', 'lang_encoder.gpt_neox.layers.4.decoder_layer.post_attention_layernorm.weight', 'lang_encoder.gpt_neox.layers.4.decoder_layer.post_attention_layernorm.bias', 'lang_encoder.gpt_neox.layers.4.decoder_layer.attention.rotary_emb.inv_freq', 'lang_encoder.gpt_neox.layers.4.decoder_layer.attention.query_key_value.weight', 'lang_encoder.gpt_neox.layers.4.decoder_layer.attention.query_key_value.bias', 'lang_encoder.gpt_neox.layers.4.decoder_layer.attention.dense.weight', 'lang_encoder.gpt_neox.layers.4.decoder_layer.attention.dense.bias', 'lang_encoder.gpt_neox.layers.4.decoder_layer.mlp.dense_h_to_4h.weight', 'lang_encoder.gpt_neox.layers.4.decoder_layer.mlp.dense_h_to_4h.bias', 'lang_encoder.gpt_neox.layers.4.decoder_layer.mlp.dense_4h_to_h.weight', 'lang_encoder.gpt_neox.layers.4.decoder_layer.mlp.dense_4h_to_h.bias', 'lang_encoder.gpt_neox.layers.5.decoder_layer.input_layernorm.weight', 'lang_encoder.gpt_neox.layers.5.decoder_layer.input_layernorm.bias', 'lang_encoder.gpt_neox.layers.5.decoder_layer.post_attention_layernorm.weight', 'lang_encoder.gpt_neox.layers.5.decoder_layer.post_attention_layernorm.bias', 'lang_encoder.gpt_neox.layers.5.decoder_layer.attention.rotary_emb.inv_freq', 'lang_encoder.gpt_neox.layers.5.decoder_layer.attention.query_key_value.weight', 'lang_encoder.gpt_neox.layers.5.decoder_layer.attention.query_key_value.bias', 'lang_encoder.gpt_neox.layers.5.decoder_layer.attention.dense.weight', 'lang_encoder.gpt_neox.layers.5.decoder_layer.attention.dense.bias', 'lang_encoder.gpt_neox.layers.5.decoder_layer.mlp.dense_h_to_4h.weight', 'lang_encoder.gpt_neox.layers.5.decoder_layer.mlp.dense_h_to_4h.bias', 'lang_encoder.gpt_neox.layers.5.decoder_layer.mlp.dense_4h_to_h.weight', 'lang_encoder.gpt_neox.layers.5.decoder_layer.mlp.dense_4h_to_h.bias', 'lang_encoder.gpt_neox.layers.6.decoder_layer.input_layernorm.weight', 'lang_encoder.gpt_neox.layers.6.decoder_layer.input_layernorm.bias', 'lang_encoder.gpt_neox.layers.6.decoder_layer.post_attention_layernorm.weight', 'lang_encoder.gpt_neox.layers.6.decoder_layer.post_attention_layernorm.bias', 'lang_encoder.gpt_neox.layers.6.decoder_layer.attention.rotary_emb.inv_freq', 'lang_encoder.gpt_neox.layers.6.decoder_layer.attention.query_key_value.weight', 'lang_encoder.gpt_neox.layers.6.decoder_layer.attention.query_key_value.bias', 'lang_encoder.gpt_neox.layers.6.decoder_layer.attention.dense.weight', 'lang_encoder.gpt_neox.layers.6.decoder_layer.attention.dense.bias', 'lang_encoder.gpt_neox.layers.6.decoder_layer.mlp.dense_h_to_4h.weight', 'lang_encoder.gpt_neox.layers.6.decoder_layer.mlp.dense_h_to_4h.bias', 'lang_encoder.gpt_neox.layers.6.decoder_layer.mlp.dense_4h_to_h.weight', 'lang_encoder.gpt_neox.layers.6.decoder_layer.mlp.dense_4h_to_h.bias', 'lang_encoder.gpt_neox.layers.7.decoder_layer.input_layernorm.weight', 'lang_encoder.gpt_neox.layers.7.decoder_layer.input_layernorm.bias', 'lang_encoder.gpt_neox.layers.7.decoder_layer.post_attention_layernorm.weight', 'lang_encoder.gpt_neox.layers.7.decoder_layer.post_attention_layernorm.bias', 'lang_encoder.gpt_neox.layers.7.decoder_layer.attention.rotary_emb.inv_freq', 'lang_encoder.gpt_neox.layers.7.decoder_layer.attention.query_key_value.weight', 'lang_encoder.gpt_neox.layers.7.decoder_layer.attention.query_key_value.bias', 'lang_encoder.gpt_neox.layers.7.decoder_layer.attention.dense.weight', 'lang_encoder.gpt_neox.layers.7.decoder_layer.attention.dense.bias', 'lang_encoder.gpt_neox.layers.7.decoder_layer.mlp.dense_h_to_4h.weight', 'lang_encoder.gpt_neox.layers.7.decoder_layer.mlp.dense_h_to_4h.bias', 'lang_encoder.gpt_neox.layers.7.decoder_layer.mlp.dense_4h_to_h.weight', 'lang_encoder.gpt_neox.layers.7.decoder_layer.mlp.dense_4h_to_h.bias', 'lang_encoder.gpt_neox.layers.8.decoder_layer.input_layernorm.weight', 'lang_encoder.gpt_neox.layers.8.decoder_layer.input_layernorm.bias', 'lang_encoder.gpt_neox.layers.8.decoder_layer.post_attention_layernorm.weight', 'lang_encoder.gpt_neox.layers.8.decoder_layer.post_attention_layernorm.bias', 'lang_encoder.gpt_neox.layers.8.decoder_layer.attention.rotary_emb.inv_freq', 'lang_encoder.gpt_neox.layers.8.decoder_layer.attention.query_key_value.weight', 'lang_encoder.gpt_neox.layers.8.decoder_layer.attention.query_key_value.bias', 'lang_encoder.gpt_neox.layers.8.decoder_layer.attention.dense.weight', 'lang_encoder.gpt_neox.layers.8.decoder_layer.attention.dense.bias', 'lang_encoder.gpt_neox.layers.8.decoder_layer.mlp.dense_h_to_4h.weight', 'lang_encoder.gpt_neox.layers.8.decoder_layer.mlp.dense_h_to_4h.bias', 'lang_encoder.gpt_neox.layers.8.decoder_layer.mlp.dense_4h_to_h.weight', 'lang_encoder.gpt_neox.layers.8.decoder_layer.mlp.dense_4h_to_h.bias', 'lang_encoder.gpt_neox.layers.9.decoder_layer.input_layernorm.weight', 'lang_encoder.gpt_neox.layers.9.decoder_layer.input_layernorm.bias', 'lang_encoder.gpt_neox.layers.9.decoder_layer.post_attention_layernorm.weight', 'lang_encoder.gpt_neox.layers.9.decoder_layer.post_attention_layernorm.bias', 'lang_encoder.gpt_neox.layers.9.decoder_layer.attention.rotary_emb.inv_freq', 'lang_encoder.gpt_neox.layers.9.decoder_layer.attention.query_key_value.weight', 'lang_encoder.gpt_neox.layers.9.decoder_layer.attention.query_key_value.bias', 'lang_encoder.gpt_neox.layers.9.decoder_layer.attention.dense.weight', 'lang_encoder.gpt_neox.layers.9.decoder_layer.attention.dense.bias', 'lang_encoder.gpt_neox.layers.9.decoder_layer.mlp.dense_h_to_4h.weight', 'lang_encoder.gpt_neox.layers.9.decoder_layer.mlp.dense_h_to_4h.bias', 'lang_encoder.gpt_neox.layers.9.decoder_layer.mlp.dense_4h_to_h.weight', 'lang_encoder.gpt_neox.layers.9.decoder_layer.mlp.dense_4h_to_h.bias', 'lang_encoder.gpt_neox.layers.10.decoder_layer.input_layernorm.weight', 'lang_encoder.gpt_neox.layers.10.decoder_layer.input_layernorm.bias', 'lang_encoder.gpt_neox.layers.10.decoder_layer.post_attention_layernorm.weight', 'lang_encoder.gpt_neox.layers.10.decoder_layer.post_attention_layernorm.bias', 'lang_encoder.gpt_neox.layers.10.decoder_layer.attention.rotary_emb.inv_freq', 'lang_encoder.gpt_neox.layers.10.decoder_layer.attention.query_key_value.weight', 'lang_encoder.gpt_neox.layers.10.decoder_layer.attention.query_key_value.bias', 'lang_encoder.gpt_neox.layers.10.decoder_layer.attention.dense.weight', 'lang_encoder.gpt_neox.layers.10.decoder_layer.attention.dense.bias', 'lang_encoder.gpt_neox.layers.10.decoder_layer.mlp.dense_h_to_4h.weight', 'lang_encoder.gpt_neox.layers.10.decoder_layer.mlp.dense_h_to_4h.bias', 'lang_encoder.gpt_neox.layers.10.decoder_layer.mlp.dense_4h_to_h.weight', 'lang_encoder.gpt_neox.layers.10.decoder_layer.mlp.dense_4h_to_h.bias', 'lang_encoder.gpt_neox.layers.11.decoder_layer.input_layernorm.weight', 'lang_encoder.gpt_neox.layers.11.decoder_layer.input_layernorm.bias', 'lang_encoder.gpt_neox.layers.11.decoder_layer.post_attention_layernorm.weight', 'lang_encoder.gpt_neox.layers.11.decoder_layer.post_attention_layernorm.bias', 'lang_encoder.gpt_neox.layers.11.decoder_layer.attention.rotary_emb.inv_freq', 'lang_encoder.gpt_neox.layers.11.decoder_layer.attention.query_key_value.weight', 'lang_encoder.gpt_neox.layers.11.decoder_layer.attention.query_key_value.bias', 'lang_encoder.gpt_neox.layers.11.decoder_layer.attention.dense.weight', 'lang_encoder.gpt_neox.layers.11.decoder_layer.attention.dense.bias', 'lang_encoder.gpt_neox.layers.11.decoder_layer.mlp.dense_h_to_4h.weight', 'lang_encoder.gpt_neox.layers.11.decoder_layer.mlp.dense_h_to_4h.bias', 'lang_encoder.gpt_neox.layers.11.decoder_layer.mlp.dense_4h_to_h.weight', 'lang_encoder.gpt_neox.layers.11.decoder_layer.mlp.dense_4h_to_h.bias', 'lang_encoder.gpt_neox.layers.12.decoder_layer.input_layernorm.weight', 'lang_encoder.gpt_neox.layers.12.decoder_layer.input_layernorm.bias', 'lang_encoder.gpt_neox.layers.12.decoder_layer.post_attention_layernorm.weight', 'lang_encoder.gpt_neox.layers.12.decoder_layer.post_attention_layernorm.bias', 'lang_encoder.gpt_neox.layers.12.decoder_layer.attention.rotary_emb.inv_freq', 'lang_encoder.gpt_neox.layers.12.decoder_layer.attention.query_key_value.weight', 'lang_encoder.gpt_neox.layers.12.decoder_layer.attention.query_key_value.bias', 'lang_encoder.gpt_neox.layers.12.decoder_layer.attention.dense.weight', 'lang_encoder.gpt_neox.layers.12.decoder_layer.attention.dense.bias', 'lang_encoder.gpt_neox.layers.12.decoder_layer.mlp.dense_h_to_4h.weight', 'lang_encoder.gpt_neox.layers.12.decoder_layer.mlp.dense_h_to_4h.bias', 'lang_encoder.gpt_neox.layers.12.decoder_layer.mlp.dense_4h_to_h.weight', 'lang_encoder.gpt_neox.layers.12.decoder_layer.mlp.dense_4h_to_h.bias', 'lang_encoder.gpt_neox.layers.13.decoder_layer.input_layernorm.weight', 'lang_encoder.gpt_neox.layers.13.decoder_layer.input_layernorm.bias', 'lang_encoder.gpt_neox.layers.13.decoder_layer.post_attention_layernorm.weight', 'lang_encoder.gpt_neox.layers.13.decoder_layer.post_attention_layernorm.bias', 'lang_encoder.gpt_neox.layers.13.decoder_layer.attention.rotary_emb.inv_freq', 'lang_encoder.gpt_neox.layers.13.decoder_layer.attention.query_key_value.weight', 'lang_encoder.gpt_neox.layers.13.decoder_layer.attention.query_key_value.bias', 'lang_encoder.gpt_neox.layers.13.decoder_layer.attention.dense.weight', 'lang_encoder.gpt_neox.layers.13.decoder_layer.attention.dense.bias', 'lang_encoder.gpt_neox.layers.13.decoder_layer.mlp.dense_h_to_4h.weight', 'lang_encoder.gpt_neox.layers.13.decoder_layer.mlp.dense_h_to_4h.bias', 'lang_encoder.gpt_neox.layers.13.decoder_layer.mlp.dense_4h_to_h.weight', 'lang_encoder.gpt_neox.layers.13.decoder_layer.mlp.dense_4h_to_h.bias', 'lang_encoder.gpt_neox.layers.14.decoder_layer.input_layernorm.weight', 'lang_encoder.gpt_neox.layers.14.decoder_layer.input_layernorm.bias', 'lang_encoder.gpt_neox.layers.14.decoder_layer.post_attention_layernorm.weight', 'lang_encoder.gpt_neox.layers.14.decoder_layer.post_attention_layernorm.bias', 'lang_encoder.gpt_neox.layers.14.decoder_layer.attention.rotary_emb.inv_freq', 'lang_encoder.gpt_neox.layers.14.decoder_layer.attention.query_key_value.weight', 'lang_encoder.gpt_neox.layers.14.decoder_layer.attention.query_key_value.bias', 'lang_encoder.gpt_neox.layers.14.decoder_layer.attention.dense.weight', 'lang_encoder.gpt_neox.layers.14.decoder_layer.attention.dense.bias', 'lang_encoder.gpt_neox.layers.14.decoder_layer.mlp.dense_h_to_4h.weight', 'lang_encoder.gpt_neox.layers.14.decoder_layer.mlp.dense_h_to_4h.bias', 'lang_encoder.gpt_neox.layers.14.decoder_layer.mlp.dense_4h_to_h.weight', 'lang_encoder.gpt_neox.layers.14.decoder_layer.mlp.dense_4h_to_h.bias', 'lang_encoder.gpt_neox.layers.15.decoder_layer.input_layernorm.weight', 'lang_encoder.gpt_neox.layers.15.decoder_layer.input_layernorm.bias', 'lang_encoder.gpt_neox.layers.15.decoder_layer.post_attention_layernorm.weight', 'lang_encoder.gpt_neox.layers.15.decoder_layer.post_attention_layernorm.bias', 'lang_encoder.gpt_neox.layers.15.decoder_layer.attention.rotary_emb.inv_freq', 'lang_encoder.gpt_neox.layers.15.decoder_layer.attention.query_key_value.weight', 'lang_encoder.gpt_neox.layers.15.decoder_layer.attention.query_key_value.bias', 'lang_encoder.gpt_neox.layers.15.decoder_layer.attention.dense.weight', 'lang_encoder.gpt_neox.layers.15.decoder_layer.attention.dense.bias', 'lang_encoder.gpt_neox.layers.15.decoder_layer.mlp.dense_h_to_4h.weight', 'lang_encoder.gpt_neox.layers.15.decoder_layer.mlp.dense_h_to_4h.bias', 'lang_encoder.gpt_neox.layers.15.decoder_layer.mlp.dense_4h_to_h.weight', 'lang_encoder.gpt_neox.layers.15.decoder_layer.mlp.dense_4h_to_h.bias', 'lang_encoder.gpt_neox.layers.16.decoder_layer.input_layernorm.weight', 'lang_encoder.gpt_neox.layers.16.decoder_layer.input_layernorm.bias', 'lang_encoder.gpt_neox.layers.16.decoder_layer.post_attention_layernorm.weight', 'lang_encoder.gpt_neox.layers.16.decoder_layer.post_attention_layernorm.bias', 'lang_encoder.gpt_neox.layers.16.decoder_layer.attention.rotary_emb.inv_freq', 'lang_encoder.gpt_neox.layers.16.decoder_layer.attention.query_key_value.weight', 'lang_encoder.gpt_neox.layers.16.decoder_layer.attention.query_key_value.bias', 'lang_encoder.gpt_neox.layers.16.decoder_layer.attention.dense.weight', 'lang_encoder.gpt_neox.layers.16.decoder_layer.attention.dense.bias', 'lang_encoder.gpt_neox.layers.16.decoder_layer.mlp.dense_h_to_4h.weight', 'lang_encoder.gpt_neox.layers.16.decoder_layer.mlp.dense_h_to_4h.bias', 'lang_encoder.gpt_neox.layers.16.decoder_layer.mlp.dense_4h_to_h.weight', 'lang_encoder.gpt_neox.layers.16.decoder_layer.mlp.dense_4h_to_h.bias', 'lang_encoder.gpt_neox.layers.17.decoder_layer.input_layernorm.weight', 'lang_encoder.gpt_neox.layers.17.decoder_layer.input_layernorm.bias', 'lang_encoder.gpt_neox.layers.17.decoder_layer.post_attention_layernorm.weight', 'lang_encoder.gpt_neox.layers.17.decoder_layer.post_attention_layernorm.bias', 'lang_encoder.gpt_neox.layers.17.decoder_layer.attention.rotary_emb.inv_freq', 'lang_encoder.gpt_neox.layers.17.decoder_layer.attention.query_key_value.weight', 'lang_encoder.gpt_neox.layers.17.decoder_layer.attention.query_key_value.bias', 'lang_encoder.gpt_neox.layers.17.decoder_layer.attention.dense.weight', 'lang_encoder.gpt_neox.layers.17.decoder_layer.attention.dense.bias', 'lang_encoder.gpt_neox.layers.17.decoder_layer.mlp.dense_h_to_4h.weight', 'lang_encoder.gpt_neox.layers.17.decoder_layer.mlp.dense_h_to_4h.bias', 'lang_encoder.gpt_neox.layers.17.decoder_layer.mlp.dense_4h_to_h.weight', 'lang_encoder.gpt_neox.layers.17.decoder_layer.mlp.dense_4h_to_h.bias', 'lang_encoder.gpt_neox.layers.18.decoder_layer.input_layernorm.weight', 'lang_encoder.gpt_neox.layers.18.decoder_layer.input_layernorm.bias', 'lang_encoder.gpt_neox.layers.18.decoder_layer.post_attention_layernorm.weight', 'lang_encoder.gpt_neox.layers.18.decoder_layer.post_attention_layernorm.bias', 'lang_encoder.gpt_neox.layers.18.decoder_layer.attention.rotary_emb.inv_freq', 'lang_encoder.gpt_neox.layers.18.decoder_layer.attention.query_key_value.weight', 'lang_encoder.gpt_neox.layers.18.decoder_layer.attention.query_key_value.bias', 'lang_encoder.gpt_neox.layers.18.decoder_layer.attention.dense.weight', 'lang_encoder.gpt_neox.layers.18.decoder_layer.attention.dense.bias', 'lang_encoder.gpt_neox.layers.18.decoder_layer.mlp.dense_h_to_4h.weight', 'lang_encoder.gpt_neox.layers.18.decoder_layer.mlp.dense_h_to_4h.bias', 'lang_encoder.gpt_neox.layers.18.decoder_layer.mlp.dense_4h_to_h.weight', 'lang_encoder.gpt_neox.layers.18.decoder_layer.mlp.dense_4h_to_h.bias', 'lang_encoder.gpt_neox.layers.19.decoder_layer.input_layernorm.weight', 'lang_encoder.gpt_neox.layers.19.decoder_layer.input_layernorm.bias', 'lang_encoder.gpt_neox.layers.19.decoder_layer.post_attention_layernorm.weight', 'lang_encoder.gpt_neox.layers.19.decoder_layer.post_attention_layernorm.bias', 'lang_encoder.gpt_neox.layers.19.decoder_layer.attention.rotary_emb.inv_freq', 'lang_encoder.gpt_neox.layers.19.decoder_layer.attention.query_key_value.weight', 'lang_encoder.gpt_neox.layers.19.decoder_layer.attention.query_key_value.bias', 'lang_encoder.gpt_neox.layers.19.decoder_layer.attention.dense.weight', 'lang_encoder.gpt_neox.layers.19.decoder_layer.attention.dense.bias', 'lang_encoder.gpt_neox.layers.19.decoder_layer.mlp.dense_h_to_4h.weight', 'lang_encoder.gpt_neox.layers.19.decoder_layer.mlp.dense_h_to_4h.bias', 'lang_encoder.gpt_neox.layers.19.decoder_layer.mlp.dense_4h_to_h.weight', 'lang_encoder.gpt_neox.layers.19.decoder_layer.mlp.dense_4h_to_h.bias', 'lang_encoder.gpt_neox.layers.20.decoder_layer.input_layernorm.weight', 'lang_encoder.gpt_neox.layers.20.decoder_layer.input_layernorm.bias', 'lang_encoder.gpt_neox.layers.20.decoder_layer.post_attention_layernorm.weight', 'lang_encoder.gpt_neox.layers.20.decoder_layer.post_attention_layernorm.bias', 'lang_encoder.gpt_neox.layers.20.decoder_layer.attention.rotary_emb.inv_freq', 'lang_encoder.gpt_neox.layers.20.decoder_layer.attention.query_key_value.weight', 'lang_encoder.gpt_neox.layers.20.decoder_layer.attention.query_key_value.bias', 'lang_encoder.gpt_neox.layers.20.decoder_layer.attention.dense.weight', 'lang_encoder.gpt_neox.layers.20.decoder_layer.attention.dense.bias', 'lang_encoder.gpt_neox.layers.20.decoder_layer.mlp.dense_h_to_4h.weight', 'lang_encoder.gpt_neox.layers.20.decoder_layer.mlp.dense_h_to_4h.bias', 'lang_encoder.gpt_neox.layers.20.decoder_layer.mlp.dense_4h_to_h.weight', 'lang_encoder.gpt_neox.layers.20.decoder_layer.mlp.dense_4h_to_h.bias', 'lang_encoder.gpt_neox.layers.21.decoder_layer.input_layernorm.weight', 'lang_encoder.gpt_neox.layers.21.decoder_layer.input_layernorm.bias', 'lang_encoder.gpt_neox.layers.21.decoder_layer.post_attention_layernorm.weight', 'lang_encoder.gpt_neox.layers.21.decoder_layer.post_attention_layernorm.bias', 'lang_encoder.gpt_neox.layers.21.decoder_layer.attention.rotary_emb.inv_freq', 'lang_encoder.gpt_neox.layers.21.decoder_layer.attention.query_key_value.weight', 'lang_encoder.gpt_neox.layers.21.decoder_layer.attention.query_key_value.bias', 'lang_encoder.gpt_neox.layers.21.decoder_layer.attention.dense.weight', 'lang_encoder.gpt_neox.layers.21.decoder_layer.attention.dense.bias', 'lang_encoder.gpt_neox.layers.21.decoder_layer.mlp.dense_h_to_4h.weight', 'lang_encoder.gpt_neox.layers.21.decoder_layer.mlp.dense_h_to_4h.bias', 'lang_encoder.gpt_neox.layers.21.decoder_layer.mlp.dense_4h_to_h.weight', 'lang_encoder.gpt_neox.layers.21.decoder_layer.mlp.dense_4h_to_h.bias', 'lang_encoder.gpt_neox.layers.22.decoder_layer.input_layernorm.weight', 'lang_encoder.gpt_neox.layers.22.decoder_layer.input_layernorm.bias', 'lang_encoder.gpt_neox.layers.22.decoder_layer.post_attention_layernorm.weight', 'lang_encoder.gpt_neox.layers.22.decoder_layer.post_attention_layernorm.bias', 'lang_encoder.gpt_neox.layers.22.decoder_layer.attention.rotary_emb.inv_freq', 'lang_encoder.gpt_neox.layers.22.decoder_layer.attention.query_key_value.weight', 'lang_encoder.gpt_neox.layers.22.decoder_layer.attention.query_key_value.bias', 'lang_encoder.gpt_neox.layers.22.decoder_layer.attention.dense.weight', 'lang_encoder.gpt_neox.layers.22.decoder_layer.attention.dense.bias', 'lang_encoder.gpt_neox.layers.22.decoder_layer.mlp.dense_h_to_4h.weight', 'lang_encoder.gpt_neox.layers.22.decoder_layer.mlp.dense_h_to_4h.bias', 'lang_encoder.gpt_neox.layers.22.decoder_layer.mlp.dense_4h_to_h.weight', 'lang_encoder.gpt_neox.layers.22.decoder_layer.mlp.dense_4h_to_h.bias', 'lang_encoder.gpt_neox.layers.23.decoder_layer.input_layernorm.weight', 'lang_encoder.gpt_neox.layers.23.decoder_layer.input_layernorm.bias', 'lang_encoder.gpt_neox.layers.23.decoder_layer.post_attention_layernorm.weight', 'lang_encoder.gpt_neox.layers.23.decoder_layer.post_attention_layernorm.bias', 'lang_encoder.gpt_neox.layers.23.decoder_layer.attention.rotary_emb.inv_freq', 'lang_encoder.gpt_neox.layers.23.decoder_layer.attention.query_key_value.weight', 'lang_encoder.gpt_neox.layers.23.decoder_layer.attention.query_key_value.bias', 'lang_encoder.gpt_neox.layers.23.decoder_layer.attention.dense.weight', 'lang_encoder.gpt_neox.layers.23.decoder_layer.attention.dense.bias', 'lang_encoder.gpt_neox.layers.23.decoder_layer.mlp.dense_h_to_4h.weight', 'lang_encoder.gpt_neox.layers.23.decoder_layer.mlp.dense_h_to_4h.bias', 'lang_encoder.gpt_neox.layers.23.decoder_layer.mlp.dense_4h_to_h.weight', 'lang_encoder.gpt_neox.layers.23.decoder_layer.mlp.dense_4h_to_h.bias', 'lang_encoder.gpt_neox.layers.24.decoder_layer.input_layernorm.weight', 'lang_encoder.gpt_neox.layers.24.decoder_layer.input_layernorm.bias', 'lang_encoder.gpt_neox.layers.24.decoder_layer.post_attention_layernorm.weight', 'lang_encoder.gpt_neox.layers.24.decoder_layer.post_attention_layernorm.bias', 'lang_encoder.gpt_neox.layers.24.decoder_layer.attention.rotary_emb.inv_freq', 'lang_encoder.gpt_neox.layers.24.decoder_layer.attention.query_key_value.weight', 'lang_encoder.gpt_neox.layers.24.decoder_layer.attention.query_key_value.bias', 'lang_encoder.gpt_neox.layers.24.decoder_layer.attention.dense.weight', 'lang_encoder.gpt_neox.layers.24.decoder_layer.attention.dense.bias', 'lang_encoder.gpt_neox.layers.24.decoder_layer.mlp.dense_h_to_4h.weight', 'lang_encoder.gpt_neox.layers.24.decoder_layer.mlp.dense_h_to_4h.bias', 'lang_encoder.gpt_neox.layers.24.decoder_layer.mlp.dense_4h_to_h.weight', 'lang_encoder.gpt_neox.layers.24.decoder_layer.mlp.dense_4h_to_h.bias', 'lang_encoder.gpt_neox.layers.25.decoder_layer.input_layernorm.weight', 'lang_encoder.gpt_neox.layers.25.decoder_layer.input_layernorm.bias', 'lang_encoder.gpt_neox.layers.25.decoder_layer.post_attention_layernorm.weight', 'lang_encoder.gpt_neox.layers.25.decoder_layer.post_attention_layernorm.bias', 'lang_encoder.gpt_neox.layers.25.decoder_layer.attention.rotary_emb.inv_freq', 'lang_encoder.gpt_neox.layers.25.decoder_layer.attention.query_key_value.weight', 'lang_encoder.gpt_neox.layers.25.decoder_layer.attention.query_key_value.bias', 'lang_encoder.gpt_neox.layers.25.decoder_layer.attention.dense.weight', 'lang_encoder.gpt_neox.layers.25.decoder_layer.attention.dense.bias', 'lang_encoder.gpt_neox.layers.25.decoder_layer.mlp.dense_h_to_4h.weight', 'lang_encoder.gpt_neox.layers.25.decoder_layer.mlp.dense_h_to_4h.bias', 'lang_encoder.gpt_neox.layers.25.decoder_layer.mlp.dense_4h_to_h.weight', 'lang_encoder.gpt_neox.layers.25.decoder_layer.mlp.dense_4h_to_h.bias', 'lang_encoder.gpt_neox.layers.26.decoder_layer.input_layernorm.weight', 'lang_encoder.gpt_neox.layers.26.decoder_layer.input_layernorm.bias', 'lang_encoder.gpt_neox.layers.26.decoder_layer.post_attention_layernorm.weight', 'lang_encoder.gpt_neox.layers.26.decoder_layer.post_attention_layernorm.bias', 'lang_encoder.gpt_neox.layers.26.decoder_layer.attention.rotary_emb.inv_freq', 'lang_encoder.gpt_neox.layers.26.decoder_layer.attention.query_key_value.weight', 'lang_encoder.gpt_neox.layers.26.decoder_layer.attention.query_key_value.bias', 'lang_encoder.gpt_neox.layers.26.decoder_layer.attention.dense.weight', 'lang_encoder.gpt_neox.layers.26.decoder_layer.attention.dense.bias', 'lang_encoder.gpt_neox.layers.26.decoder_layer.mlp.dense_h_to_4h.weight', 'lang_encoder.gpt_neox.layers.26.decoder_layer.mlp.dense_h_to_4h.bias', 'lang_encoder.gpt_neox.layers.26.decoder_layer.mlp.dense_4h_to_h.weight', 'lang_encoder.gpt_neox.layers.26.decoder_layer.mlp.dense_4h_to_h.bias', 'lang_encoder.gpt_neox.layers.27.decoder_layer.input_layernorm.weight', 'lang_encoder.gpt_neox.layers.27.decoder_layer.input_layernorm.bias', 'lang_encoder.gpt_neox.layers.27.decoder_layer.post_attention_layernorm.weight', 'lang_encoder.gpt_neox.layers.27.decoder_layer.post_attention_layernorm.bias', 'lang_encoder.gpt_neox.layers.27.decoder_layer.attention.rotary_emb.inv_freq', 'lang_encoder.gpt_neox.layers.27.decoder_layer.attention.query_key_value.weight', 'lang_encoder.gpt_neox.layers.27.decoder_layer.attention.query_key_value.bias', 'lang_encoder.gpt_neox.layers.27.decoder_layer.attention.dense.weight', 'lang_encoder.gpt_neox.layers.27.decoder_layer.attention.dense.bias', 'lang_encoder.gpt_neox.layers.27.decoder_layer.mlp.dense_h_to_4h.weight', 'lang_encoder.gpt_neox.layers.27.decoder_layer.mlp.dense_h_to_4h.bias', 'lang_encoder.gpt_neox.layers.27.decoder_layer.mlp.dense_4h_to_h.weight', 'lang_encoder.gpt_neox.layers.27.decoder_layer.mlp.dense_4h_to_h.bias', 'lang_encoder.gpt_neox.layers.28.decoder_layer.input_layernorm.weight', 'lang_encoder.gpt_neox.layers.28.decoder_layer.input_layernorm.bias', 'lang_encoder.gpt_neox.layers.28.decoder_layer.post_attention_layernorm.weight', 'lang_encoder.gpt_neox.layers.28.decoder_layer.post_attention_layernorm.bias', 'lang_encoder.gpt_neox.layers.28.decoder_layer.attention.rotary_emb.inv_freq', 'lang_encoder.gpt_neox.layers.28.decoder_layer.attention.query_key_value.weight', 'lang_encoder.gpt_neox.layers.28.decoder_layer.attention.query_key_value.bias', 'lang_encoder.gpt_neox.layers.28.decoder_layer.attention.dense.weight', 'lang_encoder.gpt_neox.layers.28.decoder_layer.attention.dense.bias', 'lang_encoder.gpt_neox.layers.28.decoder_layer.mlp.dense_h_to_4h.weight', 'lang_encoder.gpt_neox.layers.28.decoder_layer.mlp.dense_h_to_4h.bias', 'lang_encoder.gpt_neox.layers.28.decoder_layer.mlp.dense_4h_to_h.weight', 'lang_encoder.gpt_neox.layers.28.decoder_layer.mlp.dense_4h_to_h.bias', 'lang_encoder.gpt_neox.layers.29.decoder_layer.input_layernorm.weight', 'lang_encoder.gpt_neox.layers.29.decoder_layer.input_layernorm.bias', 'lang_encoder.gpt_neox.layers.29.decoder_layer.post_attention_layernorm.weight', 'lang_encoder.gpt_neox.layers.29.decoder_layer.post_attention_layernorm.bias', 'lang_encoder.gpt_neox.layers.29.decoder_layer.attention.rotary_emb.inv_freq', 'lang_encoder.gpt_neox.layers.29.decoder_layer.attention.query_key_value.weight', 'lang_encoder.gpt_neox.layers.29.decoder_layer.attention.query_key_value.bias', 'lang_encoder.gpt_neox.layers.29.decoder_layer.attention.dense.weight', 'lang_encoder.gpt_neox.layers.29.decoder_layer.attention.dense.bias', 'lang_encoder.gpt_neox.layers.29.decoder_layer.mlp.dense_h_to_4h.weight', 'lang_encoder.gpt_neox.layers.29.decoder_layer.mlp.dense_h_to_4h.bias', 'lang_encoder.gpt_neox.layers.29.decoder_layer.mlp.dense_4h_to_h.weight', 'lang_encoder.gpt_neox.layers.29.decoder_layer.mlp.dense_4h_to_h.bias', 'lang_encoder.gpt_neox.layers.30.decoder_layer.input_layernorm.weight', 'lang_encoder.gpt_neox.layers.30.decoder_layer.input_layernorm.bias', 'lang_encoder.gpt_neox.layers.30.decoder_layer.post_attention_layernorm.weight', 'lang_encoder.gpt_neox.layers.30.decoder_layer.post_attention_layernorm.bias', 'lang_encoder.gpt_neox.layers.30.decoder_layer.attention.rotary_emb.inv_freq', 'lang_encoder.gpt_neox.layers.30.decoder_layer.attention.query_key_value.weight', 'lang_encoder.gpt_neox.layers.30.decoder_layer.attention.query_key_value.bias', 'lang_encoder.gpt_neox.layers.30.decoder_layer.attention.dense.weight', 'lang_encoder.gpt_neox.layers.30.decoder_layer.attention.dense.bias', 'lang_encoder.gpt_neox.layers.30.decoder_layer.mlp.dense_h_to_4h.weight', 'lang_encoder.gpt_neox.layers.30.decoder_layer.mlp.dense_h_to_4h.bias', 'lang_encoder.gpt_neox.layers.30.decoder_layer.mlp.dense_4h_to_h.weight', 'lang_encoder.gpt_neox.layers.30.decoder_layer.mlp.dense_4h_to_h.bias', 'lang_encoder.gpt_neox.layers.31.decoder_layer.input_layernorm.weight', 'lang_encoder.gpt_neox.layers.31.decoder_layer.input_layernorm.bias', 'lang_encoder.gpt_neox.layers.31.decoder_layer.post_attention_layernorm.weight', 'lang_encoder.gpt_neox.layers.31.decoder_layer.post_attention_layernorm.bias', 'lang_encoder.gpt_neox.layers.31.decoder_layer.attention.rotary_emb.inv_freq', 'lang_encoder.gpt_neox.layers.31.decoder_layer.attention.query_key_value.weight', 'lang_encoder.gpt_neox.layers.31.decoder_layer.attention.query_key_value.bias', 'lang_encoder.gpt_neox.layers.31.decoder_layer.attention.dense.weight', 'lang_encoder.gpt_neox.layers.31.decoder_layer.attention.dense.bias', 'lang_encoder.gpt_neox.layers.31.decoder_layer.mlp.dense_h_to_4h.weight', 'lang_encoder.gpt_neox.layers.31.decoder_layer.mlp.dense_h_to_4h.bias', 'lang_encoder.gpt_neox.layers.31.decoder_layer.mlp.dense_4h_to_h.weight', 'lang_encoder.gpt_neox.layers.31.decoder_layer.mlp.dense_4h_to_h.bias', 'lang_encoder.gpt_neox.final_layer_norm.weight', 'lang_encoder.gpt_neox.final_layer_norm.bias', 'lang_encoder.old_decoder_blocks.0.input_layernorm.weight', 'lang_encoder.old_decoder_blocks.0.input_layernorm.bias', 'lang_encoder.old_decoder_blocks.0.post_attention_layernorm.weight', 'lang_encoder.old_decoder_blocks.0.post_attention_layernorm.bias', 'lang_encoder.old_decoder_blocks.0.attention.rotary_emb.inv_freq', 'lang_encoder.old_decoder_blocks.0.attention.query_key_value.weight', 'lang_encoder.old_decoder_blocks.0.attention.query_key_value.bias', 'lang_encoder.old_decoder_blocks.0.attention.dense.weight', 'lang_encoder.old_decoder_blocks.0.attention.dense.bias', 'lang_encoder.old_decoder_blocks.0.mlp.dense_h_to_4h.weight', 'lang_encoder.old_decoder_blocks.0.mlp.dense_h_to_4h.bias', 'lang_encoder.old_decoder_blocks.0.mlp.dense_4h_to_h.weight', 'lang_encoder.old_decoder_blocks.0.mlp.dense_4h_to_h.bias', 'lang_encoder.old_decoder_blocks.1.input_layernorm.weight', 'lang_encoder.old_decoder_blocks.1.input_layernorm.bias', 'lang_encoder.old_decoder_blocks.1.post_attention_layernorm.weight', 'lang_encoder.old_decoder_blocks.1.post_attention_layernorm.bias', 'lang_encoder.old_decoder_blocks.1.attention.rotary_emb.inv_freq', 'lang_encoder.old_decoder_blocks.1.attention.query_key_value.weight', 'lang_encoder.old_decoder_blocks.1.attention.query_key_value.bias', 'lang_encoder.old_decoder_blocks.1.attention.dense.weight', 'lang_encoder.old_decoder_blocks.1.attention.dense.bias', 'lang_encoder.old_decoder_blocks.1.mlp.dense_h_to_4h.weight', 'lang_encoder.old_decoder_blocks.1.mlp.dense_h_to_4h.bias', 'lang_encoder.old_decoder_blocks.1.mlp.dense_4h_to_h.weight', 'lang_encoder.old_decoder_blocks.1.mlp.dense_4h_to_h.bias', 'lang_encoder.old_decoder_blocks.2.input_layernorm.weight', 'lang_encoder.old_decoder_blocks.2.input_layernorm.bias', 'lang_encoder.old_decoder_blocks.2.post_attention_layernorm.weight', 'lang_encoder.old_decoder_blocks.2.post_attention_layernorm.bias', 'lang_encoder.old_decoder_blocks.2.attention.rotary_emb.inv_freq', 'lang_encoder.old_decoder_blocks.2.attention.query_key_value.weight', 'lang_encoder.old_decoder_blocks.2.attention.query_key_value.bias', 'lang_encoder.old_decoder_blocks.2.attention.dense.weight', 'lang_encoder.old_decoder_blocks.2.attention.dense.bias', 'lang_encoder.old_decoder_blocks.2.mlp.dense_h_to_4h.weight', 'lang_encoder.old_decoder_blocks.2.mlp.dense_h_to_4h.bias', 'lang_encoder.old_decoder_blocks.2.mlp.dense_4h_to_h.weight', 'lang_encoder.old_decoder_blocks.2.mlp.dense_4h_to_h.bias', 'lang_encoder.old_decoder_blocks.3.input_layernorm.weight', 'lang_encoder.old_decoder_blocks.3.input_layernorm.bias', 'lang_encoder.old_decoder_blocks.3.post_attention_layernorm.weight', 'lang_encoder.old_decoder_blocks.3.post_attention_layernorm.bias', 'lang_encoder.old_decoder_blocks.3.attention.rotary_emb.inv_freq', 'lang_encoder.old_decoder_blocks.3.attention.query_key_value.weight', 'lang_encoder.old_decoder_blocks.3.attention.query_key_value.bias', 'lang_encoder.old_decoder_blocks.3.attention.dense.weight', 'lang_encoder.old_decoder_blocks.3.attention.dense.bias', 'lang_encoder.old_decoder_blocks.3.mlp.dense_h_to_4h.weight', 'lang_encoder.old_decoder_blocks.3.mlp.dense_h_to_4h.bias', 'lang_encoder.old_decoder_blocks.3.mlp.dense_4h_to_h.weight', 'lang_encoder.old_decoder_blocks.3.mlp.dense_4h_to_h.bias', 'lang_encoder.old_decoder_blocks.4.input_layernorm.weight', 'lang_encoder.old_decoder_blocks.4.input_layernorm.bias', 'lang_encoder.old_decoder_blocks.4.post_attention_layernorm.weight', 'lang_encoder.old_decoder_blocks.4.post_attention_layernorm.bias', 'lang_encoder.old_decoder_blocks.4.attention.rotary_emb.inv_freq', 'lang_encoder.old_decoder_blocks.4.attention.query_key_value.weight', 'lang_encoder.old_decoder_blocks.4.attention.query_key_value.bias', 'lang_encoder.old_decoder_blocks.4.attention.dense.weight', 'lang_encoder.old_decoder_blocks.4.attention.dense.bias', 'lang_encoder.old_decoder_blocks.4.mlp.dense_h_to_4h.weight', 'lang_encoder.old_decoder_blocks.4.mlp.dense_h_to_4h.bias', 'lang_encoder.old_decoder_blocks.4.mlp.dense_4h_to_h.weight', 'lang_encoder.old_decoder_blocks.4.mlp.dense_4h_to_h.bias', 'lang_encoder.old_decoder_blocks.5.input_layernorm.weight', 'lang_encoder.old_decoder_blocks.5.input_layernorm.bias', 'lang_encoder.old_decoder_blocks.5.post_attention_layernorm.weight', 'lang_encoder.old_decoder_blocks.5.post_attention_layernorm.bias', 'lang_encoder.old_decoder_blocks.5.attention.rotary_emb.inv_freq', 'lang_encoder.old_decoder_blocks.5.attention.query_key_value.weight', 'lang_encoder.old_decoder_blocks.5.attention.query_key_value.bias', 'lang_encoder.old_decoder_blocks.5.attention.dense.weight', 'lang_encoder.old_decoder_blocks.5.attention.dense.bias', 'lang_encoder.old_decoder_blocks.5.mlp.dense_h_to_4h.weight', 'lang_encoder.old_decoder_blocks.5.mlp.dense_h_to_4h.bias', 'lang_encoder.old_decoder_blocks.5.mlp.dense_4h_to_h.weight', 'lang_encoder.old_decoder_blocks.5.mlp.dense_4h_to_h.bias', 'lang_encoder.old_decoder_blocks.6.input_layernorm.weight', 'lang_encoder.old_decoder_blocks.6.input_layernorm.bias', 'lang_encoder.old_decoder_blocks.6.post_attention_layernorm.weight', 'lang_encoder.old_decoder_blocks.6.post_attention_layernorm.bias', 'lang_encoder.old_decoder_blocks.6.attention.rotary_emb.inv_freq', 'lang_encoder.old_decoder_blocks.6.attention.query_key_value.weight', 'lang_encoder.old_decoder_blocks.6.attention.query_key_value.bias', 'lang_encoder.old_decoder_blocks.6.attention.dense.weight', 'lang_encoder.old_decoder_blocks.6.attention.dense.bias', 'lang_encoder.old_decoder_blocks.6.mlp.dense_h_to_4h.weight', 'lang_encoder.old_decoder_blocks.6.mlp.dense_h_to_4h.bias', 'lang_encoder.old_decoder_blocks.6.mlp.dense_4h_to_h.weight', 'lang_encoder.old_decoder_blocks.6.mlp.dense_4h_to_h.bias', 'lang_encoder.old_decoder_blocks.7.input_layernorm.weight', 'lang_encoder.old_decoder_blocks.7.input_layernorm.bias', 'lang_encoder.old_decoder_blocks.7.post_attention_layernorm.weight', 'lang_encoder.old_decoder_blocks.7.post_attention_layernorm.bias', 'lang_encoder.old_decoder_blocks.7.attention.rotary_emb.inv_freq', 'lang_encoder.old_decoder_blocks.7.attention.query_key_value.weight', 'lang_encoder.old_decoder_blocks.7.attention.query_key_value.bias', 'lang_encoder.old_decoder_blocks.7.attention.dense.weight', 'lang_encoder.old_decoder_blocks.7.attention.dense.bias', 'lang_encoder.old_decoder_blocks.7.mlp.dense_h_to_4h.weight', 'lang_encoder.old_decoder_blocks.7.mlp.dense_h_to_4h.bias', 'lang_encoder.old_decoder_blocks.7.mlp.dense_4h_to_h.weight', 'lang_encoder.old_decoder_blocks.7.mlp.dense_4h_to_h.bias', 'lang_encoder.old_decoder_blocks.8.input_layernorm.weight', 'lang_encoder.old_decoder_blocks.8.input_layernorm.bias', 'lang_encoder.old_decoder_blocks.8.post_attention_layernorm.weight', 'lang_encoder.old_decoder_blocks.8.post_attention_layernorm.bias', 'lang_encoder.old_decoder_blocks.8.attention.rotary_emb.inv_freq', 'lang_encoder.old_decoder_blocks.8.attention.query_key_value.weight', 'lang_encoder.old_decoder_blocks.8.attention.query_key_value.bias', 'lang_encoder.old_decoder_blocks.8.attention.dense.weight', 'lang_encoder.old_decoder_blocks.8.attention.dense.bias', 'lang_encoder.old_decoder_blocks.8.mlp.dense_h_to_4h.weight', 'lang_encoder.old_decoder_blocks.8.mlp.dense_h_to_4h.bias', 'lang_encoder.old_decoder_blocks.8.mlp.dense_4h_to_h.weight', 'lang_encoder.old_decoder_blocks.8.mlp.dense_4h_to_h.bias', 'lang_encoder.old_decoder_blocks.9.input_layernorm.weight', 'lang_encoder.old_decoder_blocks.9.input_layernorm.bias', 'lang_encoder.old_decoder_blocks.9.post_attention_layernorm.weight', 'lang_encoder.old_decoder_blocks.9.post_attention_layernorm.bias', 'lang_encoder.old_decoder_blocks.9.attention.rotary_emb.inv_freq', 'lang_encoder.old_decoder_blocks.9.attention.query_key_value.weight', 'lang_encoder.old_decoder_blocks.9.attention.query_key_value.bias', 'lang_encoder.old_decoder_blocks.9.attention.dense.weight', 'lang_encoder.old_decoder_blocks.9.attention.dense.bias', 'lang_encoder.old_decoder_blocks.9.mlp.dense_h_to_4h.weight', 'lang_encoder.old_decoder_blocks.9.mlp.dense_h_to_4h.bias', 'lang_encoder.old_decoder_blocks.9.mlp.dense_4h_to_h.weight', 'lang_encoder.old_decoder_blocks.9.mlp.dense_4h_to_h.bias', 'lang_encoder.old_decoder_blocks.10.input_layernorm.weight', 'lang_encoder.old_decoder_blocks.10.input_layernorm.bias', 'lang_encoder.old_decoder_blocks.10.post_attention_layernorm.weight', 'lang_encoder.old_decoder_blocks.10.post_attention_layernorm.bias', 'lang_encoder.old_decoder_blocks.10.attention.rotary_emb.inv_freq', 'lang_encoder.old_decoder_blocks.10.attention.query_key_value.weight', 'lang_encoder.old_decoder_blocks.10.attention.query_key_value.bias', 'lang_encoder.old_decoder_blocks.10.attention.dense.weight', 'lang_encoder.old_decoder_blocks.10.attention.dense.bias', 'lang_encoder.old_decoder_blocks.10.mlp.dense_h_to_4h.weight', 'lang_encoder.old_decoder_blocks.10.mlp.dense_h_to_4h.bias', 'lang_encoder.old_decoder_blocks.10.mlp.dense_4h_to_h.weight', 'lang_encoder.old_decoder_blocks.10.mlp.dense_4h_to_h.bias', 'lang_encoder.old_decoder_blocks.11.input_layernorm.weight', 'lang_encoder.old_decoder_blocks.11.input_layernorm.bias', 'lang_encoder.old_decoder_blocks.11.post_attention_layernorm.weight', 'lang_encoder.old_decoder_blocks.11.post_attention_layernorm.bias', 'lang_encoder.old_decoder_blocks.11.attention.rotary_emb.inv_freq', 'lang_encoder.old_decoder_blocks.11.attention.query_key_value.weight', 'lang_encoder.old_decoder_blocks.11.attention.query_key_value.bias', 'lang_encoder.old_decoder_blocks.11.attention.dense.weight', 'lang_encoder.old_decoder_blocks.11.attention.dense.bias', 'lang_encoder.old_decoder_blocks.11.mlp.dense_h_to_4h.weight', 'lang_encoder.old_decoder_blocks.11.mlp.dense_h_to_4h.bias', 'lang_encoder.old_decoder_blocks.11.mlp.dense_4h_to_h.weight', 'lang_encoder.old_decoder_blocks.11.mlp.dense_4h_to_h.bias', 'lang_encoder.old_decoder_blocks.12.input_layernorm.weight', 'lang_encoder.old_decoder_blocks.12.input_layernorm.bias', 'lang_encoder.old_decoder_blocks.12.post_attention_layernorm.weight', 'lang_encoder.old_decoder_blocks.12.post_attention_layernorm.bias', 'lang_encoder.old_decoder_blocks.12.attention.rotary_emb.inv_freq', 'lang_encoder.old_decoder_blocks.12.attention.query_key_value.weight', 'lang_encoder.old_decoder_blocks.12.attention.query_key_value.bias', 'lang_encoder.old_decoder_blocks.12.attention.dense.weight', 'lang_encoder.old_decoder_blocks.12.attention.dense.bias', 'lang_encoder.old_decoder_blocks.12.mlp.dense_h_to_4h.weight', 'lang_encoder.old_decoder_blocks.12.mlp.dense_h_to_4h.bias', 'lang_encoder.old_decoder_blocks.12.mlp.dense_4h_to_h.weight', 'lang_encoder.old_decoder_blocks.12.mlp.dense_4h_to_h.bias', 'lang_encoder.old_decoder_blocks.13.input_layernorm.weight', 'lang_encoder.old_decoder_blocks.13.input_layernorm.bias', 'lang_encoder.old_decoder_blocks.13.post_attention_layernorm.weight', 'lang_encoder.old_decoder_blocks.13.post_attention_layernorm.bias', 'lang_encoder.old_decoder_blocks.13.attention.rotary_emb.inv_freq', 'lang_encoder.old_decoder_blocks.13.attention.query_key_value.weight', 'lang_encoder.old_decoder_blocks.13.attention.query_key_value.bias', 'lang_encoder.old_decoder_blocks.13.attention.dense.weight', 'lang_encoder.old_decoder_blocks.13.attention.dense.bias', 'lang_encoder.old_decoder_blocks.13.mlp.dense_h_to_4h.weight', 'lang_encoder.old_decoder_blocks.13.mlp.dense_h_to_4h.bias', 'lang_encoder.old_decoder_blocks.13.mlp.dense_4h_to_h.weight', 'lang_encoder.old_decoder_blocks.13.mlp.dense_4h_to_h.bias', 'lang_encoder.old_decoder_blocks.14.input_layernorm.weight', 'lang_encoder.old_decoder_blocks.14.input_layernorm.bias', 'lang_encoder.old_decoder_blocks.14.post_attention_layernorm.weight', 'lang_encoder.old_decoder_blocks.14.post_attention_layernorm.bias', 'lang_encoder.old_decoder_blocks.14.attention.rotary_emb.inv_freq', 'lang_encoder.old_decoder_blocks.14.attention.query_key_value.weight', 'lang_encoder.old_decoder_blocks.14.attention.query_key_value.bias', 'lang_encoder.old_decoder_blocks.14.attention.dense.weight', 'lang_encoder.old_decoder_blocks.14.attention.dense.bias', 'lang_encoder.old_decoder_blocks.14.mlp.dense_h_to_4h.weight', 'lang_encoder.old_decoder_blocks.14.mlp.dense_h_to_4h.bias', 'lang_encoder.old_decoder_blocks.14.mlp.dense_4h_to_h.weight', 'lang_encoder.old_decoder_blocks.14.mlp.dense_4h_to_h.bias', 'lang_encoder.old_decoder_blocks.15.input_layernorm.weight', 'lang_encoder.old_decoder_blocks.15.input_layernorm.bias', 'lang_encoder.old_decoder_blocks.15.post_attention_layernorm.weight', 'lang_encoder.old_decoder_blocks.15.post_attention_layernorm.bias', 'lang_encoder.old_decoder_blocks.15.attention.rotary_emb.inv_freq', 'lang_encoder.old_decoder_blocks.15.attention.query_key_value.weight', 'lang_encoder.old_decoder_blocks.15.attention.query_key_value.bias', 'lang_encoder.old_decoder_blocks.15.attention.dense.weight', 'lang_encoder.old_decoder_blocks.15.attention.dense.bias', 'lang_encoder.old_decoder_blocks.15.mlp.dense_h_to_4h.weight', 'lang_encoder.old_decoder_blocks.15.mlp.dense_h_to_4h.bias', 'lang_encoder.old_decoder_blocks.15.mlp.dense_4h_to_h.weight', 'lang_encoder.old_decoder_blocks.15.mlp.dense_4h_to_h.bias', 'lang_encoder.old_decoder_blocks.16.input_layernorm.weight', 'lang_encoder.old_decoder_blocks.16.input_layernorm.bias', 'lang_encoder.old_decoder_blocks.16.post_attention_layernorm.weight', 'lang_encoder.old_decoder_blocks.16.post_attention_layernorm.bias', 'lang_encoder.old_decoder_blocks.16.attention.rotary_emb.inv_freq', 'lang_encoder.old_decoder_blocks.16.attention.query_key_value.weight', 'lang_encoder.old_decoder_blocks.16.attention.query_key_value.bias', 'lang_encoder.old_decoder_blocks.16.attention.dense.weight', 'lang_encoder.old_decoder_blocks.16.attention.dense.bias', 'lang_encoder.old_decoder_blocks.16.mlp.dense_h_to_4h.weight', 'lang_encoder.old_decoder_blocks.16.mlp.dense_h_to_4h.bias', 'lang_encoder.old_decoder_blocks.16.mlp.dense_4h_to_h.weight', 'lang_encoder.old_decoder_blocks.16.mlp.dense_4h_to_h.bias', 'lang_encoder.old_decoder_blocks.17.input_layernorm.weight', 'lang_encoder.old_decoder_blocks.17.input_layernorm.bias', 'lang_encoder.old_decoder_blocks.17.post_attention_layernorm.weight', 'lang_encoder.old_decoder_blocks.17.post_attention_layernorm.bias', 'lang_encoder.old_decoder_blocks.17.attention.rotary_emb.inv_freq', 'lang_encoder.old_decoder_blocks.17.attention.query_key_value.weight', 'lang_encoder.old_decoder_blocks.17.attention.query_key_value.bias', 'lang_encoder.old_decoder_blocks.17.attention.dense.weight', 'lang_encoder.old_decoder_blocks.17.attention.dense.bias', 'lang_encoder.old_decoder_blocks.17.mlp.dense_h_to_4h.weight', 'lang_encoder.old_decoder_blocks.17.mlp.dense_h_to_4h.bias', 'lang_encoder.old_decoder_blocks.17.mlp.dense_4h_to_h.weight', 'lang_encoder.old_decoder_blocks.17.mlp.dense_4h_to_h.bias', 'lang_encoder.old_decoder_blocks.18.input_layernorm.weight', 'lang_encoder.old_decoder_blocks.18.input_layernorm.bias', 'lang_encoder.old_decoder_blocks.18.post_attention_layernorm.weight', 'lang_encoder.old_decoder_blocks.18.post_attention_layernorm.bias', 'lang_encoder.old_decoder_blocks.18.attention.rotary_emb.inv_freq', 'lang_encoder.old_decoder_blocks.18.attention.query_key_value.weight', 'lang_encoder.old_decoder_blocks.18.attention.query_key_value.bias', 'lang_encoder.old_decoder_blocks.18.attention.dense.weight', 'lang_encoder.old_decoder_blocks.18.attention.dense.bias', 'lang_encoder.old_decoder_blocks.18.mlp.dense_h_to_4h.weight', 'lang_encoder.old_decoder_blocks.18.mlp.dense_h_to_4h.bias', 'lang_encoder.old_decoder_blocks.18.mlp.dense_4h_to_h.weight', 'lang_encoder.old_decoder_blocks.18.mlp.dense_4h_to_h.bias', 'lang_encoder.old_decoder_blocks.19.input_layernorm.weight', 'lang_encoder.old_decoder_blocks.19.input_layernorm.bias', 'lang_encoder.old_decoder_blocks.19.post_attention_layernorm.weight', 'lang_encoder.old_decoder_blocks.19.post_attention_layernorm.bias', 'lang_encoder.old_decoder_blocks.19.attention.rotary_emb.inv_freq', 'lang_encoder.old_decoder_blocks.19.attention.query_key_value.weight', 'lang_encoder.old_decoder_blocks.19.attention.query_key_value.bias', 'lang_encoder.old_decoder_blocks.19.attention.dense.weight', 'lang_encoder.old_decoder_blocks.19.attention.dense.bias', 'lang_encoder.old_decoder_blocks.19.mlp.dense_h_to_4h.weight', 'lang_encoder.old_decoder_blocks.19.mlp.dense_h_to_4h.bias', 'lang_encoder.old_decoder_blocks.19.mlp.dense_4h_to_h.weight', 'lang_encoder.old_decoder_blocks.19.mlp.dense_4h_to_h.bias', 'lang_encoder.old_decoder_blocks.20.input_layernorm.weight', 'lang_encoder.old_decoder_blocks.20.input_layernorm.bias', 'lang_encoder.old_decoder_blocks.20.post_attention_layernorm.weight', 'lang_encoder.old_decoder_blocks.20.post_attention_layernorm.bias', 'lang_encoder.old_decoder_blocks.20.attention.rotary_emb.inv_freq', 'lang_encoder.old_decoder_blocks.20.attention.query_key_value.weight', 'lang_encoder.old_decoder_blocks.20.attention.query_key_value.bias', 'lang_encoder.old_decoder_blocks.20.attention.dense.weight', 'lang_encoder.old_decoder_blocks.20.attention.dense.bias', 'lang_encoder.old_decoder_blocks.20.mlp.dense_h_to_4h.weight', 'lang_encoder.old_decoder_blocks.20.mlp.dense_h_to_4h.bias', 'lang_encoder.old_decoder_blocks.20.mlp.dense_4h_to_h.weight', 'lang_encoder.old_decoder_blocks.20.mlp.dense_4h_to_h.bias', 'lang_encoder.old_decoder_blocks.21.input_layernorm.weight', 'lang_encoder.old_decoder_blocks.21.input_layernorm.bias', 'lang_encoder.old_decoder_blocks.21.post_attention_layernorm.weight', 'lang_encoder.old_decoder_blocks.21.post_attention_layernorm.bias', 'lang_encoder.old_decoder_blocks.21.attention.rotary_emb.inv_freq', 'lang_encoder.old_decoder_blocks.21.attention.query_key_value.weight', 'lang_encoder.old_decoder_blocks.21.attention.query_key_value.bias', 'lang_encoder.old_decoder_blocks.21.attention.dense.weight', 'lang_encoder.old_decoder_blocks.21.attention.dense.bias', 'lang_encoder.old_decoder_blocks.21.mlp.dense_h_to_4h.weight', 'lang_encoder.old_decoder_blocks.21.mlp.dense_h_to_4h.bias', 'lang_encoder.old_decoder_blocks.21.mlp.dense_4h_to_h.weight', 'lang_encoder.old_decoder_blocks.21.mlp.dense_4h_to_h.bias', 'lang_encoder.old_decoder_blocks.22.input_layernorm.weight', 'lang_encoder.old_decoder_blocks.22.input_layernorm.bias', 'lang_encoder.old_decoder_blocks.22.post_attention_layernorm.weight', 'lang_encoder.old_decoder_blocks.22.post_attention_layernorm.bias', 'lang_encoder.old_decoder_blocks.22.attention.rotary_emb.inv_freq', 'lang_encoder.old_decoder_blocks.22.attention.query_key_value.weight', 'lang_encoder.old_decoder_blocks.22.attention.query_key_value.bias', 'lang_encoder.old_decoder_blocks.22.attention.dense.weight', 'lang_encoder.old_decoder_blocks.22.attention.dense.bias', 'lang_encoder.old_decoder_blocks.22.mlp.dense_h_to_4h.weight', 'lang_encoder.old_decoder_blocks.22.mlp.dense_h_to_4h.bias', 'lang_encoder.old_decoder_blocks.22.mlp.dense_4h_to_h.weight', 'lang_encoder.old_decoder_blocks.22.mlp.dense_4h_to_h.bias', 'lang_encoder.old_decoder_blocks.23.input_layernorm.weight', 'lang_encoder.old_decoder_blocks.23.input_layernorm.bias', 'lang_encoder.old_decoder_blocks.23.post_attention_layernorm.weight', 'lang_encoder.old_decoder_blocks.23.post_attention_layernorm.bias', 'lang_encoder.old_decoder_blocks.23.attention.rotary_emb.inv_freq', 'lang_encoder.old_decoder_blocks.23.attention.query_key_value.weight', 'lang_encoder.old_decoder_blocks.23.attention.query_key_value.bias', 'lang_encoder.old_decoder_blocks.23.attention.dense.weight', 'lang_encoder.old_decoder_blocks.23.attention.dense.bias', 'lang_encoder.old_decoder_blocks.23.mlp.dense_h_to_4h.weight', 'lang_encoder.old_decoder_blocks.23.mlp.dense_h_to_4h.bias', 'lang_encoder.old_decoder_blocks.23.mlp.dense_4h_to_h.weight', 'lang_encoder.old_decoder_blocks.23.mlp.dense_4h_to_h.bias', 'lang_encoder.old_decoder_blocks.24.input_layernorm.weight', 'lang_encoder.old_decoder_blocks.24.input_layernorm.bias', 'lang_encoder.old_decoder_blocks.24.post_attention_layernorm.weight', 'lang_encoder.old_decoder_blocks.24.post_attention_layernorm.bias', 'lang_encoder.old_decoder_blocks.24.attention.rotary_emb.inv_freq', 'lang_encoder.old_decoder_blocks.24.attention.query_key_value.weight', 'lang_encoder.old_decoder_blocks.24.attention.query_key_value.bias', 'lang_encoder.old_decoder_blocks.24.attention.dense.weight', 'lang_encoder.old_decoder_blocks.24.attention.dense.bias', 'lang_encoder.old_decoder_blocks.24.mlp.dense_h_to_4h.weight', 'lang_encoder.old_decoder_blocks.24.mlp.dense_h_to_4h.bias', 'lang_encoder.old_decoder_blocks.24.mlp.dense_4h_to_h.weight', 'lang_encoder.old_decoder_blocks.24.mlp.dense_4h_to_h.bias', 'lang_encoder.old_decoder_blocks.25.input_layernorm.weight', 'lang_encoder.old_decoder_blocks.25.input_layernorm.bias', 'lang_encoder.old_decoder_blocks.25.post_attention_layernorm.weight', 'lang_encoder.old_decoder_blocks.25.post_attention_layernorm.bias', 'lang_encoder.old_decoder_blocks.25.attention.rotary_emb.inv_freq', 'lang_encoder.old_decoder_blocks.25.attention.query_key_value.weight', 'lang_encoder.old_decoder_blocks.25.attention.query_key_value.bias', 'lang_encoder.old_decoder_blocks.25.attention.dense.weight', 'lang_encoder.old_decoder_blocks.25.attention.dense.bias', 'lang_encoder.old_decoder_blocks.25.mlp.dense_h_to_4h.weight', 'lang_encoder.old_decoder_blocks.25.mlp.dense_h_to_4h.bias', 'lang_encoder.old_decoder_blocks.25.mlp.dense_4h_to_h.weight', 'lang_encoder.old_decoder_blocks.25.mlp.dense_4h_to_h.bias', 'lang_encoder.old_decoder_blocks.26.input_layernorm.weight', 'lang_encoder.old_decoder_blocks.26.input_layernorm.bias', 'lang_encoder.old_decoder_blocks.26.post_attention_layernorm.weight', 'lang_encoder.old_decoder_blocks.26.post_attention_layernorm.bias', 'lang_encoder.old_decoder_blocks.26.attention.rotary_emb.inv_freq', 'lang_encoder.old_decoder_blocks.26.attention.query_key_value.weight', 'lang_encoder.old_decoder_blocks.26.attention.query_key_value.bias', 'lang_encoder.old_decoder_blocks.26.attention.dense.weight', 'lang_encoder.old_decoder_blocks.26.attention.dense.bias', 'lang_encoder.old_decoder_blocks.26.mlp.dense_h_to_4h.weight', 'lang_encoder.old_decoder_blocks.26.mlp.dense_h_to_4h.bias', 'lang_encoder.old_decoder_blocks.26.mlp.dense_4h_to_h.weight', 'lang_encoder.old_decoder_blocks.26.mlp.dense_4h_to_h.bias', 'lang_encoder.old_decoder_blocks.27.input_layernorm.weight', 'lang_encoder.old_decoder_blocks.27.input_layernorm.bias', 'lang_encoder.old_decoder_blocks.27.post_attention_layernorm.weight', 'lang_encoder.old_decoder_blocks.27.post_attention_layernorm.bias', 'lang_encoder.old_decoder_blocks.27.attention.rotary_emb.inv_freq', 'lang_encoder.old_decoder_blocks.27.attention.query_key_value.weight', 'lang_encoder.old_decoder_blocks.27.attention.query_key_value.bias', 'lang_encoder.old_decoder_blocks.27.attention.dense.weight', 'lang_encoder.old_decoder_blocks.27.attention.dense.bias', 'lang_encoder.old_decoder_blocks.27.mlp.dense_h_to_4h.weight', 'lang_encoder.old_decoder_blocks.27.mlp.dense_h_to_4h.bias', 'lang_encoder.old_decoder_blocks.27.mlp.dense_4h_to_h.weight', 'lang_encoder.old_decoder_blocks.27.mlp.dense_4h_to_h.bias', 'lang_encoder.old_decoder_blocks.28.input_layernorm.weight', 'lang_encoder.old_decoder_blocks.28.input_layernorm.bias', 'lang_encoder.old_decoder_blocks.28.post_attention_layernorm.weight', 'lang_encoder.old_decoder_blocks.28.post_attention_layernorm.bias', 'lang_encoder.old_decoder_blocks.28.attention.rotary_emb.inv_freq', 'lang_encoder.old_decoder_blocks.28.attention.query_key_value.weight', 'lang_encoder.old_decoder_blocks.28.attention.query_key_value.bias', 'lang_encoder.old_decoder_blocks.28.attention.dense.weight', 'lang_encoder.old_decoder_blocks.28.attention.dense.bias', 'lang_encoder.old_decoder_blocks.28.mlp.dense_h_to_4h.weight', 'lang_encoder.old_decoder_blocks.28.mlp.dense_h_to_4h.bias', 'lang_encoder.old_decoder_blocks.28.mlp.dense_4h_to_h.weight', 'lang_encoder.old_decoder_blocks.28.mlp.dense_4h_to_h.bias', 'lang_encoder.old_decoder_blocks.29.input_layernorm.weight', 'lang_encoder.old_decoder_blocks.29.input_layernorm.bias', 'lang_encoder.old_decoder_blocks.29.post_attention_layernorm.weight', 'lang_encoder.old_decoder_blocks.29.post_attention_layernorm.bias', 'lang_encoder.old_decoder_blocks.29.attention.rotary_emb.inv_freq', 'lang_encoder.old_decoder_blocks.29.attention.query_key_value.weight', 'lang_encoder.old_decoder_blocks.29.attention.query_key_value.bias', 'lang_encoder.old_decoder_blocks.29.attention.dense.weight', 'lang_encoder.old_decoder_blocks.29.attention.dense.bias', 'lang_encoder.old_decoder_blocks.29.mlp.dense_h_to_4h.weight', 'lang_encoder.old_decoder_blocks.29.mlp.dense_h_to_4h.bias', 'lang_encoder.old_decoder_blocks.29.mlp.dense_4h_to_h.weight', 'lang_encoder.old_decoder_blocks.29.mlp.dense_4h_to_h.bias', 'lang_encoder.old_decoder_blocks.30.input_layernorm.weight', 'lang_encoder.old_decoder_blocks.30.input_layernorm.bias', 'lang_encoder.old_decoder_blocks.30.post_attention_layernorm.weight', 'lang_encoder.old_decoder_blocks.30.post_attention_layernorm.bias', 'lang_encoder.old_decoder_blocks.30.attention.rotary_emb.inv_freq', 'lang_encoder.old_decoder_blocks.30.attention.query_key_value.weight', 'lang_encoder.old_decoder_blocks.30.attention.query_key_value.bias', 'lang_encoder.old_decoder_blocks.30.attention.dense.weight', 'lang_encoder.old_decoder_blocks.30.attention.dense.bias', 'lang_encoder.old_decoder_blocks.30.mlp.dense_h_to_4h.weight', 'lang_encoder.old_decoder_blocks.30.mlp.dense_h_to_4h.bias', 'lang_encoder.old_decoder_blocks.30.mlp.dense_4h_to_h.weight', 'lang_encoder.old_decoder_blocks.30.mlp.dense_4h_to_h.bias', 'lang_encoder.old_decoder_blocks.31.input_layernorm.weight', 'lang_encoder.old_decoder_blocks.31.input_layernorm.bias', 'lang_encoder.old_decoder_blocks.31.post_attention_layernorm.weight', 'lang_encoder.old_decoder_blocks.31.post_attention_layernorm.bias', 'lang_encoder.old_decoder_blocks.31.attention.rotary_emb.inv_freq', 'lang_encoder.old_decoder_blocks.31.attention.query_key_value.weight', 'lang_encoder.old_decoder_blocks.31.attention.query_key_value.bias', 'lang_encoder.old_decoder_blocks.31.attention.dense.weight', 'lang_encoder.old_decoder_blocks.31.attention.dense.bias', 'lang_encoder.old_decoder_blocks.31.mlp.dense_h_to_4h.weight', 'lang_encoder.old_decoder_blocks.31.mlp.dense_h_to_4h.bias', 'lang_encoder.old_decoder_blocks.31.mlp.dense_4h_to_h.weight', 'lang_encoder.old_decoder_blocks.31.mlp.dense_4h_to_h.bias', 'lang_encoder.gated_cross_attn_layers.1.attn_gate', 'lang_encoder.gated_cross_attn_layers.1.ff_gate', 'lang_encoder.gated_cross_attn_layers.1.attn.norm.weight', 'lang_encoder.gated_cross_attn_layers.1.attn.norm.bias', 'lang_encoder.gated_cross_attn_layers.1.attn.to_q.weight', 'lang_encoder.gated_cross_attn_layers.1.attn.to_kv.weight', 'lang_encoder.gated_cross_attn_layers.1.attn.to_out.weight', 'lang_encoder.gated_cross_attn_layers.1.ff.0.weight', 'lang_encoder.gated_cross_attn_layers.1.ff.0.bias', 'lang_encoder.gated_cross_attn_layers.1.ff.1.weight', 'lang_encoder.gated_cross_attn_layers.1.ff.3.weight', 'lang_encoder.gated_cross_attn_layers.3.attn_gate', 'lang_encoder.gated_cross_attn_layers.3.ff_gate', 'lang_encoder.gated_cross_attn_layers.3.attn.norm.weight', 'lang_encoder.gated_cross_attn_layers.3.attn.norm.bias', 'lang_encoder.gated_cross_attn_layers.3.attn.to_q.weight', 'lang_encoder.gated_cross_attn_layers.3.attn.to_kv.weight', 'lang_encoder.gated_cross_attn_layers.3.attn.to_out.weight', 'lang_encoder.gated_cross_attn_layers.3.ff.0.weight', 'lang_encoder.gated_cross_attn_layers.3.ff.0.bias', 'lang_encoder.gated_cross_attn_layers.3.ff.1.weight', 'lang_encoder.gated_cross_attn_layers.3.ff.3.weight', 'lang_encoder.gated_cross_attn_layers.5.attn_gate', 'lang_encoder.gated_cross_attn_layers.5.ff_gate', 'lang_encoder.gated_cross_attn_layers.5.attn.norm.weight', 'lang_encoder.gated_cross_attn_layers.5.attn.norm.bias', 'lang_encoder.gated_cross_attn_layers.5.attn.to_q.weight', 'lang_encoder.gated_cross_attn_layers.5.attn.to_kv.weight', 'lang_encoder.gated_cross_attn_layers.5.attn.to_out.weight', 'lang_encoder.gated_cross_attn_layers.5.ff.0.weight', 'lang_encoder.gated_cross_attn_layers.5.ff.0.bias', 'lang_encoder.gated_cross_attn_layers.5.ff.1.weight', 'lang_encoder.gated_cross_attn_layers.5.ff.3.weight', 'lang_encoder.gated_cross_attn_layers.7.attn_gate', 'lang_encoder.gated_cross_attn_layers.7.ff_gate', 'lang_encoder.gated_cross_attn_layers.7.attn.norm.weight', 'lang_encoder.gated_cross_attn_layers.7.attn.norm.bias', 'lang_encoder.gated_cross_attn_layers.7.attn.to_q.weight', 'lang_encoder.gated_cross_attn_layers.7.attn.to_kv.weight', 'lang_encoder.gated_cross_attn_layers.7.attn.to_out.weight', 'lang_encoder.gated_cross_attn_layers.7.ff.0.weight', 'lang_encoder.gated_cross_attn_layers.7.ff.0.bias', 'lang_encoder.gated_cross_attn_layers.7.ff.1.weight', 'lang_encoder.gated_cross_attn_layers.7.ff.3.weight', 'lang_encoder.gated_cross_attn_layers.9.attn_gate', 'lang_encoder.gated_cross_attn_layers.9.ff_gate', 'lang_encoder.gated_cross_attn_layers.9.attn.norm.weight', 'lang_encoder.gated_cross_attn_layers.9.attn.norm.bias', 'lang_encoder.gated_cross_attn_layers.9.attn.to_q.weight', 'lang_encoder.gated_cross_attn_layers.9.attn.to_kv.weight', 'lang_encoder.gated_cross_attn_layers.9.attn.to_out.weight', 'lang_encoder.gated_cross_attn_layers.9.ff.0.weight', 'lang_encoder.gated_cross_attn_layers.9.ff.0.bias', 'lang_encoder.gated_cross_attn_layers.9.ff.1.weight', 'lang_encoder.gated_cross_attn_layers.9.ff.3.weight', 'lang_encoder.gated_cross_attn_layers.11.attn_gate', 'lang_encoder.gated_cross_attn_layers.11.ff_gate', 'lang_encoder.gated_cross_attn_layers.11.attn.norm.weight', 'lang_encoder.gated_cross_attn_layers.11.attn.norm.bias', 'lang_encoder.gated_cross_attn_layers.11.attn.to_q.weight', 'lang_encoder.gated_cross_attn_layers.11.attn.to_kv.weight', 'lang_encoder.gated_cross_attn_layers.11.attn.to_out.weight', 'lang_encoder.gated_cross_attn_layers.11.ff.0.weight', 'lang_encoder.gated_cross_attn_layers.11.ff.0.bias', 'lang_encoder.gated_cross_attn_layers.11.ff.1.weight', 'lang_encoder.gated_cross_attn_layers.11.ff.3.weight', 'lang_encoder.gated_cross_attn_layers.13.attn_gate', 'lang_encoder.gated_cross_attn_layers.13.ff_gate', 'lang_encoder.gated_cross_attn_layers.13.attn.norm.weight', 'lang_encoder.gated_cross_attn_layers.13.attn.norm.bias', 'lang_encoder.gated_cross_attn_layers.13.attn.to_q.weight', 'lang_encoder.gated_cross_attn_layers.13.attn.to_kv.weight', 'lang_encoder.gated_cross_attn_layers.13.attn.to_out.weight', 'lang_encoder.gated_cross_attn_layers.13.ff.0.weight', 'lang_encoder.gated_cross_attn_layers.13.ff.0.bias', 'lang_encoder.gated_cross_attn_layers.13.ff.1.weight', 'lang_encoder.gated_cross_attn_layers.13.ff.3.weight', 'lang_encoder.gated_cross_attn_layers.15.attn_gate', 'lang_encoder.gated_cross_attn_layers.15.ff_gate', 'lang_encoder.gated_cross_attn_layers.15.attn.norm.weight', 'lang_encoder.gated_cross_attn_layers.15.attn.norm.bias', 'lang_encoder.gated_cross_attn_layers.15.attn.to_q.weight', 'lang_encoder.gated_cross_attn_layers.15.attn.to_kv.weight', 'lang_encoder.gated_cross_attn_layers.15.attn.to_out.weight', 'lang_encoder.gated_cross_attn_layers.15.ff.0.weight', 'lang_encoder.gated_cross_attn_layers.15.ff.0.bias', 'lang_encoder.gated_cross_attn_layers.15.ff.1.weight', 'lang_encoder.gated_cross_attn_layers.15.ff.3.weight', 'lang_encoder.gated_cross_attn_layers.17.attn_gate', 'lang_encoder.gated_cross_attn_layers.17.ff_gate', 'lang_encoder.gated_cross_attn_layers.17.attn.norm.weight', 'lang_encoder.gated_cross_attn_layers.17.attn.norm.bias', 'lang_encoder.gated_cross_attn_layers.17.attn.to_q.weight', 'lang_encoder.gated_cross_attn_layers.17.attn.to_kv.weight', 'lang_encoder.gated_cross_attn_layers.17.attn.to_out.weight', 'lang_encoder.gated_cross_attn_layers.17.ff.0.weight', 'lang_encoder.gated_cross_attn_layers.17.ff.0.bias', 'lang_encoder.gated_cross_attn_layers.17.ff.1.weight', 'lang_encoder.gated_cross_attn_layers.17.ff.3.weight', 'lang_encoder.gated_cross_attn_layers.19.attn_gate', 'lang_encoder.gated_cross_attn_layers.19.ff_gate', 'lang_encoder.gated_cross_attn_layers.19.attn.norm.weight', 'lang_encoder.gated_cross_attn_layers.19.attn.norm.bias', 'lang_encoder.gated_cross_attn_layers.19.attn.to_q.weight', 'lang_encoder.gated_cross_attn_layers.19.attn.to_kv.weight', 'lang_encoder.gated_cross_attn_layers.19.attn.to_out.weight', 'lang_encoder.gated_cross_attn_layers.19.ff.0.weight', 'lang_encoder.gated_cross_attn_layers.19.ff.0.bias', 'lang_encoder.gated_cross_attn_layers.19.ff.1.weight', 'lang_encoder.gated_cross_attn_layers.19.ff.3.weight', 'lang_encoder.gated_cross_attn_layers.21.attn_gate', 'lang_encoder.gated_cross_attn_layers.21.ff_gate', 'lang_encoder.gated_cross_attn_layers.21.attn.norm.weight', 'lang_encoder.gated_cross_attn_layers.21.attn.norm.bias', 'lang_encoder.gated_cross_attn_layers.21.attn.to_q.weight', 'lang_encoder.gated_cross_attn_layers.21.attn.to_kv.weight', 'lang_encoder.gated_cross_attn_layers.21.attn.to_out.weight', 'lang_encoder.gated_cross_attn_layers.21.ff.0.weight', 'lang_encoder.gated_cross_attn_layers.21.ff.0.bias', 'lang_encoder.gated_cross_attn_layers.21.ff.1.weight', 'lang_encoder.gated_cross_attn_layers.21.ff.3.weight', 'lang_encoder.gated_cross_attn_layers.23.attn_gate', 'lang_encoder.gated_cross_attn_layers.23.ff_gate', 'lang_encoder.gated_cross_attn_layers.23.attn.norm.weight', 'lang_encoder.gated_cross_attn_layers.23.attn.norm.bias', 'lang_encoder.gated_cross_attn_layers.23.attn.to_q.weight', 'lang_encoder.gated_cross_attn_layers.23.attn.to_kv.weight', 'lang_encoder.gated_cross_attn_layers.23.attn.to_out.weight', 'lang_encoder.gated_cross_attn_layers.23.ff.0.weight', 'lang_encoder.gated_cross_attn_layers.23.ff.0.bias', 'lang_encoder.gated_cross_attn_layers.23.ff.1.weight', 'lang_encoder.gated_cross_attn_layers.23.ff.3.weight', 'lang_encoder.gated_cross_attn_layers.25.attn_gate', 'lang_encoder.gated_cross_attn_layers.25.ff_gate', 'lang_encoder.gated_cross_attn_layers.25.attn.norm.weight', 'lang_encoder.gated_cross_attn_layers.25.attn.norm.bias', 'lang_encoder.gated_cross_attn_layers.25.attn.to_q.weight', 'lang_encoder.gated_cross_attn_layers.25.attn.to_kv.weight', 'lang_encoder.gated_cross_attn_layers.25.attn.to_out.weight', 'lang_encoder.gated_cross_attn_layers.25.ff.0.weight', 'lang_encoder.gated_cross_attn_layers.25.ff.0.bias', 'lang_encoder.gated_cross_attn_layers.25.ff.1.weight', 'lang_encoder.gated_cross_attn_layers.25.ff.3.weight', 'lang_encoder.gated_cross_attn_layers.27.attn_gate', 'lang_encoder.gated_cross_attn_layers.27.ff_gate', 'lang_encoder.gated_cross_attn_layers.27.attn.norm.weight', 'lang_encoder.gated_cross_attn_layers.27.attn.norm.bias', 'lang_encoder.gated_cross_attn_layers.27.attn.to_q.weight', 'lang_encoder.gated_cross_attn_layers.27.attn.to_kv.weight', 'lang_encoder.gated_cross_attn_layers.27.attn.to_out.weight', 'lang_encoder.gated_cross_attn_layers.27.ff.0.weight', 'lang_encoder.gated_cross_attn_layers.27.ff.0.bias', 'lang_encoder.gated_cross_attn_layers.27.ff.1.weight', 'lang_encoder.gated_cross_attn_layers.27.ff.3.weight', 'lang_encoder.gated_cross_attn_layers.29.attn_gate', 'lang_encoder.gated_cross_attn_layers.29.ff_gate', 'lang_encoder.gated_cross_attn_layers.29.attn.norm.weight', 'lang_encoder.gated_cross_attn_layers.29.attn.norm.bias', 'lang_encoder.gated_cross_attn_layers.29.attn.to_q.weight', 'lang_encoder.gated_cross_attn_layers.29.attn.to_kv.weight', 'lang_encoder.gated_cross_attn_layers.29.attn.to_out.weight', 'lang_encoder.gated_cross_attn_layers.29.ff.0.weight', 'lang_encoder.gated_cross_attn_layers.29.ff.0.bias', 'lang_encoder.gated_cross_attn_layers.29.ff.1.weight', 'lang_encoder.gated_cross_attn_layers.29.ff.3.weight', 'lang_encoder.gated_cross_attn_layers.31.attn_gate', 'lang_encoder.gated_cross_attn_layers.31.ff_gate', 'lang_encoder.gated_cross_attn_layers.31.attn.norm.weight', 'lang_encoder.gated_cross_attn_layers.31.attn.norm.bias', 'lang_encoder.gated_cross_attn_layers.31.attn.to_q.weight', 'lang_encoder.gated_cross_attn_layers.31.attn.to_kv.weight', 'lang_encoder.gated_cross_attn_layers.31.attn.to_out.weight', 'lang_encoder.gated_cross_attn_layers.31.ff.0.weight', 'lang_encoder.gated_cross_attn_layers.31.ff.0.bias', 'lang_encoder.gated_cross_attn_layers.31.ff.1.weight', 'lang_encoder.gated_cross_attn_layers.31.ff.3.weight'], unexpected_keys=[])"
      ]
     },
     "execution_count": 6,
     "metadata": {},
     "output_type": "execute_result"
    }
   ],
   "source": [
    "from open_flamingo import create_model_and_transforms\n",
    "\n",
    "model, image_processor, tokenizer = create_model_and_transforms(\n",
    "    clip_vision_encoder_path=\"ViT-L-14\",\n",
    "    clip_vision_encoder_pretrained=\"openai\",\n",
    "    lang_encoder_path=\"togethercomputer/RedPajama-INCITE-Instruct-3B-v1\",\n",
    "    tokenizer_path=\"togethercomputer/RedPajama-INCITE-Instruct-3B-v1\",\n",
    "    cross_attn_every_n_layers=2\n",
    ")\n",
    "\n",
    "# grab model checkpoint from huggingface hub\n",
    "from huggingface_hub import hf_hub_download\n",
    "import torch\n",
    "\n",
    "checkpoint_path = hf_hub_download(\"openflamingo/OpenFlamingo-4B-vitl-rpj3b-langinstruct\", \"checkpoint.pt\")\n",
    "model.load_state_dict(torch.load(checkpoint_path), strict=False)\n"
   ]
  },
  {
   "cell_type": "code",
   "execution_count": 7,
   "id": "b67d40f1-f958-415d-9019-3989b90b1544",
   "metadata": {},
   "outputs": [],
   "source": [
    "# grab model checkpoint from huggingface hub\n",
    "from huggingface_hub import hf_hub_download\n",
    "import torch\n",
    "from PIL import Image\n",
    "import requests\n",
    "device = \"cpu\"\n",
    "# if torch.cuda.is_available():\n",
    "#     print(\"CUDA is available! Using GPU for calculations.\")\n",
    "#     device = torch.device(\"cuda\")\n",
    "# else:\n",
    "#     print(\"CUDA is not available. Using CPU for calculations.\")\n",
    "#     device = torch.device(\"cpu\")\n",
    "model = model.to(device)"
   ]
  },
  {
   "cell_type": "code",
   "execution_count": 8,
   "id": "7e5d6c47-ff57-4a0b-8da7-4c3dac1cddde",
   "metadata": {},
   "outputs": [
    {
     "name": "stderr",
     "output_type": "stream",
     "text": [
      "Setting `pad_token_id` to `eos_token_id`:50277 for open-end generation.\n"
     ]
    },
    {
     "name": "stdout",
     "output_type": "stream",
     "text": [
      "Generated text:  <image>An image of two cats.<|endofchunk|><image>An image of a bathroom sink.<|endofchunk|><image>An image of a buffet table.<|endofchunk|>\n"
     ]
    }
   ],
   "source": [
    "from PIL import Image\n",
    "import requests\n",
    "import torch\n",
    "\n",
    "\"\"\"\n",
    "Step 1: Load images\n",
    "\"\"\"\n",
    "demo_image_one = Image.open(\n",
    "    requests.get(\n",
    "        \"http://images.cocodataset.org/val2017/000000039769.jpg\", stream=True\n",
    "    ).raw\n",
    ")\n",
    "\n",
    "demo_image_two = Image.open(\n",
    "    requests.get(\n",
    "        \"http://images.cocodataset.org/test-stuff2017/000000028137.jpg\",\n",
    "        stream=True\n",
    "    ).raw\n",
    ")\n",
    "\n",
    "query_image = Image.open(\n",
    "    requests.get(\n",
    "        \"http://images.cocodataset.org/test-stuff2017/000000028352.jpg\", \n",
    "        stream=True\n",
    "    ).raw\n",
    ")\n",
    "\n",
    "\n",
    "\"\"\"\n",
    "Step 2: Preprocessing images\n",
    "Details: For OpenFlamingo, we expect the image to be a torch tensor of shape \n",
    " batch_size x num_media x num_frames x channels x height x width. \n",
    " In this case batch_size = 1, num_media = 3, num_frames = 1,\n",
    " channels = 3, height = 224, width = 224.\n",
    "\"\"\"\n",
    "vision_x = [image_processor(demo_image_one).unsqueeze(0), image_processor(demo_image_two).unsqueeze(0), image_processor(query_image).unsqueeze(0)]\n",
    "vision_x = torch.cat(vision_x, dim=0)\n",
    "vision_x = vision_x.unsqueeze(1).unsqueeze(0).to(device)\n",
    "\n",
    "\"\"\"\n",
    "Step 3: Preprocessing text\n",
    "Details: In the text we expect an <image> special token to indicate where an image is.\n",
    " We also expect an <|endofchunk|> special token to indicate the end of the text \n",
    " portion associated with an image.\n",
    "\"\"\"\n",
    "tokenizer.padding_side = \"left\" # For generation padding tokens should be on the left\n",
    "lang_x = tokenizer(\n",
    "    [\"<image>An image of two cats.<|endofchunk|><image>An image of a bathroom sink.<|endofchunk|><image>An image of\"],\n",
    "    return_tensors=\"pt\",\n",
    ")\n",
    "\n",
    "\n",
    "\"\"\"\n",
    "Step 4: Generate text\n",
    "\"\"\"\n",
    "generated_text = model.generate(\n",
    "    vision_x=vision_x,\n",
    "    lang_x=lang_x[\"input_ids\"],\n",
    "    attention_mask=lang_x[\"attention_mask\"],\n",
    "    max_new_tokens=20,\n",
    "    num_beams=3,\n",
    ")\n",
    "\n",
    "print(\"Generated text: \", tokenizer.decode(generated_text[0]))"
   ]
  },
  {
   "cell_type": "markdown",
   "id": "2af882ee-1237-4c48-88c8-ab0a6b93801a",
   "metadata": {},
   "source": [
    "## 3.2 Few Shot Learning - only rgb input"
   ]
  },
  {
   "cell_type": "code",
   "execution_count": 9,
   "id": "2507ce1b-3283-4be6-9941-4553ccb50e1a",
   "metadata": {},
   "outputs": [],
   "source": [
    "from PIL import Image\n",
    "import requests\n",
    "import torch\n",
    "import numpy as np\n",
    "\"\"\"\n",
    "Step 1: Load images\n",
    "\"\"\"\n",
    "dataset = GridDataset(grid_size=5, seed = 42, wall_symbol=\"#\", free_symbol=\".\", cell_size=5)\n",
    "img_rgb1, gridworld1 = dataset[0]\n",
    "img_rgb2, gridworld2 = dataset[1]\n",
    "img_rgb3, gridworld3 = dataset[2]\n",
    "img_rgb4, gridworld4 = dataset[3]\n",
    "ascii_inp1, path1 = str(gridworld1), gridworld1.a_star()\n",
    "ascii_inp2, path2 = str(gridworld2), gridworld2.a_star()\n",
    "ascii_inp3, path3 = str(gridworld3), gridworld3.a_star()\n",
    "ascii_inp4, path4 = str(gridworld4), gridworld4.a_star()"
   ]
  },
  {
   "cell_type": "code",
   "execution_count": 10,
   "id": "e03c4e9d-8395-4cbc-956f-3aa1806aba7a",
   "metadata": {},
   "outputs": [
    {
     "data": {
      "image/png": "[encoded data removed]",
      "text/plain": [
       "<Figure size 1500x1000 with 3 Axes>"
      ]
     },
     "metadata": {},
     "output_type": "display_data"
    }
   ],
   "source": [
    "from src_code.data_utils.dataset_utils import draw_image_grid\n",
    "draw_image_grid([(img_rgb1, path1), (img_rgb2, path2), (img_rgb3, path3)])"
   ]
  },
  {
   "cell_type": "markdown",
   "id": "394cfda5-504d-44ec-836a-e8c45e88670a",
   "metadata": {},
   "source": [
    "## OpenFlamingo RGB Prompt"
   ]
  },
  {
   "cell_type": "code",
   "execution_count": 18,
   "id": "b1681bfe-2e60-4032-98d5-91d34761b18f",
   "metadata": {},
   "outputs": [
    {
     "name": "stdout",
     "output_type": "stream",
     "text": [
      "<image> In this example, the path from the starting cell to the goal cell is ('go up', 'go up', 'go up', 'go left')<|endofchunk|><image> is an image of a grid world\n",
      "\n",
      "The red cell is the starting cell,\n",
      "the green cell is the goal cell,\n",
      "the gray cells are obstacles,\n",
      "and the white cells are free cells.\n",
      "\n",
      "Rules:\n",
      "The path must not pass through the obstacles.\n",
      "You can move up, down, left, or right from one cell to another.\n",
      "You cannot move diagonally.\n",
      "The path must be the shortest path from the starting cell to the goal cell.\n",
      "The output should be a sequence of steps to reach the goal cell.\n",
      "\n",
      "Actions:\n",
      "Only give me the steps, like 'go up', 'go down', 'go left' or 'go right'\n",
      "go up: move one cell up\n",
      "go down: move one cell down\n",
      "go left: move one cell left\n",
      "go right: move one cell right\n",
      "\n",
      "Can you find the path from the starting cell to the goal cell?\n",
      "\n"
     ]
    }
   ],
   "source": [
    "from src_code.data_utils.prompt_utils import generate_inputs_for_openflamingo_rgb_and_text\n",
    "query_idx=1\n",
    "vision_x, lang_x, str_prompt = generate_inputs_for_openflamingo_rgb_and_text(tokenizer, image_processor, dataset, query_idx=query_idx, img_symbol=\"<image>\")\n",
    "print(str_prompt)"
   ]
  },
  {
   "cell_type": "markdown",
   "id": "a38bf5f7-693a-4b89-aae7-7caa85e89eb5",
   "metadata": {},
   "source": [
    "### 3.2.1 One Shot Learning RGB and Text"
   ]
  },
  {
   "cell_type": "code",
   "execution_count": 17,
   "id": "aac9111e-ed42-4fd7-9cc3-7e4b40903173",
   "metadata": {},
   "outputs": [
    {
     "name": "stderr",
     "output_type": "stream",
     "text": [
      "Setting `pad_token_id` to `eos_token_id`:50277 for open-end generation.\n"
     ]
    },
    {
     "name": "stdout",
     "output_type": "stream",
     "text": [
      "Generated text:  <image> In this example, the path from the starting cell to the goal cell is ('go up', 'go up', 'go up', 'go left')<|endofchunk|><image> is an image of a grid world\n",
      "\n",
      "The red cell is the starting cell,\n",
      "the green cell is the goal cell,\n",
      "the gray cells are obstacles,\n",
      "and the white cells are free cells.\n",
      "\n",
      "Rules:\n",
      "The path must not pass through the obstacles.\n",
      "You can move up, down, left, or right from one cell to another.\n",
      "You cannot move diagonally.\n",
      "The path must be the shortest path from the starting cell to the goal cell.\n",
      "The output should be a sequence of steps to reach the goal cell.\n",
      "\n",
      "Actions:\n",
      "Only give me the steps, like 'go up', 'go down', 'go left' or 'go right'\n",
      "go up: move one cell up, in coordinate is x - 1\n",
      "go down: move one cell down, in coordinate is x + 1\n",
      "go left: move one cell left, in coordinate is y - 1\n",
      "go right: move one cell right, in coordinate is y + 1\n",
      "Can you find the path from the starting cell to the goal cell?\n",
      "Can you find the shortest path from the starting cell to the goal cell?<|endofchunk|>\n"
     ]
    },
    {
     "name": "stderr",
     "output_type": "stream",
     "text": [
      "Setting `pad_token_id` to `eos_token_id`:50277 for open-end generation.\n"
     ]
    },
    {
     "name": "stdout",
     "output_type": "stream",
     "text": [
      "Generated text:  <image> In this example, the path from the starting cell to the goal cell is ('go up', 'go up', 'go up', 'go left')<|endofchunk|><image> is an image of a grid world\n",
      "\n",
      "The red cell is the starting cell,\n",
      "the green cell is the goal cell,\n",
      "the gray cells are obstacles,\n",
      "and the white cells are free cells.\n",
      "\n",
      "Rules:\n",
      "The path must not pass through the obstacles.\n",
      "You can move up, down, left, or right from one cell to another.\n",
      "You cannot move diagonally.\n",
      "The path must be the shortest path from the starting cell to the goal cell.\n",
      "The output should be a sequence of steps to reach the goal cell.\n",
      "\n",
      "Actions:\n",
      "Only give me the steps, like 'go up', 'go down', 'go left' or 'go right'\n",
      "go up: move one cell up, in coordinate is x - 1\n",
      "go down: move one cell down, in coordinate is x + 1\n",
      "go left: move one cell left, in coordinate is y - 1\n",
      "go right: move one cell right, in coordinate is y + 1\n",
      "Can you find the path from the starting cell to the goal cell?\n",
      "Can you find the shortest path from the starting cell to the goal cell?<|endofchunk|>\n"
     ]
    },
    {
     "name": "stderr",
     "output_type": "stream",
     "text": [
      "Setting `pad_token_id` to `eos_token_id`:50277 for open-end generation.\n"
     ]
    },
    {
     "name": "stdout",
     "output_type": "stream",
     "text": [
      "Generated text:  <image> In this example, the path from the starting cell to the goal cell is ('go up', 'go up', 'go up', 'go left')<|endofchunk|><image> is an image of a grid world\n",
      "\n",
      "The red cell is the starting cell,\n",
      "the green cell is the goal cell,\n",
      "the gray cells are obstacles,\n",
      "and the white cells are free cells.\n",
      "\n",
      "Rules:\n",
      "The path must not pass through the obstacles.\n",
      "You can move up, down, left, or right from one cell to another.\n",
      "You cannot move diagonally.\n",
      "The path must be the shortest path from the starting cell to the goal cell.\n",
      "The output should be a sequence of steps to reach the goal cell.\n",
      "\n",
      "Actions:\n",
      "Only give me the steps, like 'go up', 'go down', 'go left' or 'go right'\n",
      "go up: move one cell up, in coordinate is x - 1\n",
      "go down: move one cell down, in coordinate is x + 1\n",
      "go left: move one cell left, in coordinate is y - 1\n",
      "go right: move one cell right, in coordinate is y + 1\n",
      "Can you find the path from the starting cell to the goal cell?\n",
      "Can you find the shortest path from the starting cell to the goal cell?<|endofchunk|>\n"
     ]
    },
    {
     "name": "stderr",
     "output_type": "stream",
     "text": [
      "Setting `pad_token_id` to `eos_token_id`:50277 for open-end generation.\n"
     ]
    },
    {
     "name": "stdout",
     "output_type": "stream",
     "text": [
      "Generated text:  <image> In this example, the path from the starting cell to the goal cell is ('go up', 'go up', 'go up', 'go left')<|endofchunk|><image> is an image of a grid world\n",
      "\n",
      "The red cell is the starting cell,\n",
      "the green cell is the goal cell,\n",
      "the gray cells are obstacles,\n",
      "and the white cells are free cells.\n",
      "\n",
      "Rules:\n",
      "The path must not pass through the obstacles.\n",
      "You can move up, down, left, or right from one cell to another.\n",
      "You cannot move diagonally.\n",
      "The path must be the shortest path from the starting cell to the goal cell.\n",
      "The output should be a sequence of steps to reach the goal cell.\n",
      "\n",
      "Actions:\n",
      "Only give me the steps, like 'go up', 'go down', 'go left' or 'go right'\n",
      "go up: move one cell up, in coordinate is x - 1\n",
      "go down: move one cell down, in coordinate is x + 1\n",
      "go left: move one cell left, in coordinate is y - 1\n",
      "go right: move one cell right, in coordinate is y + 1\n",
      "Can you find the path from the starting cell to the goal cell?\n",
      "Can you find the shortest path from the starting cell to the goal cell?<|endofchunk|>\n"
     ]
    },
    {
     "name": "stderr",
     "output_type": "stream",
     "text": [
      "Setting `pad_token_id` to `eos_token_id`:50277 for open-end generation.\n"
     ]
    },
    {
     "name": "stdout",
     "output_type": "stream",
     "text": [
      "Generated text:  <image> In this example, the path from the starting cell to the goal cell is ('go up', 'go up', 'go up', 'go left')<|endofchunk|><image> is an image of a grid world\n",
      "\n",
      "The red cell is the starting cell,\n",
      "the green cell is the goal cell,\n",
      "the gray cells are obstacles,\n",
      "and the white cells are free cells.\n",
      "\n",
      "Rules:\n",
      "The path must not pass through the obstacles.\n",
      "You can move up, down, left, or right from one cell to another.\n",
      "You cannot move diagonally.\n",
      "The path must be the shortest path from the starting cell to the goal cell.\n",
      "The output should be a sequence of steps to reach the goal cell.\n",
      "\n",
      "Actions:\n",
      "Only give me the steps, like 'go up', 'go down', 'go left' or 'go right'\n",
      "go up: move one cell up, in coordinate is x - 1\n",
      "go down: move one cell down, in coordinate is x + 1\n",
      "go left: move one cell left, in coordinate is y - 1\n",
      "go right: move one cell right, in coordinate is y + 1\n",
      "Can you find the path from the starting cell to the goal cell?\n",
      "Can you find the shortest path from the starting cell to the goal cell?<|endofchunk|>\n"
     ]
    },
    {
     "name": "stderr",
     "output_type": "stream",
     "text": [
      "Setting `pad_token_id` to `eos_token_id`:50277 for open-end generation.\n"
     ]
    },
    {
     "name": "stdout",
     "output_type": "stream",
     "text": [
      "Generated text:  <image> In this example, the path from the starting cell to the goal cell is ('go up', 'go up', 'go up', 'go left')<|endofchunk|><image> is an image of a grid world\n",
      "\n",
      "The red cell is the starting cell,\n",
      "the green cell is the goal cell,\n",
      "the gray cells are obstacles,\n",
      "and the white cells are free cells.\n",
      "\n",
      "Rules:\n",
      "The path must not pass through the obstacles.\n",
      "You can move up, down, left, or right from one cell to another.\n",
      "You cannot move diagonally.\n",
      "The path must be the shortest path from the starting cell to the goal cell.\n",
      "The output should be a sequence of steps to reach the goal cell.\n",
      "\n",
      "Actions:\n",
      "Only give me the steps, like 'go up', 'go down', 'go left' or 'go right'\n",
      "go up: move one cell up, in coordinate is x - 1\n",
      "go down: move one cell down, in coordinate is x + 1\n",
      "go left: move one cell left, in coordinate is y - 1\n",
      "go right: move one cell right, in coordinate is y + 1\n",
      "Can you find the path from the starting cell to the goal cell?\n",
      "Can you find the shortest path from the starting cell to the goal cell?<|endofchunk|>\n"
     ]
    },
    {
     "name": "stderr",
     "output_type": "stream",
     "text": [
      "Setting `pad_token_id` to `eos_token_id`:50277 for open-end generation.\n"
     ]
    },
    {
     "name": "stdout",
     "output_type": "stream",
     "text": [
      "Generated text:  <image> In this example, the path from the starting cell to the goal cell is ('go up', 'go up', 'go up', 'go left')<|endofchunk|><image> is an image of a grid world\n",
      "\n",
      "The red cell is the starting cell,\n",
      "the green cell is the goal cell,\n",
      "the gray cells are obstacles,\n",
      "and the white cells are free cells.\n",
      "\n",
      "Rules:\n",
      "The path must not pass through the obstacles.\n",
      "You can move up, down, left, or right from one cell to another.\n",
      "You cannot move diagonally.\n",
      "The path must be the shortest path from the starting cell to the goal cell.\n",
      "The output should be a sequence of steps to reach the goal cell.\n",
      "\n",
      "Actions:\n",
      "Only give me the steps, like 'go up', 'go down', 'go left' or 'go right'\n",
      "go up: move one cell up, in coordinate is x - 1\n",
      "go down: move one cell down, in coordinate is x + 1\n",
      "go left: move one cell left, in coordinate is y - 1\n",
      "go right: move one cell right, in coordinate is y + 1\n",
      "Can you find the path from the starting cell to the goal cell?\n",
      "Can you find the shortest path from the starting cell to the goal cell?<|endofchunk|>\n"
     ]
    },
    {
     "name": "stderr",
     "output_type": "stream",
     "text": [
      "Setting `pad_token_id` to `eos_token_id`:50277 for open-end generation.\n"
     ]
    },
    {
     "name": "stdout",
     "output_type": "stream",
     "text": [
      "Generated text:  <image> In this example, the path from the starting cell to the goal cell is ('go up', 'go up', 'go up', 'go left')<|endofchunk|><image> is an image of a grid world\n",
      "\n",
      "The red cell is the starting cell,\n",
      "the green cell is the goal cell,\n",
      "the gray cells are obstacles,\n",
      "and the white cells are free cells.\n",
      "\n",
      "Rules:\n",
      "The path must not pass through the obstacles.\n",
      "You can move up, down, left, or right from one cell to another.\n",
      "You cannot move diagonally.\n",
      "The path must be the shortest path from the starting cell to the goal cell.\n",
      "The output should be a sequence of steps to reach the goal cell.\n",
      "\n",
      "Actions:\n",
      "Only give me the steps, like 'go up', 'go down', 'go left' or 'go right'\n",
      "go up: move one cell up, in coordinate is x - 1\n",
      "go down: move one cell down, in coordinate is x + 1\n",
      "go left: move one cell left, in coordinate is y - 1\n",
      "go right: move one cell right, in coordinate is y + 1\n",
      "Can you find the path from the starting cell to the goal cell?\n",
      "Can you find the shortest path from the starting cell to the goal cell?<|endofchunk|>\n"
     ]
    },
    {
     "name": "stderr",
     "output_type": "stream",
     "text": [
      "Setting `pad_token_id` to `eos_token_id`:50277 for open-end generation.\n"
     ]
    },
    {
     "name": "stdout",
     "output_type": "stream",
     "text": [
      "Generated text:  <image> In this example, the path from the starting cell to the goal cell is ('go up', 'go up', 'go up', 'go left')<|endofchunk|><image> is an image of a grid world\n",
      "\n",
      "The red cell is the starting cell,\n",
      "the green cell is the goal cell,\n",
      "the gray cells are obstacles,\n",
      "and the white cells are free cells.\n",
      "\n",
      "Rules:\n",
      "The path must not pass through the obstacles.\n",
      "You can move up, down, left, or right from one cell to another.\n",
      "You cannot move diagonally.\n",
      "The path must be the shortest path from the starting cell to the goal cell.\n",
      "The output should be a sequence of steps to reach the goal cell.\n",
      "\n",
      "Actions:\n",
      "Only give me the steps, like 'go up', 'go down', 'go left' or 'go right'\n",
      "go up: move one cell up, in coordinate is x - 1\n",
      "go down: move one cell down, in coordinate is x + 1\n",
      "go left: move one cell left, in coordinate is y - 1\n",
      "go right: move one cell right, in coordinate is y + 1\n",
      "Can you find the path from the starting cell to the goal cell?\n",
      "Can you find the shortest path from the starting cell to the goal cell?<|endofchunk|>\n"
     ]
    },
    {
     "name": "stderr",
     "output_type": "stream",
     "text": [
      "Setting `pad_token_id` to `eos_token_id`:50277 for open-end generation.\n"
     ]
    },
    {
     "name": "stdout",
     "output_type": "stream",
     "text": [
      "Generated text:  <image> In this example, the path from the starting cell to the goal cell is ('go up', 'go up', 'go up', 'go left')<|endofchunk|><image> is an image of a grid world\n",
      "\n",
      "The red cell is the starting cell,\n",
      "the green cell is the goal cell,\n",
      "the gray cells are obstacles,\n",
      "and the white cells are free cells.\n",
      "\n",
      "Rules:\n",
      "The path must not pass through the obstacles.\n",
      "You can move up, down, left, or right from one cell to another.\n",
      "You cannot move diagonally.\n",
      "The path must be the shortest path from the starting cell to the goal cell.\n",
      "The output should be a sequence of steps to reach the goal cell.\n",
      "\n",
      "Actions:\n",
      "Only give me the steps, like 'go up', 'go down', 'go left' or 'go right'\n",
      "go up: move one cell up, in coordinate is x - 1\n",
      "go down: move one cell down, in coordinate is x + 1\n",
      "go left: move one cell left, in coordinate is y - 1\n",
      "go right: move one cell right, in coordinate is y + 1\n",
      "Can you find the path from the starting cell to the goal cell?\n",
      "Can you find the shortest path from the starting cell to the goal cell?<|endofchunk|>\n"
     ]
    }
   ],
   "source": [
    "for query_idx in range(10):\n",
    "\n",
    "    vision_x, lang_x, str_prompt = generate_inputs_for_openflamingo_rgb_and_text(tokenizer, image_processor, dataset, img_symbol=\"<image>\", query_idx=query_idx)\n",
    "    \n",
    "    \"\"\"\n",
    "    Step 4: Generate text\n",
    "    \"\"\"\n",
    "    generated_text = model.generate(\n",
    "        vision_x=vision_x,\n",
    "        lang_x=lang_x[\"input_ids\"],\n",
    "        attention_mask=lang_x[\"attention_mask\"],\n",
    "        max_new_tokens=20,\n",
    "        num_beams=3,\n",
    "    )\n",
    "    \n",
    "    print(\"Generated text: \", tokenizer.decode(generated_text[0]))"
   ]
  },
  {
   "cell_type": "markdown",
   "id": "c38d1da3-38f3-4ca8-9296-1caf6e6116cb",
   "metadata": {},
   "source": [
    "### 3.2.2 only Text"
   ]
  },
  {
   "cell_type": "markdown",
   "id": "5a017d47-270d-4f13-8c56-01cdb7913a9e",
   "metadata": {},
   "source": [
    "#### OpenFlamingo Only Text Prompt"
   ]
  },
  {
   "cell_type": "code",
   "execution_count": 19,
   "id": "44380bd4-a353-4234-bebd-409b03917d86",
   "metadata": {},
   "outputs": [
    {
     "name": "stdout",
     "output_type": "stream",
     "text": [
      "\n",
      "Rules:\n",
      "The path must not pass through the obstacles.\n",
      "You can move up, down, left, or right from one cell to another.\n",
      "You cannot move diagonally.\n",
      "The path must be the shortest path from the starting cell to the goal cell.\n",
      "The output should be a sequence of steps to reach the goal cell.\n",
      "\n",
      "Actions:\n",
      "Only give me the steps, like 'go up', 'go down', 'go left' or 'go right'\n",
      "go up: move one cell up, in coordinate is x - 1\n",
      "go down: move one cell down, in coordinate is x + 1\n",
      "go left: move one cell left, in coordinate is y - 1\n",
      "go right: move one cell right, in coordinate is y + 1\n",
      "\n",
      "Coordinate system:\n",
      "The top-left cell is (0, 0).\n",
      "The y-coordinate increases to the right.\n",
      "The x-coordinate increases downwards.\n",
      "The starting cell is at (1, 4).\n",
      "The goal cell is at (0, 2).\n",
      "There are some obstacles at [(0, 0), (3, 1), (3, 3), (4, 0)].\n",
      "\n",
      "Output example:\n",
      "('go up', 'go right', 'go right', 'go down', 'go right')\n",
      "\n",
      "Can you find the path from the starting cell to the goal cell?\n",
      "\n"
     ]
    }
   ],
   "source": [
    "from src_code.data_utils.prompt_utils import generate_inputs_for_openflamingo_text\n",
    "dummy_vision_x, lang_x, str_prompt = generate_inputs_for_openflamingo_text(tokenizer, image_processor, dataset, query_idx=1, pure_language=True)\n",
    "print(str_prompt)"
   ]
  },
  {
   "cell_type": "code",
   "execution_count": 21,
   "id": "00bb4d90-ffef-43af-8477-2865424ed9e9",
   "metadata": {},
   "outputs": [
    {
     "name": "stderr",
     "output_type": "stream",
     "text": [
      "Setting `pad_token_id` to `eos_token_id`:50277 for open-end generation.\n"
     ]
    },
    {
     "name": "stdout",
     "output_type": "stream",
     "text": [
      "Generated text:  \n",
      "Rules:\n",
      "The path must not pass through the obstacles.\n",
      "You can move up, down, left, or right from one cell to another.\n",
      "You cannot move diagonally.\n",
      "The path must be the shortest path from the starting cell to the goal cell.\n",
      "The output should be a sequence of steps to reach the goal cell.\n",
      "\n",
      "Actions:\n",
      "Only give me the steps, like 'go up', 'go down', 'go left' or 'go right'\n",
      "go up: move one cell up, in coordinate is x - 1\n",
      "go down: move one cell down, in coordinate is x + 1\n",
      "go left: move one cell left, in coordinate is y - 1\n",
      "go right: move one cell right, in coordinate is y + 1\n",
      "\n",
      "Coordinate system:\n",
      "The top-left cell is (0, 0).\n",
      "The y-coordinate increases to the right.\n",
      "The x-coordinate increases downwards.\n",
      "The starting cell is at (3, 3).\n",
      "The goal cell is at (0, 2).\n",
      "There are some obstacles at [(1, 4), (2, 0), (2, 1), (3, 2), (3, 4), (4, 0)].\n",
      "\n",
      "Output example:\n",
      "('go up', 'go right', 'go right', 'go down', 'go right')\n",
      "\n",
      "Can you find the path from the starting cell to the goal cell?\n",
      "Can you find the shortest path from the starting cell to the goal cell? Can you find the shortest\n"
     ]
    },
    {
     "name": "stderr",
     "output_type": "stream",
     "text": [
      "Setting `pad_token_id` to `eos_token_id`:50277 for open-end generation.\n"
     ]
    },
    {
     "name": "stdout",
     "output_type": "stream",
     "text": [
      "Generated text:  \n",
      "Rules:\n",
      "The path must not pass through the obstacles.\n",
      "You can move up, down, left, or right from one cell to another.\n",
      "You cannot move diagonally.\n",
      "The path must be the shortest path from the starting cell to the goal cell.\n",
      "The output should be a sequence of steps to reach the goal cell.\n",
      "\n",
      "Actions:\n",
      "Only give me the steps, like 'go up', 'go down', 'go left' or 'go right'\n",
      "go up: move one cell up, in coordinate is x - 1\n",
      "go down: move one cell down, in coordinate is x + 1\n",
      "go left: move one cell left, in coordinate is y - 1\n",
      "go right: move one cell right, in coordinate is y + 1\n",
      "\n",
      "Coordinate system:\n",
      "The top-left cell is (0, 0).\n",
      "The y-coordinate increases to the right.\n",
      "The x-coordinate increases downwards.\n",
      "The starting cell is at (1, 4).\n",
      "The goal cell is at (0, 2).\n",
      "There are some obstacles at [(0, 0), (3, 1), (3, 3), (4, 0)].\n",
      "\n",
      "Output example:\n",
      "('go up', 'go right', 'go right', 'go down', 'go right')\n",
      "\n",
      "Can you find the path from the starting cell to the goal cell?\n",
      "Can you find the shortest path from the starting cell to the goal cell? Can you find the shortest\n"
     ]
    },
    {
     "name": "stderr",
     "output_type": "stream",
     "text": [
      "Setting `pad_token_id` to `eos_token_id`:50277 for open-end generation.\n"
     ]
    },
    {
     "name": "stdout",
     "output_type": "stream",
     "text": [
      "Generated text:  \n",
      "Rules:\n",
      "The path must not pass through the obstacles.\n",
      "You can move up, down, left, or right from one cell to another.\n",
      "You cannot move diagonally.\n",
      "The path must be the shortest path from the starting cell to the goal cell.\n",
      "The output should be a sequence of steps to reach the goal cell.\n",
      "\n",
      "Actions:\n",
      "Only give me the steps, like 'go up', 'go down', 'go left' or 'go right'\n",
      "go up: move one cell up, in coordinate is x - 1\n",
      "go down: move one cell down, in coordinate is x + 1\n",
      "go left: move one cell left, in coordinate is y - 1\n",
      "go right: move one cell right, in coordinate is y + 1\n",
      "\n",
      "Coordinate system:\n",
      "The top-left cell is (0, 0).\n",
      "The y-coordinate increases to the right.\n",
      "The x-coordinate increases downwards.\n",
      "The starting cell is at (0, 0).\n",
      "The goal cell is at (0, 2).\n",
      "There are some obstacles at [(1, 4), (3, 3), (3, 4)].\n",
      "\n",
      "Output example:\n",
      "('go up', 'go right', 'go right', 'go down', 'go right')\n",
      "\n",
      "Can you find the path from the starting cell to the goal cell?\n",
      "Can you find the shortest path from the starting cell to the goal cell? Can you find the shortest\n"
     ]
    },
    {
     "name": "stderr",
     "output_type": "stream",
     "text": [
      "Setting `pad_token_id` to `eos_token_id`:50277 for open-end generation.\n"
     ]
    },
    {
     "name": "stdout",
     "output_type": "stream",
     "text": [
      "Generated text:  \n",
      "Rules:\n",
      "The path must not pass through the obstacles.\n",
      "You can move up, down, left, or right from one cell to another.\n",
      "You cannot move diagonally.\n",
      "The path must be the shortest path from the starting cell to the goal cell.\n",
      "The output should be a sequence of steps to reach the goal cell.\n",
      "\n",
      "Actions:\n",
      "Only give me the steps, like 'go up', 'go down', 'go left' or 'go right'\n",
      "go up: move one cell up, in coordinate is x - 1\n",
      "go down: move one cell down, in coordinate is x + 1\n",
      "go left: move one cell left, in coordinate is y - 1\n",
      "go right: move one cell right, in coordinate is y + 1\n",
      "\n",
      "Coordinate system:\n",
      "The top-left cell is (0, 0).\n",
      "The y-coordinate increases to the right.\n",
      "The x-coordinate increases downwards.\n",
      "The starting cell is at (1, 4).\n",
      "The goal cell is at (4, 1).\n",
      "There are some obstacles at [(0, 3), (0, 4), (2, 4), (4, 0)].\n",
      "\n",
      "Output example:\n",
      "('go up', 'go right', 'go right', 'go down', 'go right')\n",
      "\n",
      "Can you find the path from the starting cell to the goal cell?\n",
      "Can you find the shortest path from the starting cell to the goal cell? Can you find the shortest\n"
     ]
    },
    {
     "name": "stderr",
     "output_type": "stream",
     "text": [
      "Setting `pad_token_id` to `eos_token_id`:50277 for open-end generation.\n"
     ]
    },
    {
     "name": "stdout",
     "output_type": "stream",
     "text": [
      "Generated text:  \n",
      "Rules:\n",
      "The path must not pass through the obstacles.\n",
      "You can move up, down, left, or right from one cell to another.\n",
      "You cannot move diagonally.\n",
      "The path must be the shortest path from the starting cell to the goal cell.\n",
      "The output should be a sequence of steps to reach the goal cell.\n",
      "\n",
      "Actions:\n",
      "Only give me the steps, like 'go up', 'go down', 'go left' or 'go right'\n",
      "go up: move one cell up, in coordinate is x - 1\n",
      "go down: move one cell down, in coordinate is x + 1\n",
      "go left: move one cell left, in coordinate is y - 1\n",
      "go right: move one cell right, in coordinate is y + 1\n",
      "\n",
      "Coordinate system:\n",
      "The top-left cell is (0, 0).\n",
      "The y-coordinate increases to the right.\n",
      "The x-coordinate increases downwards.\n",
      "The starting cell is at (1, 2).\n",
      "The goal cell is at (0, 3).\n",
      "There are some obstacles at [(0, 1), (0, 2), (1, 3), (3, 0), (3, 4)].\n",
      "\n",
      "Output example:\n",
      "('go up', 'go right', 'go right', 'go down', 'go right')\n",
      "\n",
      "Can you find the path from the starting cell to the goal cell?\n",
      "Can you find the shortest path from the starting cell to the goal cell? Can you find the shortest\n"
     ]
    },
    {
     "name": "stderr",
     "output_type": "stream",
     "text": [
      "Setting `pad_token_id` to `eos_token_id`:50277 for open-end generation.\n"
     ]
    },
    {
     "name": "stdout",
     "output_type": "stream",
     "text": [
      "Generated text:  \n",
      "Rules:\n",
      "The path must not pass through the obstacles.\n",
      "You can move up, down, left, or right from one cell to another.\n",
      "You cannot move diagonally.\n",
      "The path must be the shortest path from the starting cell to the goal cell.\n",
      "The output should be a sequence of steps to reach the goal cell.\n",
      "\n",
      "Actions:\n",
      "Only give me the steps, like 'go up', 'go down', 'go left' or 'go right'\n",
      "go up: move one cell up, in coordinate is x - 1\n",
      "go down: move one cell down, in coordinate is x + 1\n",
      "go left: move one cell left, in coordinate is y - 1\n",
      "go right: move one cell right, in coordinate is y + 1\n",
      "\n",
      "Coordinate system:\n",
      "The top-left cell is (0, 0).\n",
      "The y-coordinate increases to the right.\n",
      "The x-coordinate increases downwards.\n",
      "The starting cell is at (4, 2).\n",
      "The goal cell is at (2, 4).\n",
      "There are some obstacles at [(0, 0), (1, 0), (2, 0), (3, 1), (3, 3), (4, 0), (4, 1)].\n",
      "\n",
      "Output example:\n",
      "('go up', 'go right', 'go right', 'go down', 'go right')\n",
      "\n",
      "Can you find the path from the starting cell to the goal cell?\n",
      "Can you find the shortest path from the starting cell to the goal cell? Can you find the shortest\n"
     ]
    },
    {
     "name": "stderr",
     "output_type": "stream",
     "text": [
      "Setting `pad_token_id` to `eos_token_id`:50277 for open-end generation.\n"
     ]
    },
    {
     "name": "stdout",
     "output_type": "stream",
     "text": [
      "Generated text:  \n",
      "Rules:\n",
      "The path must not pass through the obstacles.\n",
      "You can move up, down, left, or right from one cell to another.\n",
      "You cannot move diagonally.\n",
      "The path must be the shortest path from the starting cell to the goal cell.\n",
      "The output should be a sequence of steps to reach the goal cell.\n",
      "\n",
      "Actions:\n",
      "Only give me the steps, like 'go up', 'go down', 'go left' or 'go right'\n",
      "go up: move one cell up, in coordinate is x - 1\n",
      "go down: move one cell down, in coordinate is x + 1\n",
      "go left: move one cell left, in coordinate is y - 1\n",
      "go right: move one cell right, in coordinate is y + 1\n",
      "\n",
      "Coordinate system:\n",
      "The top-left cell is (0, 0).\n",
      "The y-coordinate increases to the right.\n",
      "The x-coordinate increases downwards.\n",
      "The starting cell is at (4, 0).\n",
      "The goal cell is at (3, 2).\n",
      "There are some obstacles at [(0, 0), (0, 1), (1, 1), (1, 3), (2, 2), (3, 4)].\n",
      "\n",
      "Output example:\n",
      "('go up', 'go right', 'go right', 'go down', 'go right')\n",
      "\n",
      "Can you find the path from the starting cell to the goal cell?\n",
      "Can you find the shortest path from the starting cell to the goal cell? Can you find the shortest\n"
     ]
    },
    {
     "name": "stderr",
     "output_type": "stream",
     "text": [
      "Setting `pad_token_id` to `eos_token_id`:50277 for open-end generation.\n"
     ]
    },
    {
     "name": "stdout",
     "output_type": "stream",
     "text": [
      "Generated text:  \n",
      "Rules:\n",
      "The path must not pass through the obstacles.\n",
      "You can move up, down, left, or right from one cell to another.\n",
      "You cannot move diagonally.\n",
      "The path must be the shortest path from the starting cell to the goal cell.\n",
      "The output should be a sequence of steps to reach the goal cell.\n",
      "\n",
      "Actions:\n",
      "Only give me the steps, like 'go up', 'go down', 'go left' or 'go right'\n",
      "go up: move one cell up, in coordinate is x - 1\n",
      "go down: move one cell down, in coordinate is x + 1\n",
      "go left: move one cell left, in coordinate is y - 1\n",
      "go right: move one cell right, in coordinate is y + 1\n",
      "\n",
      "Coordinate system:\n",
      "The top-left cell is (0, 0).\n",
      "The y-coordinate increases to the right.\n",
      "The x-coordinate increases downwards.\n",
      "The starting cell is at (2, 1).\n",
      "The goal cell is at (3, 0).\n",
      "There are some obstacles at [(0, 0), (0, 3), (1, 0), (1, 2), (1, 3), (2, 2), (4, 0), (4, 3), (4, 4)].\n",
      "\n",
      "Output example:\n",
      "('go up', 'go right', 'go right', 'go down', 'go right')\n",
      "\n",
      "Can you find the path from the starting cell to the goal cell?\n",
      "Can you find the shortest path from the starting cell to the goal cell? Can you find the shortest\n"
     ]
    },
    {
     "name": "stderr",
     "output_type": "stream",
     "text": [
      "Setting `pad_token_id` to `eos_token_id`:50277 for open-end generation.\n"
     ]
    },
    {
     "name": "stdout",
     "output_type": "stream",
     "text": [
      "Generated text:  \n",
      "Rules:\n",
      "The path must not pass through the obstacles.\n",
      "You can move up, down, left, or right from one cell to another.\n",
      "You cannot move diagonally.\n",
      "The path must be the shortest path from the starting cell to the goal cell.\n",
      "The output should be a sequence of steps to reach the goal cell.\n",
      "\n",
      "Actions:\n",
      "Only give me the steps, like 'go up', 'go down', 'go left' or 'go right'\n",
      "go up: move one cell up, in coordinate is x - 1\n",
      "go down: move one cell down, in coordinate is x + 1\n",
      "go left: move one cell left, in coordinate is y - 1\n",
      "go right: move one cell right, in coordinate is y + 1\n",
      "\n",
      "Coordinate system:\n",
      "The top-left cell is (0, 0).\n",
      "The y-coordinate increases to the right.\n",
      "The x-coordinate increases downwards.\n",
      "The starting cell is at (1, 2).\n",
      "The goal cell is at (3, 1).\n",
      "There are some obstacles at [(0, 0), (0, 1), (0, 2), (1, 1), (4, 2)].\n",
      "\n",
      "Output example:\n",
      "('go up', 'go right', 'go right', 'go down', 'go right')\n",
      "\n",
      "Can you find the path from the starting cell to the goal cell?\n",
      "Can you find the shortest path from the starting cell to the goal cell? Can you find the shortest\n"
     ]
    },
    {
     "name": "stderr",
     "output_type": "stream",
     "text": [
      "Setting `pad_token_id` to `eos_token_id`:50277 for open-end generation.\n"
     ]
    },
    {
     "name": "stdout",
     "output_type": "stream",
     "text": [
      "Generated text:  \n",
      "Rules:\n",
      "The path must not pass through the obstacles.\n",
      "You can move up, down, left, or right from one cell to another.\n",
      "You cannot move diagonally.\n",
      "The path must be the shortest path from the starting cell to the goal cell.\n",
      "The output should be a sequence of steps to reach the goal cell.\n",
      "\n",
      "Actions:\n",
      "Only give me the steps, like 'go up', 'go down', 'go left' or 'go right'\n",
      "go up: move one cell up, in coordinate is x - 1\n",
      "go down: move one cell down, in coordinate is x + 1\n",
      "go left: move one cell left, in coordinate is y - 1\n",
      "go right: move one cell right, in coordinate is y + 1\n",
      "\n",
      "Coordinate system:\n",
      "The top-left cell is (0, 0).\n",
      "The y-coordinate increases to the right.\n",
      "The x-coordinate increases downwards.\n",
      "The starting cell is at (3, 4).\n",
      "The goal cell is at (2, 2).\n",
      "There are some obstacles at [(0, 0), (0, 2), (1, 0), (1, 3), (2, 4), (3, 1), (4, 4)].\n",
      "\n",
      "Output example:\n",
      "('go up', 'go right', 'go right', 'go down', 'go right')\n",
      "\n",
      "Can you find the path from the starting cell to the goal cell?\n",
      "Can you find the shortest path from the starting cell to the goal cell? Can you find the shortest\n"
     ]
    }
   ],
   "source": [
    "for query_idx in range(10):\n",
    "    dummy_vision_x, lang_x, str_prompt = generate_inputs_for_openflamingo_text(tokenizer, image_processor, dataset, query_idx=query_idx, pure_language=True)\n",
    "    \"\"\"\n",
    "    Step 4: Generate text\n",
    "    \"\"\"\n",
    "    generated_text = model.generate(\n",
    "        vision_x=dummy_vision_x,\n",
    "        lang_x=lang_x[\"input_ids\"],\n",
    "        attention_mask=lang_x[\"attention_mask\"],\n",
    "        max_new_tokens=20,\n",
    "        num_beams=3,\n",
    "    )\n",
    "    \n",
    "    print(\"Generated text: \", tokenizer.decode(generated_text[0]))"
   ]
  },
  {
   "cell_type": "markdown",
   "id": "4689827b-39d6-42c4-8f9e-d7f1bbe9ac7b",
   "metadata": {},
   "source": [
    "### 3.2.3  only ASCII Input"
   ]
  },
  {
   "cell_type": "markdown",
   "id": "5d134bfa-e62e-4436-a17b-6d700aab7a34",
   "metadata": {},
   "source": [
    "#### OpenFlamingo Only ASCII"
   ]
  },
  {
   "cell_type": "code",
   "execution_count": 20,
   "id": "f2edc4b3-fab4-4614-97a3-ef93ea74deef",
   "metadata": {
    "scrolled": true
   },
   "outputs": [
    {
     "name": "stdout",
     "output_type": "stream",
     "text": [
      "Here is the grid world:\n",
      "# . G . . \n",
      ". . . . S \n",
      ". . . . . \n",
      ". # . # . \n",
      "# . . . . \n",
      "\n",
      "The S cell is the starting cell,\n",
      "the G cell is the goal cell,\n",
      "the # cells are obstacles,\n",
      "and the . cells are free cells.\n",
      "\n",
      "Rules:\n",
      "The path must not pass through the obstacles.\n",
      "You can move up, down, left, or right from one cell to another.\n",
      "You cannot move diagonally.\n",
      "The path must be the shortest path from the starting cell to the goal cell.\n",
      "The output should be a sequence of steps to reach the goal cell.\n",
      "\n",
      "Actions:\n",
      "Only give me the steps, like 'go up', 'go down', 'go left' or 'go right'\n",
      "go up: move one cell up\n",
      "go down: move one cell down\n",
      "go left: move one cell left\n",
      "go right: move one cell right\n",
      "\n",
      "Output example:\n",
      "('go up', 'go right', 'go right', 'go down', 'go right')\n",
      "\n",
      "Can you find the path from the starting cell to the goal cell?\n",
      "\n"
     ]
    }
   ],
   "source": [
    "from src_code.data_utils.prompt_utils import generate_inputs_for_openflamingo_text\n",
    "dummy_vision_x, lang_x, str_prompt = generate_inputs_for_openflamingo_text(tokenizer, image_processor, dataset, query_idx=1, pure_language=False)\n",
    "print(str_prompt)"
   ]
  },
  {
   "cell_type": "code",
   "execution_count": 16,
   "id": "02c5e010-0f19-4aa4-8cb8-3bd49d2e4a1d",
   "metadata": {},
   "outputs": [
    {
     "name": "stderr",
     "output_type": "stream",
     "text": [
      "Setting `pad_token_id` to `eos_token_id`:50277 for open-end generation.\n"
     ]
    },
    {
     "name": "stdout",
     "output_type": "stream",
     "text": [
      "Generated text: \n",
      " Here is the grid world:\n",
      ".. G.. \n",
      ".... # \n",
      "# #... \n",
      ".. # S # \n",
      "#.... \n",
      "\n",
      "The S cell is the starting cell,\n",
      "the G cell is the goal cell,\n",
      "the # cells are obstacles,\n",
      "and the. cells are free cells.\n",
      "\n",
      "Rules:\n",
      "The path must not pass through the obstacles.\n",
      "You can move up, down, left, or right from one cell to another.\n",
      "You cannot move diagonally.\n",
      "The path must be the shortest path from the starting cell to the goal cell.\n",
      "The output should be a sequence of steps to reach the goal cell.\n",
      "\n",
      "Actions:\n",
      "Only give me the steps, like 'go up', 'go down', 'go left' or 'go right'\n",
      "go up: move one cell up, in coordinate is x - 1\n",
      "go down: move one cell down, in coordinate is x + 1\n",
      "go left: move one cell left, in coordinate is y - 1\n",
      "go right: move one cell right, in coordinate is y + 1\n",
      "\n",
      "Output example:\n",
      "Can you find the path from the starting cell to the goal cell?\n",
      "Output example: Can you find the path from the starting cell to the goal cell? Here is the\n"
     ]
    },
    {
     "name": "stderr",
     "output_type": "stream",
     "text": [
      "Setting `pad_token_id` to `eos_token_id`:50277 for open-end generation.\n"
     ]
    },
    {
     "name": "stdout",
     "output_type": "stream",
     "text": [
      "Generated text: \n",
      " Here is the grid world:\n",
      "#. G.. \n",
      ".... S \n",
      "..... \n",
      ". #. #. \n",
      "#.... \n",
      "\n",
      "The S cell is the starting cell,\n",
      "the G cell is the goal cell,\n",
      "the # cells are obstacles,\n",
      "and the. cells are free cells.\n",
      "\n",
      "Rules:\n",
      "The path must not pass through the obstacles.\n",
      "You can move up, down, left, or right from one cell to another.\n",
      "You cannot move diagonally.\n",
      "The path must be the shortest path from the starting cell to the goal cell.\n",
      "The output should be a sequence of steps to reach the goal cell.\n",
      "\n",
      "Actions:\n",
      "Only give me the steps, like 'go up', 'go down', 'go left' or 'go right'\n",
      "go up: move one cell up, in coordinate is x - 1\n",
      "go down: move one cell down, in coordinate is x + 1\n",
      "go left: move one cell left, in coordinate is y - 1\n",
      "go right: move one cell right, in coordinate is y + 1\n",
      "\n",
      "Output example:\n",
      "Can you find the path from the starting cell to the goal cell?\n",
      "Answer: The path from the starting cell to the goal cell is: go up, go down,\n"
     ]
    },
    {
     "name": "stderr",
     "output_type": "stream",
     "text": [
      "Setting `pad_token_id` to `eos_token_id`:50277 for open-end generation.\n"
     ]
    },
    {
     "name": "stdout",
     "output_type": "stream",
     "text": [
      "Generated text: \n",
      " Here is the grid world:\n",
      "S. G.. \n",
      ".... # \n",
      "..... \n",
      "... # # \n",
      "..... \n",
      "\n",
      "The S cell is the starting cell,\n",
      "the G cell is the goal cell,\n",
      "the # cells are obstacles,\n",
      "and the. cells are free cells.\n",
      "\n",
      "Rules:\n",
      "The path must not pass through the obstacles.\n",
      "You can move up, down, left, or right from one cell to another.\n",
      "You cannot move diagonally.\n",
      "The path must be the shortest path from the starting cell to the goal cell.\n",
      "The output should be a sequence of steps to reach the goal cell.\n",
      "\n",
      "Actions:\n",
      "Only give me the steps, like 'go up', 'go down', 'go left' or 'go right'\n",
      "go up: move one cell up, in coordinate is x - 1\n",
      "go down: move one cell down, in coordinate is x + 1\n",
      "go left: move one cell left, in coordinate is y - 1\n",
      "go right: move one cell right, in coordinate is y + 1\n",
      "\n",
      "Output example:\n",
      "Can you find the path from the starting cell to the goal cell?\n",
      "Output example: Can you find the path from the starting cell to the goal cell? Here is the\n"
     ]
    },
    {
     "name": "stderr",
     "output_type": "stream",
     "text": [
      "Setting `pad_token_id` to `eos_token_id`:50277 for open-end generation.\n"
     ]
    },
    {
     "name": "stdout",
     "output_type": "stream",
     "text": [
      "Generated text: \n",
      " Here is the grid world:\n",
      "... # # \n",
      ".... S \n",
      ".... # \n",
      "..... \n",
      "# G... \n",
      "\n",
      "The S cell is the starting cell,\n",
      "the G cell is the goal cell,\n",
      "the # cells are obstacles,\n",
      "and the. cells are free cells.\n",
      "\n",
      "Rules:\n",
      "The path must not pass through the obstacles.\n",
      "You can move up, down, left, or right from one cell to another.\n",
      "You cannot move diagonally.\n",
      "The path must be the shortest path from the starting cell to the goal cell.\n",
      "The output should be a sequence of steps to reach the goal cell.\n",
      "\n",
      "Actions:\n",
      "Only give me the steps, like 'go up', 'go down', 'go left' or 'go right'\n",
      "go up: move one cell up, in coordinate is x - 1\n",
      "go down: move one cell down, in coordinate is x + 1\n",
      "go left: move one cell left, in coordinate is y - 1\n",
      "go right: move one cell right, in coordinate is y + 1\n",
      "\n",
      "Output example:\n",
      "Can you find the path from the starting cell to the goal cell?\n",
      "Output example: Can you find the shortest path from the starting cell to the goal cell? Output example\n"
     ]
    },
    {
     "name": "stderr",
     "output_type": "stream",
     "text": [
      "Setting `pad_token_id` to `eos_token_id`:50277 for open-end generation.\n"
     ]
    },
    {
     "name": "stdout",
     "output_type": "stream",
     "text": [
      "Generated text: \n",
      " Here is the grid world:\n",
      ". # # G. \n",
      ".. S #. \n",
      "..... \n",
      "#... # \n",
      "..... \n",
      "\n",
      "The S cell is the starting cell,\n",
      "the G cell is the goal cell,\n",
      "the # cells are obstacles,\n",
      "and the. cells are free cells.\n",
      "\n",
      "Rules:\n",
      "The path must not pass through the obstacles.\n",
      "You can move up, down, left, or right from one cell to another.\n",
      "You cannot move diagonally.\n",
      "The path must be the shortest path from the starting cell to the goal cell.\n",
      "The output should be a sequence of steps to reach the goal cell.\n",
      "\n",
      "Actions:\n",
      "Only give me the steps, like 'go up', 'go down', 'go left' or 'go right'\n",
      "go up: move one cell up, in coordinate is x - 1\n",
      "go down: move one cell down, in coordinate is x + 1\n",
      "go left: move one cell left, in coordinate is y - 1\n",
      "go right: move one cell right, in coordinate is y + 1\n",
      "\n",
      "Output example:\n",
      "Can you find the path from the starting cell to the goal cell?\n",
      "Output example: Can you find the shortest path from the starting cell to the goal cell? Output example\n"
     ]
    },
    {
     "name": "stderr",
     "output_type": "stream",
     "text": [
      "Setting `pad_token_id` to `eos_token_id`:50277 for open-end generation.\n"
     ]
    },
    {
     "name": "stdout",
     "output_type": "stream",
     "text": [
      "Generated text: \n",
      " Here is the grid world:\n",
      "#.... \n",
      "#.... \n",
      "#... G \n",
      ". #. #. \n",
      "# # S.. \n",
      "\n",
      "The S cell is the starting cell,\n",
      "the G cell is the goal cell,\n",
      "the # cells are obstacles,\n",
      "and the. cells are free cells.\n",
      "\n",
      "Rules:\n",
      "The path must not pass through the obstacles.\n",
      "You can move up, down, left, or right from one cell to another.\n",
      "You cannot move diagonally.\n",
      "The path must be the shortest path from the starting cell to the goal cell.\n",
      "The output should be a sequence of steps to reach the goal cell.\n",
      "\n",
      "Actions:\n",
      "Only give me the steps, like 'go up', 'go down', 'go left' or 'go right'\n",
      "go up: move one cell up, in coordinate is x - 1\n",
      "go down: move one cell down, in coordinate is x + 1\n",
      "go left: move one cell left, in coordinate is y - 1\n",
      "go right: move one cell right, in coordinate is y + 1\n",
      "\n",
      "Output example:\n",
      "Can you find the path from the starting cell to the goal cell?\n",
      "Output example: Can you find the shortest path from the starting cell to the goal cell? Output example\n"
     ]
    },
    {
     "name": "stderr",
     "output_type": "stream",
     "text": [
      "Setting `pad_token_id` to `eos_token_id`:50277 for open-end generation.\n"
     ]
    },
    {
     "name": "stdout",
     "output_type": "stream",
     "text": [
      "Generated text: \n",
      " Here is the grid world:\n",
      "# #... \n",
      ". #. #. \n",
      ".. #.. \n",
      ".. G. # \n",
      "S.... \n",
      "\n",
      "The S cell is the starting cell,\n",
      "the G cell is the goal cell,\n",
      "the # cells are obstacles,\n",
      "and the. cells are free cells.\n",
      "\n",
      "Rules:\n",
      "The path must not pass through the obstacles.\n",
      "You can move up, down, left, or right from one cell to another.\n",
      "You cannot move diagonally.\n",
      "The path must be the shortest path from the starting cell to the goal cell.\n",
      "The output should be a sequence of steps to reach the goal cell.\n",
      "\n",
      "Actions:\n",
      "Only give me the steps, like 'go up', 'go down', 'go left' or 'go right'\n",
      "go up: move one cell up, in coordinate is x - 1\n",
      "go down: move one cell down, in coordinate is x + 1\n",
      "go left: move one cell left, in coordinate is y - 1\n",
      "go right: move one cell right, in coordinate is y + 1\n",
      "\n",
      "Output example:\n",
      "Can you find the path from the starting cell to the goal cell?\n",
      "Output example: Can you find the shortest path from the starting cell to the goal cell? Output example\n"
     ]
    },
    {
     "name": "stderr",
     "output_type": "stream",
     "text": [
      "Setting `pad_token_id` to `eos_token_id`:50277 for open-end generation.\n"
     ]
    },
    {
     "name": "stdout",
     "output_type": "stream",
     "text": [
      "Generated text: \n",
      " Here is the grid world:\n",
      "#.. #. \n",
      "#. # #. \n",
      ". S #.. \n",
      "G.... \n",
      "#.. # # \n",
      "\n",
      "The S cell is the starting cell,\n",
      "the G cell is the goal cell,\n",
      "the # cells are obstacles,\n",
      "and the. cells are free cells.\n",
      "\n",
      "Rules:\n",
      "The path must not pass through the obstacles.\n",
      "You can move up, down, left, or right from one cell to another.\n",
      "You cannot move diagonally.\n",
      "The path must be the shortest path from the starting cell to the goal cell.\n",
      "The output should be a sequence of steps to reach the goal cell.\n",
      "\n",
      "Actions:\n",
      "Only give me the steps, like 'go up', 'go down', 'go left' or 'go right'\n",
      "go up: move one cell up, in coordinate is x - 1\n",
      "go down: move one cell down, in coordinate is x + 1\n",
      "go left: move one cell left, in coordinate is y - 1\n",
      "go right: move one cell right, in coordinate is y + 1\n",
      "\n",
      "Output example:\n",
      "Can you find the path from the starting cell to the goal cell?\n",
      "Output example: Can you find the path from the starting cell to the goal cell? Here is the\n"
     ]
    },
    {
     "name": "stderr",
     "output_type": "stream",
     "text": [
      "Setting `pad_token_id` to `eos_token_id`:50277 for open-end generation.\n"
     ]
    },
    {
     "name": "stdout",
     "output_type": "stream",
     "text": [
      "Generated text: \n",
      " Here is the grid world:\n",
      "# # #.. \n",
      ". # S.. \n",
      "..... \n",
      ". G... \n",
      ".. #.. \n",
      "\n",
      "The S cell is the starting cell,\n",
      "the G cell is the goal cell,\n",
      "the # cells are obstacles,\n",
      "and the. cells are free cells.\n",
      "\n",
      "Rules:\n",
      "The path must not pass through the obstacles.\n",
      "You can move up, down, left, or right from one cell to another.\n",
      "You cannot move diagonally.\n",
      "The path must be the shortest path from the starting cell to the goal cell.\n",
      "The output should be a sequence of steps to reach the goal cell.\n",
      "\n",
      "Actions:\n",
      "Only give me the steps, like 'go up', 'go down', 'go left' or 'go right'\n",
      "go up: move one cell up, in coordinate is x - 1\n",
      "go down: move one cell down, in coordinate is x + 1\n",
      "go left: move one cell left, in coordinate is y - 1\n",
      "go right: move one cell right, in coordinate is y + 1\n",
      "\n",
      "Output example:\n",
      "Can you find the path from the starting cell to the goal cell?\n",
      "The output should be a sequence of steps to reach the goal cell. Go up: move one cell\n"
     ]
    },
    {
     "name": "stderr",
     "output_type": "stream",
     "text": [
      "Setting `pad_token_id` to `eos_token_id`:50277 for open-end generation.\n"
     ]
    },
    {
     "name": "stdout",
     "output_type": "stream",
     "text": [
      "Generated text: \n",
      " Here is the grid world:\n",
      "#. #.. \n",
      "#.. #. \n",
      ".. G. # \n",
      ". #.. S \n",
      ".... # \n",
      "\n",
      "The S cell is the starting cell,\n",
      "the G cell is the goal cell,\n",
      "the # cells are obstacles,\n",
      "and the. cells are free cells.\n",
      "\n",
      "Rules:\n",
      "The path must not pass through the obstacles.\n",
      "You can move up, down, left, or right from one cell to another.\n",
      "You cannot move diagonally.\n",
      "The path must be the shortest path from the starting cell to the goal cell.\n",
      "The output should be a sequence of steps to reach the goal cell.\n",
      "\n",
      "Actions:\n",
      "Only give me the steps, like 'go up', 'go down', 'go left' or 'go right'\n",
      "go up: move one cell up, in coordinate is x - 1\n",
      "go down: move one cell down, in coordinate is x + 1\n",
      "go left: move one cell left, in coordinate is y - 1\n",
      "go right: move one cell right, in coordinate is y + 1\n",
      "\n",
      "Output example:\n",
      "Can you find the path from the starting cell to the goal cell?\n",
      "The output should be a sequence of steps to reach the goal cell. Go up: move one cell\n"
     ]
    }
   ],
   "source": [
    "from src_code.data_utils.prompt_utils import generate_inputs_for_openflamingo_text\n",
    "\n",
    "\"\"\"\n",
    "Step 4: Generate text\n",
    "\"\"\"\n",
    "for query_idx in range(10):\n",
    "    dummy_vision_x, lang_x, str_prompt = generate_inputs_for_openflamingo_text(tokenizer, image_processor, dataset, query_idx=query_idx, pure_language=False)\n",
    "    generated_text = model.generate(\n",
    "        vision_x=dummy_vision_x,\n",
    "        lang_x=lang_x[\"input_ids\"],\n",
    "        attention_mask=lang_x[\"attention_mask\"],\n",
    "        max_new_tokens=20,\n",
    "        num_beams=3,\n",
    "    )\n",
    "    print(\"Generated text: \\n\", tokenizer.decode(generated_text[0]))"
   ]
  },
  {
   "cell_type": "markdown",
   "id": "95cb816a-50c5-454f-a2de-133678b83f99",
   "metadata": {},
   "source": [
    "# What we tried.\n",
    "1. directly prompt - garbage answer\n",
    "2. one shot propmt - ???\n",
    "3. two shot prompt - doesnt work\n",
    "4. different image resolutions\n",
    "5. ascii\n",
    "6. bigger models??"
   ]
  }
 ],
 "metadata": {
  "kernelspec": {
   "display_name": "Python 3 (ipykernel)",
   "language": "python",
   "name": "python3"
  },
  "language_info": {
   "codemirror_mode": {
    "name": "ipython",
    "version": 3
   },
   "file_extension": ".py",
   "mimetype": "text/x-python",
   "name": "python",
   "nbconvert_exporter": "python",
   "pygments_lexer": "ipython3",
   "version": "3.10.12"
  }
 },
 "nbformat": 4,
 "nbformat_minor": 5
}
