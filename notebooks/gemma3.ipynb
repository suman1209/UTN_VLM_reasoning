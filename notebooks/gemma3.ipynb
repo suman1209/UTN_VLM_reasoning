{
 "cells": [
  {
   "cell_type": "code",
   "execution_count": null,
   "metadata": {},
   "outputs": [],
   "source": [
    "# Configs\n",
    "%load_ext autoreload\n",
    "%autoreload 3\n",
    "import sys\n",
    "sys.path.insert(0, \"../\")\n",
    "from src_code.data_utils.dataset import GridDataset\n",
    "from src_code.data_utils.dataset_utils import CellType\n",
    "from src_code.data_utils.prompt_utils import prompt_generator\n",
    "from src_code.model_utils.gemma3 import Gemma3Model\n",
    "from src_code.eval_utils.eval import calculate_score, eval_results\n",
    "\n",
    "import ast\n",
    "\n",
    "model = Gemma3Model()\n",
    "EVAL_NUM = 100\n"
   ]
  },
  {
   "cell_type": "markdown",
   "metadata": {},
   "source": [
    "# Example"
   ]
  },
  {
   "cell_type": "code",
   "execution_count": null,
   "metadata": {},
   "outputs": [],
   "source": [
    "reuslt = model.inference(\n",
    "    \"Describe this image in detail.\", \n",
    "    img=\"https://huggingface.co/datasets/huggingface/documentation-images/resolve/main/bee.jpg\"\n",
    ")\n",
    "print(reuslt)"
   ]
  },
  {
   "cell_type": "markdown",
   "metadata": {},
   "source": [
    "# Our dataset"
   ]
  },
  {
   "cell_type": "code",
   "execution_count": null,
   "metadata": {},
   "outputs": [],
   "source": [
    "dataset = GridDataset(grid_size=5, seed = 42, wall_symbol=\"#\", free_symbol=\".\")"
   ]
  },
  {
   "cell_type": "markdown",
   "metadata": {},
   "source": [
    "# ASCII Input Only"
   ]
  },
  {
   "cell_type": "code",
   "execution_count": null,
   "metadata": {},
   "outputs": [],
   "source": [
    "img, grid_world = dataset[10]\n",
    "prompt_img = prompt_generator(grid_world, pure_language=False, img=None, img_symbol=\"This image\")\n",
    "print(prompt_img)"
   ]
  },
  {
   "cell_type": "code",
   "execution_count": null,
   "metadata": {},
   "outputs": [],
   "source": [
    "img"
   ]
  },
  {
   "cell_type": "markdown",
   "metadata": {},
   "source": [
    "# Inference"
   ]
  },
  {
   "cell_type": "code",
   "execution_count": null,
   "metadata": {},
   "outputs": [],
   "source": [
    "reuslt = model.inference(\n",
    "    \"\"\"Here is the grid world:\n",
    " . . . . .\n",
    " # . . . .\n",
    " . # . . .\n",
    " . . . G .\n",
    " S . # . .\n",
    "\n",
    "The S cell is the starting cell,\n",
    "the G cell is the goal cell,\n",
    "the # cells are obstacles,\n",
    "and the . cells are free cells.\n",
    "\n",
    "Rules:\n",
    "The grid size is 5x5\n",
    "The path must not pass through the obstacles.\n",
    "You can move up, down, left, or right from one cell to another.\n",
    "You cannot move diagonally.\n",
    "The path must be the shortest path from the starting cell to the goal cell.\n",
    "The output should be a sequence of steps to reach the goal cell.\n",
    "Output the steps only.\n",
    "\n",
    "Actions:\n",
    "Only give me the steps, like 'go up', 'go down', 'go left', 'go right' or 'not solvable'\n",
    "go up: move one cell up\n",
    "go down: move one cell down\n",
    "go left: move one cell left\n",
    "go right: move one cell right\n",
    "not solvable: it is not possible to go the the goal cell from the start cell\n",
    "\n",
    "Output example:\n",
    "('go up', 'go right', 'go right', 'go down', 'go right') or ('not solvable')\n",
    "\n",
    "Can you find the path from the starting cell to the goal cell?\"\"\", \n",
    "    img=\"https://huggingface.co/datasets/huggingface/documentation-images/resolve/main/bee.jpg\"\n",
    ")\n",
    "print(reuslt)"
   ]
  },
  {
   "cell_type": "markdown",
   "metadata": {},
   "source": [
    "# Eval"
   ]
  },
  {
   "cell_type": "code",
   "execution_count": null,
   "metadata": {},
   "outputs": [],
   "source": [
    "path_results_img = []\n",
    "path_results_ascii = []\n",
    "path_results_coor = []\n",
    "path_results_img_raw = []\n",
    "path_results_ascii_raw = []\n",
    "path_results_coor_raw = []\n",
    "EVAL_NUM = 1\n",
    "for i in range(EVAL_NUM):\n",
    "    img_rgb, grid_world = dataset[i]\n",
    "    prompt_img = prompt_generator(grid_world, pure_language=False, img=True, img_symbol=\"This image\")\n",
    "    prompt_ascii = prompt_generator(grid_world, pure_language=False)\n",
    "    prompt_coor = prompt_generator(grid_world, pure_language=True)\n",
    "    path_result_img = model.inference(\n",
    "        prompt_img, \n",
    "        img=img_rgb\n",
    "    )\n",
    "    patj_result_ascii = model.inference(\n",
    "        prompt_ascii\n",
    "    )\n",
    "    path_result_coor = model.inference(\n",
    "        prompt_coor\n",
    "    )\n",
    "    path_results_img_raw.append(path_result_img)\n",
    "    path_results_ascii_raw.append(patj_result_ascii)\n",
    "    path_results_coor_raw.append(path_result_coor)\n",
    "    try:\n",
    "        print(f\"{path_result_img=}\")\n",
    "        path_result_img = ast.literal_eval(path_result_img)\n",
    "        print(f\"{path_result_img=}\")\n",
    "        path_results_img.append(path_result_img)\n",
    "    except Exception as e:\n",
    "        print(f\"{e=}\")\n",
    "        print(f\"Fail to parse path_result_img\")\n",
    "    try:\n",
    "        print(f\"{patj_result_ascii=}\")\n",
    "        path_result_ascii = ast.literal_eval(patj_result_ascii)\n",
    "        path_results_ascii.append(path_result_ascii)\n",
    "        print(f\"{path_result_ascii=}\")\n",
    "    except Exception as e:\n",
    "        print(f\"{e=}\")\n",
    "        print(f\"Fail to parse path_result_ascii\")\n",
    "    try:\n",
    "        print(f\"{path_result_coor=}\")\n",
    "        path_result_coor = ast.literal_eval(path_result_coor)\n",
    "        print(f\"{path_result_coor=}\")\n",
    "        path_results_coor.append(path_result_coor)\n",
    "    except Exception as e:\n",
    "        print(f\"{e=}\")\n",
    "        print(f\"Fail to parse path_result_coor\")\n",
    "    print(f\"{grid_world.a_star()=}\\n\")\n",
    "\n",
    "eval_result_img = eval_results(path_results_img, dataset)\n",
    "eval_result_ascii = eval_results(path_results_ascii, dataset)\n",
    "eval_result_coor = eval_results(path_results_coor, dataset)\n",
    "print(f\"{eval_result_img=}\")\n",
    "print(f\"{eval_result_ascii=}\")\n",
    "print(f\"{eval_result_coor=}\")\n",
    "result = {\"img\": eval_result_img, \"ascii\": eval_result_ascii, \"coor\": eval_result_coor}"
   ]
  },
  {
   "cell_type": "code",
   "execution_count": null,
   "metadata": {},
   "outputs": [],
   "source": [
    "result"
   ]
  },
  {
   "cell_type": "code",
   "execution_count": null,
   "metadata": {},
   "outputs": [],
   "source": [
    "import json\n",
    "\n",
    "with open('../result_gemma3_100.json', 'w') as f:\n",
    "    json.dump(result, f, indent=4)\n",
    "\n",
    "with open('../gemma3_results_img_raw.json', 'w') as f:\n",
    "    json.dump(path_results_img_raw, f, indent=4)\n",
    "\n",
    "with open('../gemma3_results_ascii_raw.json', 'w') as f:\n",
    "    json.dump(path_results_ascii_raw, f, indent=4)\n",
    "\n",
    "with open('../gemma3_results_coor_raw.json', 'w') as f:\n",
    "    json.dump(path_results_coor_raw, f, indent=4)"
   ]
  },
  {
   "cell_type": "code",
   "execution_count": null,
   "metadata": {},
   "outputs": [],
   "source": [
    "%load_ext autoreload\n",
    "%autoreload 3\n",
    "import sys\n",
    "sys.path.insert(0, \"../\")\n",
    "import json\n",
    "from src_code.data_utils.dataset import GridDataset\n",
    "from src_code.eval_utils.eval import calculate_score, eval_results\n",
    "import ast\n",
    "dataset = GridDataset(grid_size=5, seed = 42, wall_symbol=\"#\", free_symbol=\".\")"
   ]
  },
  {
   "cell_type": "code",
   "execution_count": null,
   "metadata": {},
   "outputs": [],
   "source": [
    "# read the results\n",
    "path_results_img = []\n",
    "path_results_ascii = []\n",
    "path_results_coor = []\n",
    "with open('../gemma3_results_img_raw.json', 'r') as f:\n",
    "    path_results_img_raw = json.load(f)\n",
    "\n",
    "with open('../gemma3_results_ascii_raw.json', 'r') as f:\n",
    "    path_results_ascii_raw = json.load(f)\n",
    "\n",
    "with open('../gemma3_results_coor_raw.json', 'r') as f:\n",
    "    path_results_coor_raw = json.load(f)\n",
    "\n",
    "for i, content in enumerate(path_results_img_raw):\n",
    "    r = None\n",
    "    try:\n",
    "        r = ast.literal_eval(content)\n",
    "        if type(r) == str:\n",
    "            r = (r,)\n",
    "    except Exception as e:\n",
    "        print(\"Imgae result parsing error\")\n",
    "    path_results_img.append(r)\n",
    "\n",
    "for i, content in enumerate(path_results_ascii_raw):\n",
    "    r = None\n",
    "    try:\n",
    "        r = ast.literal_eval(content)\n",
    "        if type(r) == str:\n",
    "            r = (r,)\n",
    "    except Exception as e:\n",
    "        print(\"Ascii result parsing error\")\n",
    "    path_results_ascii.append(r)\n",
    "\n",
    "for i, content in enumerate(path_results_coor_raw):\n",
    "    r = None\n",
    "    try:\n",
    "        r = ast.literal_eval(content)\n",
    "        if type(r) == str:\n",
    "            r = (r,)\n",
    "    except Exception as e:\n",
    "        print(\"coor result parsing error\")\n",
    "    path_results_coor.append(r)\n",
    "\n",
    "eval_result_img = eval_results(path_results_img, dataset)\n",
    "eval_result_ascii = eval_results(path_results_ascii, dataset)\n",
    "eval_result_coor = eval_results(path_results_coor, dataset)\n",
    "print(f\"{eval_result_img=}\")\n",
    "print(f\"{eval_result_ascii=}\")\n",
    "print(f\"{eval_result_coor=}\")\n",
    "result = {\"img\": eval_result_img, \"ascii\": eval_result_ascii, \"coor\": eval_result_coor}"
   ]
  },
  {
   "cell_type": "code",
   "execution_count": null,
   "metadata": {},
   "outputs": [],
   "source": []
  }
 ],
 "metadata": {
  "kernelspec": {
   "display_name": "Python 3 (ipykernel)",
   "language": "python",
   "name": "python3"
  },
  "language_info": {
   "codemirror_mode": {
    "name": "ipython",
    "version": 3
   },
   "file_extension": ".py",
   "mimetype": "text/x-python",
   "name": "python",
   "nbconvert_exporter": "python",
   "pygments_lexer": "ipython3",
   "version": "3.10.12"
  }
 },
 "nbformat": 4,
 "nbformat_minor": 4
}
